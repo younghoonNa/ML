{
  "nbformat": 4,
  "nbformat_minor": 0,
  "metadata": {
    "colab": {
      "name": "머신러닝_Week1.ipynb",
      "provenance": [],
      "collapsed_sections": []
    },
    "kernelspec": {
      "name": "python3",
      "display_name": "Python 3"
    },
    "language_info": {
      "name": "python"
    },
    "gpuClass": "standard"
  },
  "cells": [
    {
      "cell_type": "markdown",
      "source": [
        "# 머신러닝 1주차 실습 // 파이썬 기초, Numpy, Pandas"
      ],
      "metadata": {
        "id": "bKMBvzlBvBn5"
      }
    },
    {
      "cell_type": "markdown",
      "source": [
        "## 파이썬 변수"
      ],
      "metadata": {
        "id": "hisPtG6qu-rw"
      }
    },
    {
      "cell_type": "code",
      "execution_count": 1,
      "metadata": {
        "id": "zK-hmU_nsD_K"
      },
      "outputs": [],
      "source": [
        "a = 10\n",
        "b = 3.14\n",
        "c = 'h'\n",
        "d = 'hello'\n",
        "e = True"
      ]
    },
    {
      "cell_type": "code",
      "source": [
        "a,b,c,d,e"
      ],
      "metadata": {
        "id": "Vkwy67DSsM0i",
        "colab": {
          "base_uri": "https://localhost:8080/"
        },
        "outputId": "6d6d02e8-d2c1-46ab-bf0b-aaba4aecc5de"
      },
      "execution_count": 2,
      "outputs": [
        {
          "output_type": "execute_result",
          "data": {
            "text/plain": [
              "(10, 3.14, 'h', 'hello', True)"
            ]
          },
          "metadata": {},
          "execution_count": 2
        }
      ]
    },
    {
      "cell_type": "code",
      "source": [
        "type(a), type(b), type(c), type(d), type(e)"
      ],
      "metadata": {
        "id": "qGDEYPL6tp_K",
        "colab": {
          "base_uri": "https://localhost:8080/"
        },
        "outputId": "ef4e0541-3e46-499f-f1e4-922a3ad98d42"
      },
      "execution_count": 3,
      "outputs": [
        {
          "output_type": "execute_result",
          "data": {
            "text/plain": [
              "(int, float, str, str, bool)"
            ]
          },
          "metadata": {},
          "execution_count": 3
        }
      ]
    },
    {
      "cell_type": "code",
      "source": [
        "d * 3 "
      ],
      "metadata": {
        "colab": {
          "base_uri": "https://localhost:8080/",
          "height": 36
        },
        "id": "or-jbe4Pt2eH",
        "outputId": "d233daf7-63a4-497a-8445-d65a36711788"
      },
      "execution_count": 4,
      "outputs": [
        {
          "output_type": "execute_result",
          "data": {
            "text/plain": [
              "'hellohellohello'"
            ],
            "application/vnd.google.colaboratory.intrinsic+json": {
              "type": "string"
            }
          },
          "metadata": {},
          "execution_count": 4
        }
      ]
    },
    {
      "cell_type": "code",
      "source": [
        "d[0:3]"
      ],
      "metadata": {
        "colab": {
          "base_uri": "https://localhost:8080/",
          "height": 36
        },
        "id": "hfJlei5RuzXC",
        "outputId": "461199b6-e565-4341-85e6-8e99c6ca2e17"
      },
      "execution_count": 5,
      "outputs": [
        {
          "output_type": "execute_result",
          "data": {
            "text/plain": [
              "'hel'"
            ],
            "application/vnd.google.colaboratory.intrinsic+json": {
              "type": "string"
            }
          },
          "metadata": {},
          "execution_count": 5
        }
      ]
    },
    {
      "cell_type": "markdown",
      "source": [
        "## 파이썬 List, Tuple, dictionary, set"
      ],
      "metadata": {
        "id": "y8q5leWovIPZ"
      }
    },
    {
      "cell_type": "markdown",
      "source": [
        "### 리스트 : 여러 가지 형태의 값을 하나의 순서가 있는 형태로 묶어놓은 것\n",
        "- 항목들은 쉼표로 구분하고, 대괄호 [ ]  안에 포함됨\n",
        "- 각 항목들은 변경이 `가능`\n",
        "- 변수를 리스트로 만들기 위해서 list 함수를 사용"
      ],
      "metadata": {
        "id": "Ib1Y0Aq_wqCA"
      }
    },
    {
      "cell_type": "code",
      "source": [
        "li1 = [1,2,3,4]\n",
        "li2 = [\"Hello\", \"World\"]\n",
        "li3 = [1,2, \"3\", \"Hello\", 3.14]"
      ],
      "metadata": {
        "id": "dQaxAz1eu1dp"
      },
      "execution_count": 6,
      "outputs": []
    },
    {
      "cell_type": "code",
      "source": [
        "li1, li2, li3"
      ],
      "metadata": {
        "colab": {
          "base_uri": "https://localhost:8080/"
        },
        "id": "GZDqkb7qwEeM",
        "outputId": "a6079663-fe0d-41ce-b7e7-fa662f61c354"
      },
      "execution_count": 7,
      "outputs": [
        {
          "output_type": "execute_result",
          "data": {
            "text/plain": [
              "([1, 2, 3, 4], ['Hello', 'World'], [1, 2, '3', 'Hello', 3.14])"
            ]
          },
          "metadata": {},
          "execution_count": 7
        }
      ]
    },
    {
      "cell_type": "code",
      "source": [
        "type(li1), type(li2), type(li3)"
      ],
      "metadata": {
        "colab": {
          "base_uri": "https://localhost:8080/"
        },
        "id": "C1_-2TlHwNJx",
        "outputId": "4cff751a-5b09-4de8-ddf0-4e697e32a496"
      },
      "execution_count": 8,
      "outputs": [
        {
          "output_type": "execute_result",
          "data": {
            "text/plain": [
              "(list, list, list)"
            ]
          },
          "metadata": {},
          "execution_count": 8
        }
      ]
    },
    {
      "cell_type": "code",
      "source": [
        "li1[0], li2[0], li2[0][0], li3[4]"
      ],
      "metadata": {
        "colab": {
          "base_uri": "https://localhost:8080/"
        },
        "id": "14OPOelqwQky",
        "outputId": "e096ea51-2156-4693-d8ac-9b81fa8421f0"
      },
      "execution_count": 9,
      "outputs": [
        {
          "output_type": "execute_result",
          "data": {
            "text/plain": [
              "(1, 'Hello', 'H', 3.14)"
            ]
          },
          "metadata": {},
          "execution_count": 9
        }
      ]
    },
    {
      "cell_type": "code",
      "source": [
        "li1[0] = 1000\n",
        "li1"
      ],
      "metadata": {
        "colab": {
          "base_uri": "https://localhost:8080/"
        },
        "id": "iSV0OfvExGuL",
        "outputId": "679713a8-c07e-4e3c-b316-2281c2c7b550"
      },
      "execution_count": 10,
      "outputs": [
        {
          "output_type": "execute_result",
          "data": {
            "text/plain": [
              "[1000, 2, 3, 4]"
            ]
          },
          "metadata": {},
          "execution_count": 10
        }
      ]
    },
    {
      "cell_type": "markdown",
      "source": [
        "### 튜플 : 여러가지 형태의 값을 하나의 순서가 있는 형태로 묶어놓은 것\n",
        "- 리스트와 비슷하나 소괄호 () 안에 포함됨\n",
        "- 각 항목들은 변경이 불가능"
      ],
      "metadata": {
        "id": "82wN5nPVw31x"
      }
    },
    {
      "cell_type": "code",
      "source": [
        "tuple1 = (1,2,3,4,5)\n",
        "tuple2 = (\"Hello\", \"World\")\n",
        "tuple3 = (1,2, \"Hello\", \"W\", \"orld\")"
      ],
      "metadata": {
        "id": "LoLRIVOewXR5"
      },
      "execution_count": 11,
      "outputs": []
    },
    {
      "cell_type": "code",
      "source": [
        "tuple1, tuple2, tuple3"
      ],
      "metadata": {
        "colab": {
          "base_uri": "https://localhost:8080/"
        },
        "id": "pFo8_vmzxWKy",
        "outputId": "a01cc79e-5a34-436f-ecf4-a18475afd918"
      },
      "execution_count": 12,
      "outputs": [
        {
          "output_type": "execute_result",
          "data": {
            "text/plain": [
              "((1, 2, 3, 4, 5), ('Hello', 'World'), (1, 2, 'Hello', 'W', 'orld'))"
            ]
          },
          "metadata": {},
          "execution_count": 12
        }
      ]
    },
    {
      "cell_type": "code",
      "source": [
        "type(tuple1) , type(tuple2), type(tuple3)"
      ],
      "metadata": {
        "colab": {
          "base_uri": "https://localhost:8080/"
        },
        "id": "Knj6NGfbxY4c",
        "outputId": "892e2af5-42a1-4b37-9b20-27a37cdf877d"
      },
      "execution_count": 13,
      "outputs": [
        {
          "output_type": "execute_result",
          "data": {
            "text/plain": [
              "(tuple, tuple, tuple)"
            ]
          },
          "metadata": {},
          "execution_count": 13
        }
      ]
    },
    {
      "cell_type": "code",
      "source": [
        "tuple1[0], tuple2[1], tuple3[4]"
      ],
      "metadata": {
        "colab": {
          "base_uri": "https://localhost:8080/"
        },
        "id": "RbsmK9Npxdxb",
        "outputId": "32d28128-42b9-4d09-8c12-5d3437d135b4"
      },
      "execution_count": 14,
      "outputs": [
        {
          "output_type": "execute_result",
          "data": {
            "text/plain": [
              "(1, 'World', 'orld')"
            ]
          },
          "metadata": {},
          "execution_count": 14
        }
      ]
    },
    {
      "cell_type": "code",
      "source": [
        "# Error 발생\n",
        "# tuple1[0] = 10000"
      ],
      "metadata": {
        "id": "YoVYokgSxs2L"
      },
      "execution_count": 15,
      "outputs": []
    },
    {
      "cell_type": "markdown",
      "source": [
        "### 셋 (집합) : 여러가지 형태의 값을 묶어 놓은 것.\n",
        "- 중복을 허용하지 않으며, 순서가 없음\n",
        "- 항목들은 쉼표로 구분하고 중괄호 { } 안에 포함됨\n",
        "- set() 함수를 사용하여 선언"
      ],
      "metadata": {
        "id": "yVQ2V9S9yjbf"
      }
    },
    {
      "cell_type": "code",
      "source": [
        "set1 = {1,2,3}\n",
        "set2 = {1, \"3\", 3.14}"
      ],
      "metadata": {
        "id": "QS8q4XUnxwES"
      },
      "execution_count": 16,
      "outputs": []
    },
    {
      "cell_type": "code",
      "source": [
        "set1, set2"
      ],
      "metadata": {
        "colab": {
          "base_uri": "https://localhost:8080/"
        },
        "id": "MWtVC9Xw2PGT",
        "outputId": "2d756b4f-3b5f-44e6-c474-8e8068624c37"
      },
      "execution_count": 17,
      "outputs": [
        {
          "output_type": "execute_result",
          "data": {
            "text/plain": [
              "({1, 2, 3}, {1, '3', 3.14})"
            ]
          },
          "metadata": {},
          "execution_count": 17
        }
      ]
    },
    {
      "cell_type": "code",
      "source": [
        "type(set1), type(set2)"
      ],
      "metadata": {
        "colab": {
          "base_uri": "https://localhost:8080/"
        },
        "id": "uOnM-ui_2PwS",
        "outputId": "f50e9c84-50df-44f6-d6d7-269ab90f5828"
      },
      "execution_count": 18,
      "outputs": [
        {
          "output_type": "execute_result",
          "data": {
            "text/plain": [
              "(set, set)"
            ]
          },
          "metadata": {},
          "execution_count": 18
        }
      ]
    },
    {
      "cell_type": "code",
      "source": [
        "set3 = {1,1,1, \"1\"}\n",
        "set3"
      ],
      "metadata": {
        "colab": {
          "base_uri": "https://localhost:8080/"
        },
        "id": "Jbcjq9DX2gOx",
        "outputId": "20a59aae-4d61-40dc-8772-ad55e16a0a72"
      },
      "execution_count": 19,
      "outputs": [
        {
          "output_type": "execute_result",
          "data": {
            "text/plain": [
              "{1, '1'}"
            ]
          },
          "metadata": {},
          "execution_count": 19
        }
      ]
    },
    {
      "cell_type": "markdown",
      "source": [
        "### 딕셔너리 : 여러 가지 형태의 값을 key를 이용하여 묶어놓은 것\n",
        "- key와 value의 쌍으로 구성되어 있음.\n",
        "- 리스트나 튜플처럼 순차적으로 요소 값을 구하지 않고 Key를 통해 Value를 얻음\n",
        "- 항목들은 쉼표로 구분하고 {} 안에 포함됨\n",
        "- dict() 함수를 사용하여 선언가능"
      ],
      "metadata": {
        "id": "UpCgjjbb2rog"
      }
    },
    {
      "cell_type": "code",
      "source": [
        "dict1 = {\"이름\" : \"나영훈\", \n",
        "         \"학번\" : 20185124,\n",
        "  }"
      ],
      "metadata": {
        "id": "nPK1uJlI2j9B"
      },
      "execution_count": 20,
      "outputs": []
    },
    {
      "cell_type": "code",
      "source": [
        "dict1, type(dict1)"
      ],
      "metadata": {
        "colab": {
          "base_uri": "https://localhost:8080/"
        },
        "id": "kvkVP5Es4A6a",
        "outputId": "72bee107-3a98-4503-ceda-c3cfce271586"
      },
      "execution_count": 21,
      "outputs": [
        {
          "output_type": "execute_result",
          "data": {
            "text/plain": [
              "({'이름': '나영훈', '학번': 20185124}, dict)"
            ]
          },
          "metadata": {},
          "execution_count": 21
        }
      ]
    },
    {
      "cell_type": "code",
      "source": [
        "dict1[\"이름\"]"
      ],
      "metadata": {
        "colab": {
          "base_uri": "https://localhost:8080/",
          "height": 36
        },
        "id": "1p2AACQE4Hi4",
        "outputId": "c0132bbb-94eb-493e-e8df-5f7bd6b7075b"
      },
      "execution_count": 22,
      "outputs": [
        {
          "output_type": "execute_result",
          "data": {
            "text/plain": [
              "'나영훈'"
            ],
            "application/vnd.google.colaboratory.intrinsic+json": {
              "type": "string"
            }
          },
          "metadata": {},
          "execution_count": 22
        }
      ]
    },
    {
      "cell_type": "code",
      "source": [
        "dict1[\"이름\"] = \"고성지\"\n",
        "dict1[\"학번\"] = 20185103"
      ],
      "metadata": {
        "id": "HwZXpsu04QeQ"
      },
      "execution_count": 23,
      "outputs": []
    },
    {
      "cell_type": "code",
      "source": [
        "dict1"
      ],
      "metadata": {
        "colab": {
          "base_uri": "https://localhost:8080/"
        },
        "id": "wK-hCSaE4UDv",
        "outputId": "603c92e4-0dce-4079-ca16-606705a6c59a"
      },
      "execution_count": 24,
      "outputs": [
        {
          "output_type": "execute_result",
          "data": {
            "text/plain": [
              "{'이름': '고성지', '학번': 20185103}"
            ]
          },
          "metadata": {},
          "execution_count": 24
        }
      ]
    },
    {
      "cell_type": "code",
      "source": [
        "dict1.keys()"
      ],
      "metadata": {
        "colab": {
          "base_uri": "https://localhost:8080/"
        },
        "id": "Y7CDkqwN6AZa",
        "outputId": "9e4a3921-2897-4cc0-ba26-606632dfeab1"
      },
      "execution_count": 25,
      "outputs": [
        {
          "output_type": "execute_result",
          "data": {
            "text/plain": [
              "dict_keys(['이름', '학번'])"
            ]
          },
          "metadata": {},
          "execution_count": 25
        }
      ]
    },
    {
      "cell_type": "code",
      "source": [
        "dict1.values()"
      ],
      "metadata": {
        "colab": {
          "base_uri": "https://localhost:8080/"
        },
        "id": "eN5_8GXn6DHe",
        "outputId": "c36c09c1-0978-4598-8dc7-fd3fd411713a"
      },
      "execution_count": 26,
      "outputs": [
        {
          "output_type": "execute_result",
          "data": {
            "text/plain": [
              "dict_values(['고성지', 20185103])"
            ]
          },
          "metadata": {},
          "execution_count": 26
        }
      ]
    },
    {
      "cell_type": "markdown",
      "source": [
        "## 조건문 반복문"
      ],
      "metadata": {
        "id": "KWXCuFtQ4lPH"
      }
    },
    {
      "cell_type": "code",
      "source": [
        "if dict1[\"이름\"] == \"고성지\":\n",
        "  print(\"학생의 이름은 고성지입니다.\")\n",
        "else:\n",
        "  print(\"학생의 이름은 고성지가 아닙니다.\")"
      ],
      "metadata": {
        "colab": {
          "base_uri": "https://localhost:8080/"
        },
        "id": "nJvhrrXR4ko9",
        "outputId": "a4f8e3ba-b4da-4295-e9d9-d6c41ab5bda2"
      },
      "execution_count": 27,
      "outputs": [
        {
          "output_type": "stream",
          "name": "stdout",
          "text": [
            "학생의 이름은 고성지입니다.\n"
          ]
        }
      ]
    },
    {
      "cell_type": "code",
      "source": [
        "if dict1[\"학번\"] == 20185124:\n",
        "  print(\"나영훈 학생의 학번입니다.\")\n",
        "elif dict1[\"학번\"] == 20185103:\n",
        "  print(\"고성지 학생의 학번입니다.\")\n",
        "else:\n",
        "  print(\"일치하는 학번이 없습니다.\")"
      ],
      "metadata": {
        "colab": {
          "base_uri": "https://localhost:8080/"
        },
        "id": "2TAb2d8L4Uv_",
        "outputId": "4ce91836-5ef0-485f-9aaf-ade77c25e556"
      },
      "execution_count": 28,
      "outputs": [
        {
          "output_type": "stream",
          "name": "stdout",
          "text": [
            "고성지 학생의 학번입니다.\n"
          ]
        }
      ]
    },
    {
      "cell_type": "code",
      "source": [
        "############ start, stop, step\n",
        "for i in range(1, 10, 2):\n",
        "  print(i)"
      ],
      "metadata": {
        "colab": {
          "base_uri": "https://localhost:8080/"
        },
        "id": "eI_Yynqc5Dtj",
        "outputId": "8a3a8398-edd5-4799-e365-516cf17e151a"
      },
      "execution_count": 29,
      "outputs": [
        {
          "output_type": "stream",
          "name": "stdout",
          "text": [
            "1\n",
            "3\n",
            "5\n",
            "7\n",
            "9\n"
          ]
        }
      ]
    },
    {
      "cell_type": "code",
      "source": [
        "for d in li1:\n",
        "  print(d)"
      ],
      "metadata": {
        "colab": {
          "base_uri": "https://localhost:8080/"
        },
        "id": "58_qMrmf52Gr",
        "outputId": "41297e3f-b9e8-4440-fd30-951cd4c85a7c"
      },
      "execution_count": 30,
      "outputs": [
        {
          "output_type": "stream",
          "name": "stdout",
          "text": [
            "1000\n",
            "2\n",
            "3\n",
            "4\n"
          ]
        }
      ]
    },
    {
      "cell_type": "code",
      "source": [
        "for data in dict1:\n",
        "  print(data) # Key print\n",
        "  print(dict1[data]) # Key에 해당하는 Value Print"
      ],
      "metadata": {
        "colab": {
          "base_uri": "https://localhost:8080/"
        },
        "id": "hligBs1V5iwg",
        "outputId": "688b0a63-a74f-4720-b579-e86e912bab4a"
      },
      "execution_count": 31,
      "outputs": [
        {
          "output_type": "stream",
          "name": "stdout",
          "text": [
            "이름\n",
            "고성지\n",
            "학번\n",
            "20185103\n"
          ]
        }
      ]
    },
    {
      "cell_type": "markdown",
      "source": [
        "![image.png](data:image/png;base64,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)"
      ],
      "metadata": {
        "id": "T_0HffGR8kHJ"
      }
    },
    {
      "cell_type": "markdown",
      "source": [
        "# Numpy\n",
        "- 수학, 과학, 공학, 데이터 과학 분야 응용 분야에서 Python으로 사용할 수 있는 open source 라이브러리\n",
        "- C/C++와 Fortran과 통합하기 쉬움\n",
        "- 데이터 구조\n",
        "  - ndarray 클래스: array 클래스라고 부르기도 함\n",
        "  - 동일한 데이터형 원소들(주로 숫자형 데이터)의 다차원 배열\n",
        "  - indexing: 정수들의 tuple로 인덱스를 표현\n",
        "  - broadcasting\n",
        "\n",
        "- NumPy의 장점\n",
        "  - 다차원 배열 또는 행렬 연산의 편리함\n",
        "  - 우수한 메모리 효율\n",
        "  - 빠른 처리 속도\n",
        "\n"
      ],
      "metadata": {
        "id": "LCKJpbYi9v2D"
      }
    },
    {
      "cell_type": "code",
      "source": [
        "import numpy as np"
      ],
      "metadata": {
        "id": "w_PDOA8B-DZu"
      },
      "execution_count": 32,
      "outputs": []
    },
    {
      "cell_type": "code",
      "source": [
        "lst = [1, 3, 4]\n",
        "lst2 = [[1, 3, 4], [3, 2, 1]]\n",
        "a = np.array(lst)\n",
        "a2 = np.array(lst2)"
      ],
      "metadata": {
        "id": "pB3tzqU-5plB"
      },
      "execution_count": 33,
      "outputs": []
    },
    {
      "cell_type": "code",
      "source": [
        "a, a2"
      ],
      "metadata": {
        "colab": {
          "base_uri": "https://localhost:8080/"
        },
        "id": "NiirMuiO-FG9",
        "outputId": "229bac7d-a019-4052-800c-62619ac7967f"
      },
      "execution_count": 34,
      "outputs": [
        {
          "output_type": "execute_result",
          "data": {
            "text/plain": [
              "(array([1, 3, 4]), array([[1, 3, 4],\n",
              "        [3, 2, 1]]))"
            ]
          },
          "metadata": {},
          "execution_count": 34
        }
      ]
    },
    {
      "cell_type": "code",
      "source": [
        "a[0], a2[-1], a[0:2]"
      ],
      "metadata": {
        "colab": {
          "base_uri": "https://localhost:8080/"
        },
        "id": "pn-OKqTU-HOh",
        "outputId": "ce0af6e3-bf01-4b4b-9f48-26ab60e26000"
      },
      "execution_count": 35,
      "outputs": [
        {
          "output_type": "execute_result",
          "data": {
            "text/plain": [
              "(1, array([3, 2, 1]), array([1, 3]))"
            ]
          },
          "metadata": {},
          "execution_count": 35
        }
      ]
    },
    {
      "cell_type": "markdown",
      "source": [
        "## 리스트와 Numpy ndarray의 차이점\n",
        "1. 리스트 : 이질 데이터형 원소 가능 -> 리스트 안의 원소가 달라도 됨\n",
        "2. Numpy : 동질 데이터형 원소만 가능 -> Numpy의 ndarray에는 같은 타입의 원소만 들어가야 함"
      ],
      "metadata": {
        "id": "B0k1UifG-kpn"
      }
    },
    {
      "cell_type": "code",
      "source": [
        "li3"
      ],
      "metadata": {
        "colab": {
          "base_uri": "https://localhost:8080/"
        },
        "id": "YyQxv3w--kK4",
        "outputId": "c9659e11-ff16-4cf4-e43f-8a53494156dc"
      },
      "execution_count": 36,
      "outputs": [
        {
          "output_type": "execute_result",
          "data": {
            "text/plain": [
              "[1, 2, '3', 'Hello', 3.14]"
            ]
          },
          "metadata": {},
          "execution_count": 36
        }
      ]
    },
    {
      "cell_type": "code",
      "source": [
        "nd1 = np.array(li3)\n",
        "nd1"
      ],
      "metadata": {
        "colab": {
          "base_uri": "https://localhost:8080/"
        },
        "id": "snusojVB-JrQ",
        "outputId": "8ed94605-d027-4a5b-f903-98d658f5b30a"
      },
      "execution_count": 37,
      "outputs": [
        {
          "output_type": "execute_result",
          "data": {
            "text/plain": [
              "array(['1', '2', '3', 'Hello', '3.14'], dtype='<U32')"
            ]
          },
          "metadata": {},
          "execution_count": 37
        }
      ]
    },
    {
      "cell_type": "markdown",
      "source": [
        "## 다차원 배열"
      ],
      "metadata": {
        "id": "lpkMkDZpAYxF"
      }
    },
    {
      "cell_type": "markdown",
      "source": [
        "#### array를 이용한 배열 생성"
      ],
      "metadata": {
        "id": "4Qb2xqdzE3Z3"
      }
    },
    {
      "cell_type": "code",
      "source": [
        "np.array([[1,2,3],\n",
        "          [4,5,6],\n",
        "          [7,8,9]])"
      ],
      "metadata": {
        "colab": {
          "base_uri": "https://localhost:8080/"
        },
        "id": "zIui3YEMAYjJ",
        "outputId": "9b5cb572-3d4a-46ab-fc38-463327fd4a33"
      },
      "execution_count": 38,
      "outputs": [
        {
          "output_type": "execute_result",
          "data": {
            "text/plain": [
              "array([[1, 2, 3],\n",
              "       [4, 5, 6],\n",
              "       [7, 8, 9]])"
            ]
          },
          "metadata": {},
          "execution_count": 38
        }
      ]
    },
    {
      "cell_type": "code",
      "source": [
        "np.array([1,2,3,4,5,6,7,8,9]).reshape(3,3)"
      ],
      "metadata": {
        "colab": {
          "base_uri": "https://localhost:8080/"
        },
        "id": "45rl18gA_4J4",
        "outputId": "0a9d7ba6-7d52-4f87-c621-d6813cc4a1f4"
      },
      "execution_count": 39,
      "outputs": [
        {
          "output_type": "execute_result",
          "data": {
            "text/plain": [
              "array([[1, 2, 3],\n",
              "       [4, 5, 6],\n",
              "       [7, 8, 9]])"
            ]
          },
          "metadata": {},
          "execution_count": 39
        }
      ]
    },
    {
      "cell_type": "markdown",
      "source": [
        "#### arange를 이용한 배열 생성"
      ],
      "metadata": {
        "id": "DLIo--O4E6GP"
      }
    },
    {
      "cell_type": "code",
      "source": [
        "np.arange(1, 10).reshape(3,3)\n",
        "# np.arange(1,10, 1) # start stop step"
      ],
      "metadata": {
        "colab": {
          "base_uri": "https://localhost:8080/"
        },
        "id": "c2zbaX7_Akyc",
        "outputId": "a68e8308-97b0-4ccc-f0c6-1d863411603c"
      },
      "execution_count": 40,
      "outputs": [
        {
          "output_type": "execute_result",
          "data": {
            "text/plain": [
              "array([[1, 2, 3],\n",
              "       [4, 5, 6],\n",
              "       [7, 8, 9]])"
            ]
          },
          "metadata": {},
          "execution_count": 40
        }
      ]
    },
    {
      "cell_type": "code",
      "source": [
        "ndarray1 = np.arange(1, 13)\n",
        "ndarray1.reshape(3,2,2)\n",
        "# np.arange(1,13, 1) # start stop step"
      ],
      "metadata": {
        "colab": {
          "base_uri": "https://localhost:8080/"
        },
        "id": "xIU-r312FjzD",
        "outputId": "f6c9f5db-3474-4fbe-f344-7229c6db51ff"
      },
      "execution_count": 41,
      "outputs": [
        {
          "output_type": "execute_result",
          "data": {
            "text/plain": [
              "array([[[ 1,  2],\n",
              "        [ 3,  4]],\n",
              "\n",
              "       [[ 5,  6],\n",
              "        [ 7,  8]],\n",
              "\n",
              "       [[ 9, 10],\n",
              "        [11, 12]]])"
            ]
          },
          "metadata": {},
          "execution_count": 41
        }
      ]
    },
    {
      "cell_type": "code",
      "source": [
        "ndarray1.reshape(3, 4)\n",
        "# np.arange(1,13, 1) # start stop step"
      ],
      "metadata": {
        "colab": {
          "base_uri": "https://localhost:8080/"
        },
        "id": "t4lKGyZ6HkyU",
        "outputId": "457292ef-ce59-4825-d5a7-d14d2f617c09"
      },
      "execution_count": 42,
      "outputs": [
        {
          "output_type": "execute_result",
          "data": {
            "text/plain": [
              "array([[ 1,  2,  3,  4],\n",
              "       [ 5,  6,  7,  8],\n",
              "       [ 9, 10, 11, 12]])"
            ]
          },
          "metadata": {},
          "execution_count": 42
        }
      ]
    },
    {
      "cell_type": "code",
      "source": [
        "ndarray1.reshape(4, -1)"
      ],
      "metadata": {
        "colab": {
          "base_uri": "https://localhost:8080/"
        },
        "id": "gPklvvuuHsOH",
        "outputId": "ef6e4e6d-bc67-4f6a-863a-c299caaa955b"
      },
      "execution_count": 43,
      "outputs": [
        {
          "output_type": "execute_result",
          "data": {
            "text/plain": [
              "array([[ 1,  2,  3],\n",
              "       [ 4,  5,  6],\n",
              "       [ 7,  8,  9],\n",
              "       [10, 11, 12]])"
            ]
          },
          "metadata": {},
          "execution_count": 43
        }
      ]
    },
    {
      "cell_type": "markdown",
      "source": [
        "#### linspace를 이용한 배열 생성"
      ],
      "metadata": {
        "id": "OO2gmx8lE9QO"
      }
    },
    {
      "cell_type": "code",
      "source": [
        "np.linspace(1, 10, 3)"
      ],
      "metadata": {
        "colab": {
          "base_uri": "https://localhost:8080/"
        },
        "id": "OZ7E4XlIAtsS",
        "outputId": "2359b7ed-d382-4cc3-898d-87ca66710c42"
      },
      "execution_count": 44,
      "outputs": [
        {
          "output_type": "execute_result",
          "data": {
            "text/plain": [
              "array([ 1. ,  5.5, 10. ])"
            ]
          },
          "metadata": {},
          "execution_count": 44
        }
      ]
    },
    {
      "cell_type": "markdown",
      "source": [
        "#### 그 외"
      ],
      "metadata": {
        "id": "EvNCCMXzFFCk"
      }
    },
    {
      "cell_type": "code",
      "source": [
        "np.ones((3,3))"
      ],
      "metadata": {
        "colab": {
          "base_uri": "https://localhost:8080/"
        },
        "id": "-c2TD1vEFDrl",
        "outputId": "38d46484-f027-47cb-d3e5-7fe0ede89131"
      },
      "execution_count": 45,
      "outputs": [
        {
          "output_type": "execute_result",
          "data": {
            "text/plain": [
              "array([[1., 1., 1.],\n",
              "       [1., 1., 1.],\n",
              "       [1., 1., 1.]])"
            ]
          },
          "metadata": {},
          "execution_count": 45
        }
      ]
    },
    {
      "cell_type": "code",
      "source": [
        "np.zeros((5,5))"
      ],
      "metadata": {
        "colab": {
          "base_uri": "https://localhost:8080/"
        },
        "id": "Jhc8_iHmFIf9",
        "outputId": "58fb2a5d-9011-4281-9ebc-641bec416247"
      },
      "execution_count": 46,
      "outputs": [
        {
          "output_type": "execute_result",
          "data": {
            "text/plain": [
              "array([[0., 0., 0., 0., 0.],\n",
              "       [0., 0., 0., 0., 0.],\n",
              "       [0., 0., 0., 0., 0.],\n",
              "       [0., 0., 0., 0., 0.],\n",
              "       [0., 0., 0., 0., 0.]])"
            ]
          },
          "metadata": {},
          "execution_count": 46
        }
      ]
    },
    {
      "cell_type": "code",
      "source": [
        "np.full((2,2,), 100)"
      ],
      "metadata": {
        "colab": {
          "base_uri": "https://localhost:8080/"
        },
        "id": "-KbVf-1OFJ8F",
        "outputId": "c7147888-f3f5-4d77-8dfb-15f2e928e673"
      },
      "execution_count": 47,
      "outputs": [
        {
          "output_type": "execute_result",
          "data": {
            "text/plain": [
              "array([[100, 100],\n",
              "       [100, 100]])"
            ]
          },
          "metadata": {},
          "execution_count": 47
        }
      ]
    },
    {
      "cell_type": "code",
      "source": [
        "np.eye(5)"
      ],
      "metadata": {
        "colab": {
          "base_uri": "https://localhost:8080/"
        },
        "id": "FEfF-IVaFNHs",
        "outputId": "a3a65106-77ba-4d9a-c54a-bc03a718a08d"
      },
      "execution_count": 48,
      "outputs": [
        {
          "output_type": "execute_result",
          "data": {
            "text/plain": [
              "array([[1., 0., 0., 0., 0.],\n",
              "       [0., 1., 0., 0., 0.],\n",
              "       [0., 0., 1., 0., 0.],\n",
              "       [0., 0., 0., 1., 0.],\n",
              "       [0., 0., 0., 0., 1.]])"
            ]
          },
          "metadata": {},
          "execution_count": 48
        }
      ]
    },
    {
      "cell_type": "code",
      "source": [
        "ones = np.ones((3,3))\n",
        "ones.shape"
      ],
      "metadata": {
        "colab": {
          "base_uri": "https://localhost:8080/"
        },
        "id": "_AygpGLLFPEc",
        "outputId": "b390e61f-8ae9-4210-e5dd-307c83089d7b"
      },
      "execution_count": 49,
      "outputs": [
        {
          "output_type": "execute_result",
          "data": {
            "text/plain": [
              "(3, 3)"
            ]
          },
          "metadata": {},
          "execution_count": 49
        }
      ]
    },
    {
      "cell_type": "code",
      "source": [
        "ones.size"
      ],
      "metadata": {
        "colab": {
          "base_uri": "https://localhost:8080/"
        },
        "id": "tLSzdACIFTEM",
        "outputId": "1955225a-2854-457d-a76e-5b1e6d3e322a"
      },
      "execution_count": 50,
      "outputs": [
        {
          "output_type": "execute_result",
          "data": {
            "text/plain": [
              "9"
            ]
          },
          "metadata": {},
          "execution_count": 50
        }
      ]
    },
    {
      "cell_type": "code",
      "source": [
        "ones.ndim # 차원 "
      ],
      "metadata": {
        "colab": {
          "base_uri": "https://localhost:8080/"
        },
        "id": "Vajwvvc4FUvu",
        "outputId": "6208bd40-d2d1-4a35-c75b-667e9a86071e"
      },
      "execution_count": 51,
      "outputs": [
        {
          "output_type": "execute_result",
          "data": {
            "text/plain": [
              "2"
            ]
          },
          "metadata": {},
          "execution_count": 51
        }
      ]
    },
    {
      "cell_type": "markdown",
      "source": [
        "### Numpy의 연산\n",
        "- Numpy의 Array 연산은 BroadCast(Element Wise) 연산으로 이루어짐. \n",
        "  - Array 간의 연산은 각 요소별 연산이 이루어지며, 연산 함수 또는 연산자를 이용\n",
        "  - Array와 Scalar간의 연산은 Scalar값이 Array 각 요소별 연산"
      ],
      "metadata": {
        "id": "1ufuJnYiH53V"
      }
    },
    {
      "cell_type": "markdown",
      "source": [
        "![image.png](data:image/png;base64,iVBORw0KGgoAAAANSUhEUgAAAeUAAAFoCAYAAABpHuNkAAAAAXNSR0IArs4c6QAAAARnQU1BAACxjwv8YQUAAAAJcEhZcwAADsMAAA7DAcdvqGQAAF8DSURBVHhe7Z0JmBXFtcdrMMrmi4gEJT4VIYkBNfIQ9POJS0T0UwMJyvI0YjDICLijgqi4gAgMS2RTQEAgqEEgLGJkNYZFw2YGFCHKgKhAWIZNwEGEfv2vqR57em7f27ena5nu8/u+nltV3dOnaz1V1VWncywbRhAEQRCEdiqJX4IgCIIgNENKmSAIgiAMgZQyQRAEQRgCKWWCIAiCMARSygRBEARhCKSUCYIgCMIQSCkTBEEQhCGQUiYIgiAIQyClTBAEQRCGQEqZIAiCIAyBlLLh7N+/X7jSE/Q6giAIwlxIKRtMz549WY0aNYQvPWPHjiXFTBAEUcEhpWwoULL33nuv8BUD/+mnn85ycnLYpZdeyj766CNxhrEePXqw/v37C5888vLyuHz3gWciCIIgyg8pZQPZvHkzW7NmDatXr54IKVbICN+yZQvDh7169erFmjdvXmp03KJFC67MswX3DUphYSHvAOAZnGPfvn3iLEEQBBGWzz7/nJSyiYwZM4ZPXbuB4mzbtm3JdHabNm240l69ejX3g+uvv55NmzZN+IIzcOBA4SIIgiB0sWLFSjVKGQoGU5z4daZg69evX2r6FeGYCoXiwYgP1+CYPn26uCI1ixYt4vfC/+LXq8xw3plmxdQrRpK4DveGHOeadPcI8vwO7vNOnOB3RqOID6aeEe6dgnbA87hHyWDhwoUsNzdX+IrB/3qvg9LOZuRLEARB6OfgwYNsw4aNDNOPSrBHY5Yt1+rRo0eJv3HjxtztYI8Q+TX4BWvWrLFsJcN//cB9bGXF3QUFBfyeCPOCMNwL53Hdvn37SuQEuQf8mZ4fYfZolbvxzLgev7ZC5WH2KNaylWhJfODHM+FZHCDfuYcfuN4eKZeRDxAn77Nnwol7EBB/yEU8ED+40+UPQRAEkZmVK1dZvZ58mr8TVAKUBRSQA5SP2w9wTSpFBwUUFCjAVMrKUapuBehHqnsEeX78j6OAAfyO4gdQZO7zAArYfQ0UXDolCZmIBw7vvQAUvdNxCEoYpZyuY0EQBEFkx1vTpnOlrPSdcpMmTYTLH+90LN6TppridYPpXkx7Y8oYv35bg3AvW4EIX2mC3CPI83upWbOmcP3wXhjT2c4BuW5ZuMbvGYGt/PjiKrw7xr28aYP0Szd9jSl174Fn8Ib5vTawOzd8EZqtmLkf77bbtWunZOU3QRBEXPnPf3byX6VKOZ2ycch2r62jRNq3b8+VxeLFi8WZsngVvkPQe2R6fvw/3jsjDlB0UJjoCDjg/3F/KFbngIK1R5/iiuBAGUJBepXh3r17S3UEvNij8jIHntEbhvunIpWyRkeG3mMTBEGEZ//+4l0sxq2+hjJzM3Xq1JJRWSqwcAuKDkokiNJPRRT3ANguBMWPBVxQzrin+36O8nMDJedWdKlGulDuWBiWCm8nBn4oSRng3qlmEVatWsWaNm0qfARBEES2FBUd5b9GbonCKmkAZQU3RoQOUFjOeQAl5owWoSzgxmjRqzjSEcU9AK7Hiu6CggKukL2dCcQDHQBnLzGUbefOnUsp7lRKGffBNe54o/MCxY/DDf63PB2LdOC+eBY8s5M2eCY8S65nZThBEAQRAv6GWTJYSARROOxGnS8Ocvx2Q88XTQF7FMkXPtkjVh6Oa23lxs854BpbcQlf8cIoXId7IRwLkZz/hxwshnJkOQeud5PpHkGfH//nhDvncB/3IihcizjiHGQhPl5w3gv+z3km3BvPkWqhl1deEBC/oODeznOkih9BEASRPX36vsAXeuXAYzfyRoARpK1oQhnA0A1GvZjadU9ZYzSJOGEKHuFBwejTVrql3kcHBc+Qbfrhfbp3Wp0gCIJQx4iRL7MdO3aQRa+ocFYwOwoZwI1FXN4V0pnA/4TpmKADgGfIFu8UOEEQBKGWs846k/+SUo6INm3a8HfR7kVbGClDSeJctuD/Uq109gOycIQZXeM9NkEQBKGPuuedx3+NUcpQQo4iwurligYUG7ZSYRrY2YOMeGAldJhRL6avgbOgKhNvvfVWqK1VBEEQhH4uuOAX/Neod8oEQRAEkVT+POV1UsoEQRAEYQL4dCMpZYIgCIIwBFroRRAEQRCGQEqZIAiCIAzBGKX8wQcfsBMnTgifWtavX88/DqEDyIV8HSC9ke5JJKl5TiQP3fWc2vbsMOKd8uTJk9kf/vAH1rdvX3bzzTeLUDV89tln3G4zti+98MILrGrVquKMfA4ePMi6dOnCDhw4wLc0Va9eXZyRDypJnz592DvvvMNWrlxZIbehhWXt2rXs17/+NbvmmmtY7969Raga3Hmen5/Pzjyz2GCAKo4dO8YbScRdB9g22Lx5c+EjZIN6fs899/A2dubMmezss88WZ9Qwd+5c9uyzz7KuXbuy3//+90rbV1Pa9qzrOZSyTiZNmmTl5ORYrVu3RueADg3HlClTRG7EH7uCWDVr1rQaNGiQMi1UHkOGDLEGDhxoFRUVWXaHlD8ffrdt22aNGzfOsjtL1rx586wZM2ZYdo/bGjZsmGVX8lLXFhYWWiNHjrTsjoY1e/Zsy24EuS330aNHW7t27Sp1LcLvv/9+6/XXX7c2bdqkVPaePXusO+64w9qwYYM1depUHk7I5fjx41bnzp1Tlj061B3Ztq9aR8rovXXs2JH35IYOHcp7NqqALBgrQc8RsvHZxbp16yrpTaEX1a1bN2Y3gGz48OHsRz/6kTLZ6Dm/+OKLvNeM+MPYybJly9iVV14progvGCFfd9113NDLrFmz2M6dxR8VV4E7z5944gn25JNPKk33LVu2sNq1a7PvvvuOTZgwgT366KPijHzwxTVw9OhRVqdOHWZ3RpTKTyKo5xip2R0sXsdVz4Q5I2R7sMW6d+/Otm7dqqyNM6VtD13PuWrWgDNCRk8OPTqVOKOlJk2aWHaDIULVAHmQC/l4DpU4PWekO9IfoxoUAfzGHZPyXHW6I9/ffvttPtIFhw8f5r8qgOx169bxw0Gl/CTireeqoba9fPVci1KmTNOvkIFq5aAL0/JcZbrbIyarX79+wleMM62sAnukUkYJq5SfNEghV/x6rlwpU6aZoZCBSuWgCxPzXFW6b9261Zo+fbrwqeX777/n76EJdZBCjkc9V6qUKdPMUchAlXLQhal5riLdP/nkEz5d/c0334iQH5A9UsUCsI0bN6aUDWikHD2kkONTz5UpZco0sxQyUKEcdGFynstOd6yoXrVqFVeOqcDKaFlA9n/+85+0ZV2m/CRCCjle9VyJUqZMM08hA9nKQRem57nsdM/Ly+Pvkv3AliVZvPbaa9bOnTuFLzUy5ScNUsjxq+fSt0RhOT42jv/mN79hzzzzDKtUSZ0RsYKCAtapUyf2X//1X+zll19m55xzjjgjn8OHD/OtXl999RV76aWXmJ2B4owa+vbty2bPns1GjBjB7rvvPhFamo8++ohvlbALTcn3mys6sKBz1VVXsRo1arBRo0YpNc6BPIexgq+//pq9/fbb7NprrxVnSiMr3fHt7TfffJPXt3RAvoz87t+/P+vVq5fw+SNLfhK5++67ma0Y+dabW2+9VYSqAd++R57D4NPzzz+fqLZdaj3nqlkiWPkJMXToOdJtXA/bkzMZ9GDtSlImHVQf6QyD9O7dm19jd5giM86BFc6DBw+2/vznP2c0DIIV0VEaBnFkHzt2jIdlAvciouHee+8tU/boUHfIaF+lj5SXL1/OmjVrxuyHZw0aNBCh6sjPz+c9qvHjx7NGjRqJUDXolL1hwwZ25513pt24HseRMtBZ5nSnexDDHHPmzGGtWrUSvugIahRElvwkorOs62zfQGzbV66aJRK2txAVOuWbLlvn88lEZ7yCyJb5fBi1ZgKjXxkEkQ1kyU8iMstSJnTKBqbHPezz0acbCSJGwKxgJpYuXSpc0RJENpAlnyDiACllgogRTz/9tHD5c/vttwtXtASRDWTJJ4g4QEqZIGIEPlGXCaxWlUEQ2UCWfIKIA6SUCSJG4Os4mQg6os2WILKBLPkEEQdIKRNEjPjrX/8qXP4EHdFmSxDZQJZ8gogDpJQJIkY0bdpUuPx58MEHhStagsgGsuQTRBwgpUxIYfPmzcJFqGTHjh3C5c/EiROFK1qCyAay5BNEHCClTEhh4MCBwkWo5Pjx48Llz/XXXy9c0RJENpAlnyDigNFKGbZVcYwdO5YtWrRIhMoHNoTz8vL4oQMnzlg4ozLeSQfpDSs8OFTnPWzoYqSJA1aawlK3bl3h8mfjxo3C9QNRyA8iG6SST6hHZ3kHkOm0dSpp27Ytb+NNxViljOnPhQsXsjZt2nDj3ypHXqtXrxYu9aCCACfOKECEGpDvzZs3Zz179uTprxIow8mTJ/NOGEzzhSWIYY7q1asL1w9EIT+oUZBU8gn16CzvLVq04DLRvuOjRaqAXkFH4Pzzz2enn346y8nJ0Tb48sNYpYzGAV/6cYBb1agR02tu2SrZu3cv74wAPEPNmjVLFDUhF3zhaN++fTz9Vec/7BejcezQoQOrUqWKCM2eIIY5UKa8RCE/qFGQVPIJ9egq72jPHHlwr1mzhrtVAKWMODsHOgQ9evQQZ83AWKWMT3OdccYZwldckU2ecogKdAjcPUcoadM/FoFpMO+BDpQ3DD1Uk1m1alXJdJrqKbVt27axTz/9lDdQ5WmkghjmWLdunXD9QBTygxoFSSVfJd5y6XeoLgOq0VXeMUKHcnQWgyKtVeEecCHO7dq1426jEDawpWFX8FBGue3eC//8nENubq5lKyvhC05Y+ZDllh+GsLIdEOdp06YJX3YEkV3e50sHnl0XUcSrXr16lt2TFr7gBJGd6Rp8SvHbb78VvujBJxzToVs+EZwg5S0IYcp7WNloV23lKHyWZQ86Qj1/eeJuD/rK1b4HkR32+YwdKdevX58VFhYKX/GI0S44whd/0IPFexe8cyHkg/TG9K0bpycvG4xQnVcWDphaC0MQwxwTJkwQrmKikh/UKIhXPqEeneUd7bi7LccsqCrZDpiNNHUG0liljGkGd0bBjbAk4LxPh0LGOxfVBTaJoJFAJ8iNqkqLBSfohLqpU6eOcGVHEMMcXjOXUckPahREt5lN7zS13xHn6Wud5d2Eth1trKmDPGOVMhKsffv2Je88sChBFZA5bdo0PnqAWyUooFhxjQONJVbCmlp44gQaJKxZQFnDCMI7cpQJFGBRURF/lwu5WGwVliCGObwj2qjkBzUKotvMJkZJQQ7VK5JVorO8Y8DhdHqw8hm7TFQuNHMwdsGhmMaWRth59ajQKd902TKfr6K/Uw5LENkyn2/9+vXC5Y+tgIUrWoLIBrLkJxGZZSkTOmUD0+Me9vmMHSkTFRvv+yriB06cOCFc0RPEMMewYcOEK1qCGgWRJZ8gTCJsPSelnGDmzp3Lf2E4Impoyj01qKgvvvgidwc1S5kNmQxzHDt2jF100UXCFy1BjIJgjcRtt90mfAQRT8pTz0kpJxRYb3r22We5+8wzz+S/hFxQUbt06cJmzpzJ/du3b+fv1I4ePVrynhW/CB8/fjzfRzp//nz+SUSskB4+fDg7ePBgqWuxK2HUqFF87++cOXP4dVB8eCe6e/fuUtd+/fXXrE+fPlw+7AColH3o0CH2+OOP804B7kUQccVbz0866ST+GxgxjS2NsPPqUaFTvqmyJ02aZOXk5Fh33323ZTe+1uHDh8WZeGBiutu9Zatz58483ceOHcvPy0j3cePGCVdpbGVobdmyxcrPzxch0eMnG3E/cuSINW/ePBFCRIWJZV0VJsY9inpOI+WEgRFyx44d2T333MPsRpQ1adKEVatWTZwlZOD0nJHeWKFsV1q++lVGut90003CVZpXX32Vr+a/5JJLREj0+Mn+4IMPuBWnG2+8UYQQRPyIqp6TUk4QboU8evRoVqkSZb9svBX1rrvuEmfk4DXMYXe82eDBg1nXrl3ZaaedJkLlkMooCKa30TBdddVVIoQg4keU9Zxa5YRAClk9qhUycBvmgFUuvON94IEHRIhc3LIR98WLF/PyRjMxRJyJup5Ty5wASCGrR4dCBs7iKiyswgITfPGpcuXKPEw2jmzE/dtvv2WnnnqqMtkEoQMZ9Zxa55iDbU+kkNWD7RCqFTLACmcwb948brHpwgsv5H4VOLI///xz9v7777PLL7+c+wkirsio59RCx5znnnuOFLJC0HMGs2bNUq6QAQxz9OvXj+8FPvfcc0WoGiAbphOxoOyWW24RoQQRP2TW8xwswRZuKSxfvpx/QH3KlCmsQYMGIlQd+fn5rFOnTnzvZaNGjUSoGnTKRuOI/aItW7bkBSdJCllXmUNFxQfT//73v7OnnnqqZDpXFdhHPHXqVF7mdOT3Sy+9xD9KQZ0/dehsX3W2b0CXfOn1HEpZJnZh4fu56NBzTJ48WeREcjChzA0ZMoR/rxV2nvv27cufC7/4lvC4ceOslStX8n27M2bM4Daj8Q3jAwcOlLq2sLDQGjlypLV27Vpr9uzZ1ty5c/m+x9GjR1u7du0qdS32Qubl5VkdOnSwNm3apFz24MGDraFDh/IwQh3Uvuo9kP5RI32kvGfPHm4ZqG7duqxq1aoiVB1Ygfrhhx+yK664gk+rqUSnbLuhZF988QXfO1qrVi0Rmgx0ljkssPrqq6/4ntykpTuhHp1lXWf7BnTKl1nPpStlgiAIgiCCQS9/CIIgCMIQSCkTBEEQhCGQUiYIgiAIQyClTBAEQRCGQEqZIAiCIAyBlDJBEARBGAIpZYIgCIIwBFLKBEEQBGEIpJQJgiAIwhBIKRMEQRCEIZBSJgiCIAhDIKUsEXxkPhV+4TIx6VmI4GSTP5SXBFHxIaUsiZ49e7IaNWoI3w/4hcsG31dO1Wj7hRP6ybasUF4SRMWHlLIE0Djee++9wvcDqcLhx2fHcnJy2KWXXso++ugjcSY7Mt0HH+Xu37+/8P2AXzihlzBlhfKSICo+pJQjZvPmzWzNmjWsXr16IqSYVOFoZBG+ZcsWhi9o9urVizVv3jzr0U7Q+7Ro0YI39l78wjMBmUT0lKeshM1LgiDMgJRyxIwZM4ZPO3pJFY5Gtm3btiVTlG3atOEN8erVq7k/KEHvc/3117Np06YJ3w/4hWdi4MCBwkVESXnKSti8JAjCEOxet3R69Ohh2Y0J/83NzeVuu0Gx7NGAuMLi4Xgcu7Gx7IaFX4PDbmDEFf4sXLjQaty4Mb8e/79v3z5xJphsADm4B54Bv97zuCfujf93rsF9vCA8FX7hXnDvgoIC4QuP330Qh2zC04H0DIKK/Mf98P/4hRwHnEM4DrsTYdkKj1+De0OOQ7p7BHl+B/d5J07wO2mbqZyB8paVMHlJEIQZKFHKAA0iGhGnsYPf2/igwcQ1+AVosNCgpWq4HNCYuq/B/b33zSQbDaW7kYUf93QrdzR0aGSdxs65pxucczf0Dn7hbhylH7RB9iPTfZC2eHYvfuHpQHoEJVMegDD5D3Av51mQ1rivNy7w4144h2uQTo4ckOkecGd6foQ5+YxnxvX4RRkFQcpZFGUlTF4SBGEGypQyGgo0QA5ofNx+gGtSNXRogPzA9Wjc3KDhcxpCkEm293qAhtHdaHv9wKuU0NimUlR+4Q54FjTgOLzPkQ1B7oO0chSLG7/wdKSLkxdZ+Z8KxD3VfZAubgWYDu89gjw/rnenO/zuMhOknEVRVsLkJUEQZqD0nXKTJk2Eyx+74RKuYuxGK+2KZJzDNW5S/U862c77OqxsdY5FixaVWkRjN5z8wMpXZzGN3dCLs8XgPnajKXw/4BfuYCsKvnjHbkz5c6SLbzqC3Afpi+fx4hfugIVG3gNp5A2bPn26+I+yyMh/BzwL4ly/fn3+m2qxHO6VLh8y3SPI83upWbOmcAUrZ1GUlUx5SRCEuShVyukaG4dUjWkUpJONc/YIhTd4zoGGzx5tiCuKG1fnGigfe5TCzj///Eif1x4RckVf3m0t6e6zd+/eUorCwS/cwemUuA8oOW8YZPshK/+dDkH79u15Hi1evFicKY1X4bsJco9Mz4//xQItxAHKFgrT3WEMUs6CEiaPCYIwH+NWX6MxczN16lTWuHFj4SsLzr311lvCVwzuke5/vDjKxQ1GfO5RH7afYHSMhhUNIkYq7dq1K/W82YxC0WBj1J2KbBRTtvdBGEaCXvzCVZNt/gPkC5Qd8iWI4k9FFPcoLCzkeY09xFDOuJ/7XkHKWRRlxZS8JAgie4zcEpWXl8d/0VjB7Z4mRoPlnAc4hwbQmcbDaAcNoXuEkgncA40yDoB7de7cuVSDiobOLQfPAQXiHn1lo5ShaHB/d1xwP8jA4eCNr5eg93HA/dzxcvAL14ETlyD5D5C+zogR+QQ3RoupFJYfUdwD1+LVRkFBAVfI3s5EkHJWnrLiYFJeEgSRJZYCsHAFonDYDQxfiOL47caDL5oB9iiCL3yxRys8HNfajRs/54Br7IZL+IrB/RCG/8H/7nMt5gkqG7+QjTDcC3Lc4BwWz+C8cy/vNQDXpSJVOGQ6cXXu6V28Axk4746TlyD3cfCmj4NfeDqQtkGQnf+4BtfifjiHfHLu8fTTT5fIcg5c6yXdPfBM7v/1e378jxPunPOma6ZyBsKWFQevTIIgKg5KlHJQ0EChQanI2KOhlI2lX3gQ0CA7DX958UvfMOkeVCkHpSLnP5Q6lKxbGcKNfE/VCUhHecoKqOh1iCCSDFn0ihgs2rFHUsL3A37hQcB0pN3gC194MG2K6X0vfuGZSDV1mlQwney8OnGAG/nuvPIISnnKSti8JAjCDEgpSwCNonvxjoNfeCa87xjDgPedOK73vGv3Cw9CFB2FuGCPTvl7aHf+Il2R5ziXLWHKSnnykiAIQxAjZu143ztWdPDeMdV7Pb9wP3Ct971qGFK9uwR+4aqJQ/4jn5z3xc47Y0xFhyXbsmJKXhIEEZ4c/LEbQoIgCIIgNEPT1wRBEARhCKSUCYIgCMIQSCkTBEEQhCGQUiYIgiAIQzBGKW/ZskW41LN9+3Z29OhR4VML5EK+LnSmu04oz/WQ1PKmm6TmeUWs5zkmrL5euHAha9myJXv22WfZjTfeKELVsGPHDnbPPfewhg0bsj59+rCqVauKM/L57rvv2COPPMK+/PJL9pe//IVVr15dnFHDK6+8wiZOnMj++c9/8o8oJAWk99VXX80/xfjkk0+KUDWYkudvvvmm8n3mKGcPP/wwy83NZc899xyrVauWOEPI5JlnnuF217Hv/eyzzxahanDn+e233660fTWlbYfxoDPPPFOcCQCUsk4WLFhgValSxbryyitL9qnSofaYMmWKyI34s3XrVuv888+3fvrTn6ZMCzrUHEkqczrp27dvyvSnQ92RbVnXOlLGCLlVq1bsuuuuY/aDK53mQC8KvTcwfPhwVlRUxOrWraukN4Ve1GOPPcZWrVrFe7A/+clPlMkG48aN4yMmWJpC73nZsmXM7hSJs/EFvdZrr72Wu9999112+PBh7laBKXmOkQPSQKVsjJYwamjatCn/KlbHjh0TU+Z08sILL7DevXvz43e/+50IVYM7z/Ec27ZtU1bmTGnbEX/U9azLOlfNGnBGyDfffLNlJ5oIVYMzWsIBt0oQV8QZcUcaqMbpOeMXFqjgjsJimOlQnhfnuWq89TxJZU4nJuW5Skyq52HLuhalTJlmRuOclAaS8tycxjkpZU4npuW5Kkyr52HLunKlTJlmTuOchAaS8tysxjkJZU4nJua5Ckys52HLulKlTJlmVuMc9waS8ty8xjnuZU4npua5bEyt52HLujKlTJlmXuMc5waS8tzMxjnOZU4nJue5TEyu52HLuhKlTJlmZuMc1waS8tzcxjmuZU4npue5LEyv52HLuvQtUdhyc8cdd3BDDUOHDmWnnHKKOCMfZ/O4nYDs5ZdfZhdccIE4Ix8sjX/ooYf4xvF+/fop//A8tr9gG8wTTzzBP76fCjwbjIbYhYY1btxYhFZsHMMgR44c4WlgV1hxRj6683zEiBHcMAi2HD3wwAMiVA1LlixhPXr0YNdccw2bO3cuq1y5sjhTmjiWOZ306tWLDRgwgLdzXbt2FaFqWLRoEXvqqad4Pg4bNixRbXv37t3Z6tWr2RtvvMG3lqYidFnnqlkiPXv25L0FOvQc6Tauh+3JmQx6zBdddFGZdKBDzfHaa6+JnEhNHMucTmyFUCYP6FB3yGhfpY+Uly9fzpo1a8aNgzRo0ECEqiM/P5916tSJjR8/njVq1EiEqkGn7A0bNrA777wz7cb1uI5adJY5Km/pDSXQSDlaklrWQWzbV66aJRK2txAVOuWbLlvn88lEZ7xIdnrZOp8xjuhMT915aXrcwz4ffbqRIAiCIAyBlDJBEARBGAIpZYIgCIIwBFLKBEEQBGEIpJQJgiAIwhBIKRMEQRCEIZBSJgiCIAhDIKVMEARBEIZgrFLev38/y8vL44dqkio76cBOO46xY8dyu76qMCHPnXjfe++9SuNO6EF3mdNZ3iAb1rYgH4dpGKuUYexbF0mVnWQ2b97MFi5cyI3L5+bmsoEDB4oz8tGd52iggBPvtm3bcj8RX3SWOZ3lDZ0RfKAHZi/btWvHOwWmYaxSxhd2atSoIXxqSarsJIPeujvd4VbVg9ed53v37uUdEoDnqFmzZknDScQTnWVOZ3mDvDVr1nA3OuJIB9Ogd8oEYVNQUMDOOOMM4WO8oUCvOgmgYRozZozwFTea9LEIQhYmlDdMW2PEPG3aNBFiDqSUCcIHNBZJA9N5r776qvARhFx0lTdMnUN2586dRYg5kFImCJv69euzwsJC4StWyPXq1RO+ZIAFMC1atPD9aDtBRImu8ubMgGHEjldUmMY2CVLKBGGDCuqunKa+b5KF804dDSTe75nWUBHxQld5c6atHUx8TWWsUkYvCvP9WBAAt0qSKjvJYFTcvn17nuaouL169RJn5KM7z9EgYgUsjtNPP51/mD1pswRJQ2eZ01nesOK6adOmvFPQs2dPPoVt3PoJ8V1laYT90HNU6JRvumydzycTnfEi2ell63zGOKIzPXXnpelxD/t8NH1NEIQyjh8/LlwEQaSClHKCWbJkCf/96quv+G+S2LJli3CpZ8eOHayoqEj41HLs2DH29ddfC59avvzyS3brrbcKH0HEm1deeYX/Hj58mP8GhZRyQsG7pMcff5y7k7If12Hnzp2sUqVKbMqUKXx/MkwNHj16lL3wwgv8PH63b9/Oxo8fz1atWsXmz5/P/vrXv7JPP/2UDR8+nB08eLDUtVipPWrUKLZu3Tr2j3/8g4dv2LCB78XcvXt3qWu3bt3KXnvtNTZhwgTlsnEtLCjhHaJq2f/+97/ZJZdcwo4cOcLDCCLOoMyPGzeOu9EZzQoxjS2NsPPqUaFTvqmyFyxYYFWpUsW64oor+DXLli0TZ+JBpnQfO3asdeLECWvw4MEiJDoyybaVnLVr1y4tstevX28tXbpUuWy7I2Kdd955Vq1atayNGzdaDz/8sGWPHsRZojxkynOZ6JQNTI173759+bl77rmH/2bbvtJIOWFghNyqVSt23XXXsaFDh/KwqlWr8t+4c+DAATZixAhuMCAnJ4d17dpVnFEDes+tW7dmP/nJT5TLRrzPPvts1qxZM6WyMUq4/PLL+YjcbsDYBRdcwPr168eqVasmriCI+IA63rt3b2Yr5pJ6lm37Sko5QbgVMqYlTznlFHEm/ti9Vf4u9YEHHhAhrKRTIhtM5SK9n376aRGiTrbd8eZbvBDv0047jYepkg2FjO0ulStXZitWrGDnnnsuD1clnyBU4lbI7rqeLaSUE4JXIaOhTAp4n3nxxRdzq11uylNxgoJFdOgpX3XVVSKkGBWysZgM77B/97vfiZBiVMiGQv7f//1fPiLGgkJHIQMV8glCJVEpZEBKOQEkWSFjCw4WH0E5VKlSRYQWg4okE8jetm0b27dvH5+ydqNCNqbroRxr164tQouRLRsyr7nmGr7Se+nSpaUUMpAtnyBUEqVCBqSUY84///nPxCpkKAVMlWKkePLJJ4vQH5D9LdVBgwZx60HnnHOOCPkB2bLfeOMN/h736quvFiE/IFM2tnthhIxV1ljB7VXIQHbcCUIVWGEdpUIGpJRjTvfu3ROpkMG//vWvkm1fqUCayAImDJ944gl20kkniZDSyJSNrV533nlnSoUIZMru0KEDj7OfQgYy5ROESrAXOUqFDHKwBFu4pbB48WJu2B97Hxs1aiRC1YEFJt26dWMvv/wyXwWqEp2yX3/9dT5KvOyyy/g7vVQKGYbgsRAHq2Lj9P1cLGzCaAz7gX/1q1+J0LJgWrtBgwbCFw2OTd1MeS5DNhRhly5dtMjGNPXDDz/MzjrrrFKLulKBckffa44Gne2rzvYN6JQPRTxr1izWsWNH3s6kInT7CqUsE/vh+V4tOvQczz77rMiJsqTba1eRee6558qkAx1qjpdeeknkgj9z584VLqK8UPuq90D6+xG2fY39SHnlypV8vximGTBqVIlO2c6oCSO35s2bi9DSxHWkvGfPHt57xbvNdHsEYYUKC5KiBIu65syZw9/j4ws4fsRN9rfffsvee+89Xt5r1aolQlPjPCNRfnS2rzrbN6BT/ocffsjuv/9+Oe0rV80SCdtbiAqd8k2XrfP5ZBPEatXatWuFK1pIdnpkyU8iOuuw7vbD9LiHfT5a6EXEEvSgM4H3oDIg2emRJZ8g4gApZSKWBLEadfvttwtXtJDs9MiSTxBxgJQyEUuCbFHAqk0ZkOz0yJJPEHGAlDIRS4JYjYpyb6Ebkp0eWfIJIg6QUiZiSRCrUUGVSLaQ7PTIkk8QcYCUMhFLgliNevDBB4UrWkh2emTJJ4g4QEqZiCWwOZ2JiRMnCle0kOz0yJJPEHGAlDIhhc2bNwuXHvBhhEzA6IIMSHZ6ZMkniDhgrFLev38/y8vL44dqkio7SgYOHChcesCnCzOxceNG4Srm008/5ceaNWvK1anIVja+e7x8+XJ+lJcw8QZOvN9+++3QcQ8iG6SST6hFdzszffr0Ehv1sIqlEsiGtS3Ix2Eaxirl1atXC5d6kio7TtStW1e4/KlevbpwFZuoLCgoYA0bNuSm8cqjILOVvX37duEqP9nKBs4IF/Fu0aIF/8JVGILIBl75hHp0tjNQiCA3N5d33tu2bcv9KkBnpH///tzsZbt27QIvTlSJsUoZU1w1atQQPrUkVXacCGI1qmbNmsJVPN1epUoV4WPcHXbEmK3sevXqlZJdHrKVDWC3Gh0SgOeAvfCgU9Fuglrq8son1KOzndm7dy9buHAhd+MZUB4cRS0byMOMEED9NvFVCr1TJmJJEKtR69atE67ihqJatWrCV6ycMK0chmxlR0kY2egUtGzZUviKlXSdOnWELzhBLXXJintQMDoKcpg4tRkHoAjHjBkjfMV1T/UHcZC3GDGHnRWSCSllotykatDwnsgbhnc5qghiNeqmm24SrtRAOYUhCtlhKa9svFN2K+hsCGqpS1bcgwKFEOTA9CohF7QLr776qvCpA3kL2Z07dxYh5kBKmSg3qRo0pzfsPtq0aSP+Qz5BrEZNmDBBuIqnVI8cOSJ8xYuv0n3+MB3Zyo6S8sjGYq/69evz9+phCGqpS1bciYoFOulYw6CyXQB4rwzQRmHwUJ5FnTIgpUzEkiBWo9xKBFO4TmUFWPiFsDBkKztKwsp23qlDIeN9MuKfLUEtdcmKe1DcszfpDpq+lgeUId7vQiHjfbIqxehMWzugM+6u90YgPuEojbDflJw2bZpl92T4AXdYwshPiuwwzxeU3Nxc4dLDgQMHhMufvn37Clcx69ev58fq1av5b1iylQ1ZkydP5kd55IIw8d67d681YMCAkuO5554TZ7IjiGzglU+EJ2wdjqKdCSu7oKDAshVyyYF7hCGMfLuzyeO7cOFCq0ePHtbAgQPFmewIIjvM8wFjlXJU6JRvumyZz6dbKQ8bNky4/CkqKhKuaCHZ6ZElP4nIrMOZ0CkbmB73sM9H09dELLFHAMLlj61EhCtaSHZ6ZMkniDhASjnBbNmyhf8ePHiQ/0ZJz549hUsPmaxGff/99+y2224TvmgxWTb47W9/K1zREkS2zLgThEksWbKE/2a7i4OUckL58ssvWZcuXbj7k08+4b9REnaRVFSksxplWRb75z//yYYOHcqNZsDU4NGjR0sWKuEXVrbGjx/PVq1axebPn8+/gITVycOHD+edGPe12Gc5atQovv92zpw5PD2xeAUrznfv3l3q2sOHD7PnnnuOPf/888plY3U5LCg9+eSTWmQPHjyYvfHGG/xeBBFnYBzl8ccf5+6sF7EVz2LLI+y8elTolG+q7K1bt1rnn3++ddZZZ/Frli1bJs7Eh5UrVwpXWWwlYZ04ccKylYQIiZZ0sseOHWvt3LlTi2xbYVrvvPOOFtm2UraGDBnC3bLkJxFT2xgVmBr3BQsWWFWqVLGuuOKKUO0rjZQTBkbI1157LXePGzeO/8KsYtxIZTXqwIEDbPLkyeypp55iOTk5rGvXruJMtPhZrBoxYgQ3VlC7dm3lshFvzF7cfPPNymWvWLGCn+vevTv3y5JPELrBCLlVq1bsuuuu4zNxINv2lZRygnAr5Pfffz+UKcWKgtdq1NatW9mxY8dKvU91Kk3UeGXDEMn69evZXXfdJULUyQaYUka8TzvtNO5XKTs/P59dfPHF7JJLLhEh8uQThE7cChmvfU455RRxJjtIKScEr0I+99xzuTuuuK1Gfffdd+ybb77h73MdxQRkGbFwy0ZHAO9tYYxDtWyAuO/cuVOb7MLCQnbSSSeV+uCGbuMhBBE1XoVcuXJlcSZ7SCkngKQpZOBu+LEY6YILLmDnnXeeCCnGWYgUNW7Z77zzDvvPf/7DmjVrJkKKUSEb+T5jxowyI1gVsvFtZWx9at68eZkGSpZ8gtBBlAoZkFKOOTCZmDSFDNDwY6SGqdJHHnmEnXzyyeLMD8CUogwcpTNo0CD+cQd0CLzIlo1VziDVl5tky8bWKHzYwll96kWWfIJQDXZxRKmQASnlmOM0gElSyAAfMP/888/Z/fffL0LKgkokgwcffJAtXryYPfTQQ3zqNhWyZEMRvvvuu9ymsF9+y5S9bNkyvlYBC8r8kCWfIFSDxYtRKmRASjmmuD9SnzSFjFXWU6ZMYaeeemraxRZNmzYVrujAoi7swz3jjDOUywYDBgzgq7t1ycZHBtA46ZBPEKrACBk0adIkUoUMcrAvSrilgBEDzO/BIEGjRo1EqDqwHaNbt278W6+XX365CFWDTtkdOnTgRh9ef/11dscdd4jQ0mBV7qWXXsrWrFmj/CPjMpk0aRJf7ZupvOF97y233CJ80YDKum3btoxWq2TIxtdusM3tscceEyGpkSEbPPPMM6xPnz7C548s+UlEZ/uqs30DuuQfOnSIr9OAQZy//e1vKXcdgNDtK9+tLBF8EQZi6NBzpPsiT7oN8BWd+++/39q0aRP/Cgw+gOCkA35tpWnZyosbsZg3b541Y8YM/nWmYcOG8S8dua8tLCy0Ro4caa1du9aaPXu2NXfuXJ5eo0ePtnbt2lXq2sOHD/N7JlX2G2+8wcMygfsR0YD099Z5OtQdTj1IRdj2NfYj5ZUrV3JjBa+88gq77LLLRKgadMrG/tBOnTrx75ZiBWwq4jpSBkOGDGGPPvqo8KUGBi1+9atfCV90kOz0yJKfRHS2rzrbNxDb9pWrZomE7S1EhU75psvW+XyywegtExgJyoBkp0eW/CSisw7rbj9Mj3vY56OFXkQsCWI1KtV2oSgg2emRJZ8g4gApZSKWBLEahQUiMiDZ6ZElnyDiACllIpYEsRoVVIlkC8lOjyz5BBEHSCkTsSSI1aigSiRbSHZ6ZMkniDhASpmIJUGsRsHylgxIdnpkySeIOEBKmYglQaxGTZw4UbiihWSnR5Z8gogDpJSJWOI2M+oH9nfKgGSnR5Z8gogDxiplmAzMy8vjh2qSKjtO4NOBmcDXjNzALCmONWvWsM2bN4vQ7MlWNuxlL1++nB/lJUy8gRNvfN0pbNyDyAap5BNq0d3OTJ8+nY0dO5avQ4ABDpVANgx7QD4O0zBWKa9evVq41JNU2XGibt26wuVP9erVhYuxffv2sYKCAtawYUNuhac8CjJb2du3bxeu8pOtbOCMcBHvFi1asGnTpnF/tgSRDbzyCfXobGegEEFubi4bOHAga9u2LferAJ2R/v37cwtb+JJc0MWJKjFWKWOKC1+c0UFSZceJpUuXCpc/NWvWFC7GR4dVqlQRPsbdYUeM2cquV69eKdnlIVvZ4Ntvv+UdEoDnqFq1auCpaDdBZAOvfEI9OtuZvXv3soULF3I3ngHlwVHUsoE8zAgB1G8TX6XQO2UilgSxGgUbzA5oKKpVqyZ8xcoJ08phyFZ2lISRjU5By5Ytha9YSeObyNkS1FKXrLgTFQMowjFjxghfcd1TbXsf09YYMYedFZIJKWUilgSxGuX3yTUHKKcwRCE7LOWVjXfKbgWdDUEtdcmKO1HxwPTxq6++KnzqwNQ5ZHfu3FmEmAMpZSKWBLEaNWHCBOEqnlLF91EdMEo+/fTThS87spUdJeWRjcVe9evX5+/VwxDUUpesuBMVCyy4whqGNm3aiBA14L0ywIgdi8zKs6hTBqSUiVgSxGqUW4lgCteprAALvxAWhmxlR0lY2c47dShkvE9G/LMlqKUuWXEnKg5Qhni/C4WM98mqFKMzbe2Azri73puAsUoZvSjM92NBANwqSarsOBHEapRbiWBUfOGFF5ZsDWrWrJk4kz3Zyna2YqFhwm95yFY2gAJGmcOB1bBouMLMEgS11BVUeRPy0NnOoJxjxTUOlDOs+g/bAc4WrLiGkRt0Cnr27MmnsI37lrz4hKM08C1JiMGvDnTKN122zueTzbBhw4TLn6KiIuGKFpKdHlnyk4jOOqy7/TA97mGfj6aviVgSZKuDrUSEK1pIdnpkySeIOEBKOcF89913whU/gliNuu2224QrWkh2emTJJwiTCLPXH5BSTihHjx5ljz32GHdv27aN/8aJTFaj3n//fTZ06FBuNAOmBpEezrtO/MLK1vjx49mqVavY/Pnz+ReQ8L53+PDh7ODBg6WuxT7LUaNG8f23c+bMYZ988glfvIK9mLt37y51LVZ49+rViz3//PNaZEPe448/rkX2kCFD+McocC+CiDNffvkl33YFgpqfLUFMY0sj7Lx6VOiUb6psvNO7+eabrcqVK1t2o2odPnxYnIkPK1euFK6y2MrBOnHihPBFTzrZkydPtnbu3Cl80ZNOdn5+vrVw4ULhi550sm2lzMsaES2mtjEqMDXuW7dutc4//3zrvPPOs+bOnZt1+0oj5YSBkdGtt97K3nvvPW4oolu3bqUsWcWFVFaj7M4IW7FiBevatSvLyckRodHjZ7FqyZIlfAtI7dq1RUj0+MlGvH/+85+zq666SoREj59su5FidkeE3X333SKEIOIJRsjXXnstd6O+33LLLVm3r6SUE4RbIWO6ERv344rXahTibo+OuRu2nWWSymKVY5hEl2x0QipVqsQqV64sQqMnXbwhX3bcCUInboWM12Pnnnsud2cLKeWEkCSFDLxWo5YtW8Y+++wzdvnll4sQeXhl79q1i82YMYNdffXVIkQeXtmWZbHRo0ezyy67LLKPXviRylLXpEmT2E9+8hN23nnniRCCiB9RKWRASjkBJE0hA7fVqMGDB3OF2KhRIxEiF7dsKGMY5+jQoYMIkYtbNhqK119/nXXv3l2EyMUtG4tbBgwYwF8VxPH1CEE4RKmQASnlmINtT0lTyAArfhH3WbNmsUceeYSdfPLJ4ox8nFXHUMitWrViF1xwAferwJH9j3/8g09VB/1yUxQ4sr/66iu+ehurvAkizmDbU5QKGZBSjjnY9pQ0hQweeOAB/pWnX/7yl+ykk04SoWqAMsKUNcx2quwMAEc2GofTTjtNadwhG1uhYNP47LPPVp7uBKEamOkEUSlkQEo5pjiGQVavXp04hQywD/jjjz/mSlk1gwYN4nt8dciGtayZM2eyunXrSn+H7AWyseIUq9zPOeccEUoQ8cNtGCRKhQxysC9KuKWwfPlybtx/ypQprEGDBiJUHfn5+axTp07cIIKqd4oOOmXjXd7KlSvZn/70J/bwww+L0GQA4xQq3yG7wbQxDHConDZ2wNdukN/okOgArwkgn1CHzvZVZ/sGdMk/dOgQ39qIWSF8zCNyC3VQyjKxCwvfZE2HngPpn0Tuv/9+a9OmTdbAgQO5sZS+ffvycPxu27bNGjduHDd2MW/ePGvGjBnW+vXr+QcVDhw4UOrawsJCa+TIkdbatWut2bNnc2MAMBgwevRoa9euXaWuhZGAwYMHJ1b2G2+8wcMIdVD7qveQ0b5KHynv2bOHT+VhOk3HPkWsfP3www/ZFVdcEfqj9WHRKRvvU7/44gt24403slq1aolQgiDihM72VWf7BuLavkpXygRBEARBBIMWehEEQRCEIZBSJgiCIAhDIKVMEARBEIZASpkgCIIgDIGUMkEQBEEYAillgiAIgjAEUsoEQRAEYQiklAmCIAjCEEgpEwRBEIQhkFImCIIgCEMgpUwQBEEQhkBK2XDwOb4gBL2O8E8rHWlo0rMQwckmfygviWwgpWwwPXv2ZDVq1BC+9IwdO5YqfwD80jSbtI4Sv3yj/DSXbMsK5SWRFfhKFGEeY8aMsQoKCoSvmNzcXMtuDPh3PBs3bsy/b+umR48ewqUfPCueE7+mkCpNQZi0zoZ9+/ZZ9erVE76y+OWbSflJFBO2rFBeEkGhkbKBbN68mdkVm9kNuQhh7N577+XhW7ZsQUeK9erVizVv3rxUD7xFixa8V24CduPFj71794oQvaRKUxA2rbOhc+fO/H5++OVb2PxMJ4sIT3nKikl1kzAbUsoGAmWGKTI3qPht27YtmTZr06YNbxxWr17N/eD6669n06ZNEz7CTao0BWHTOgi4Dz6+XrNmTRGSGr98C5ufAwcOFC4iSspTVqhuEoHBcFk2mLrB9A5+nakeu+CWmuZxpjvtQm3ZBZhfg8MuyOKK1CxcuJDfC/+LX+80Ec7jHA67seLTT7gO94Yc55p09wjy/A7u806c4HemvBAfTHEh3G+qC+FBwD28U2lIv1RTtA5B0sMh3bNiShay8H/OedzHDe6Ne6ZLs3Rpn02ZyJSuCEuFX7gX3DddumYC/58Ov3zLlJ+pQLoFJUjZziYf3JhUN93nnPjA707bsGXIC/4/qrwkkocSpQxQ6VBYnUoFv7eQo1LiGvwCVApUHG/lcIP7oJIBFHjcE2FeEIZ74Tyug1Jx5AS5B/yZnh9hTmOCZ8b1+EXDAlDp3Q0G/HgmPIsD5Dv38MNRiF75AHHyPnsqcI1feoBMzwr5SDP8L3DSx42Tn5nSLF3aO/dwng3P4y0TmZ7VL03Lm9bZ4E0bL3755heeDic9g4L7Z8qnIPngBfcxoW7Cn65egrBlyE2mshImL4nkoUwpo0CikDugkLv9ANd4CzQKMQp6UFDRUlUKp+I6lSwdqe4R5PnxP+6KDr/TuABUevd5gIruvgaNQrpGFTIRDxzeewE0Jk7jlI5M6ZHpWb3PDbzPHSTNvHjTHvfw5oW3TGR6Vr80LW9aZwPukQ6/fAuan27SxSkVQfIpSD5kwpu3DrLrJq535x/8TtlwCFuGHIKUlTB5SSQPpe+UmzRpIlz+2JVDuIqxKwb76KOPhC81ixYt4u916tevz3/9FuTgXnblEb7SBLlHkOf34n6f6Lx/wntG54Bctyxc4/eMwG640Lrz91O4lzdtkH64RxDSpUemZ7UbK37k5OSULGKxG1d+zk2QNMuU9pnKRKZn9UvT8qZ1lPjlW6b8xEIj74G4e8OmT58u/iM1Saub3vf8YcuQQ5Cykk3dJJKLUqWcrlA7+FVaP5xGp3379nxl5OLFi8WZsngbFYeg98j0/Ph/LARBHFChUTHR2Djg/3F/VGDnQEW2e8/iiuDYIxSuBPv37y9CisFq50wLixz80gNkelbIcM4j7ezRATv//PPL5F+mNAuS9pnKRJTpmgq/tI4Sv3zLlJ9O58h9oMx5wxCHdGTKJ1BR62amegmiKkPpyko2dZNILsatvkalcTN16lTWuHFj4SsLRmioTKgMQRqWVERxD1BYWMgbl0svvZQ3Arin+35OY+kGIxj3KCZVbxqNCEakqfA2lPBjRFFeMj0rtn0g3RA/pBtGCO3atSuTf5kIkvaZykSmZ02VpqC8aR0lfvkWVX5GQUWtm5nqJQhThrItKyblJWEuRm6JysvL47+oEHC7p0VRMZzzAJXF6ZWi0MONHmmqSuFHFPcAuB5TuQUFBbziexssxAONDA6ASo09rO4GIlXlx31wjTveaCDRwOBwg/9138+bXkHJ9KyIK2QjHEAOngnPnw1B0z5dmcj0rKnSFJQnrcOmqx+4nzvfHPzCdZEuH7xpEjRv0xHFPXBtunoJwpShbOolMC0vCUOxFJCbW7wFAYddkPmCB8dvF1K+MAPYPVW+uMLuFfNwXGtXIn7OAdfYFUT4ihdg4DrcC+FYSOH8P+Rg0YUjyzlwvZtM9wj6/Pg/J9w5h/vscy1gwbWII85BFuLjBee94P+cZ8K98RypFpR45XnTK0h6OKR7VoQjvu7ncZ8PmmaZ0h73zFQmQKZ0TZWmIFV4kLTG/XHendapcO7hjnsqvPnm4BeeDqR9UJJQN4PUSxCmDAUpKw6pZBKEFyVKOSioBCi4FRE0HqjI7koHt90DL9PQZAL/41exM1FR08+PqMqEX5qWJ63RIDtKq7z4xTFM3LNRykGpqHXTlHoJ4lY3CTmQRa+IwLQVFqTYPWYRUrx4xO6ll0zxBgX/Y/f4hS84mHrDMxBl8UvTsGkNMB1pN/jCFx6/fAubn6mmTpOKCfUSUN0kgkJKOSLsXjB/3+UsDAF4l4WKiHPZgv9z3ysTkIXjes+qUuIH/NI027R28L5jDINfvpUnP6PoKMQF3fUSlCcviQQiRsza8b4bqohgqgzvnfB+CQemzTDlFRa8Hwv6Dsr7/isOyCgTfmmaTVoDXIv8Li9++WZSflb0uqmzXoI41k1CHjn4Y1c2giAIgiA0Q9PXBEEQBGEIpJQJgiAIwhBIKRMEQRCEIZBSJgiCIAhDMGKh14kTJ1i/fv3YVVddxX784x+LUHXMnj2bValShZvVq1Wrlggl4sxrr73Gqlatyn7xi1+IEHV8/PHHbOXKleyOO+7gz6CSXbt2sYkTJ7L777+fVatWTYSqAfV8/Pjx7H/+53/YrbfeSnVNEdu2beNmRO+66y5WqZLacZg7zy+88ELl5d1p26+++mrlsp16/vzzz2dX1qGUdXL8+HHLVoYlWy50HkOGDOFbJYqKiqy+ffvy58OvXaitcePGWXYCW/PmzbNmzJhhrV+/3ho2bJh14MCBUtcWFhZaI0eOtNauXWvZBcKaO3cu35IxevRoy24QS117+PBh64knnrD+8Ic/WJs2bVIuG/KeffZZHpYkJk2alDL/6VB3TJkyReQGIZO9e/daDRo0SJkHdKg5Jk+eLHIjGFpHyuhFdenShdlKh3+hBV9xUYmttJitlNivf/1r9ve//50tW7aMXXnlleKsfBDvVq1a8c/EXXDBBSJUDf/617/Yjh07+FdrVMvWiV1BWMeOHfnRrVs3pSOHzz77jBufqFOnDuvevbvSkcPBgwd5fL/++mvWq1cvpSMH1PMXX3yRzZw5k8cfdV11XUsiaFduuOEG/iGOl19+WemskDvPn3rqKWZ3DFjdunWVlTmnbW/ZsiX/eh0+K6tKtlPP8ZnOL774IvuyzlWzBpwRck5ODh+5qAYyIRvPsGrVKt6jicIYRFBef/11yy643D148GD+q4q3336bj7IhX7VsnbjzHOVPJfn5+ZZdSa0mTZrw0YtKIA9yIR/PoRJvPUcdU13XkohJea4aU+q5PdALVda1KGXTMk1lQwF59gi11IcMMJWsCkyHb968uaSwqpStE1MqapIVMiClLB9SyGbU87BlXblSNjHTVDUUGJnu3r2bv+9147zrlQ3kjx8/XviKUSVbJyZVVJWY2DirqmtJhRSyOfU8bFlXqpRNzTRVDcVbb71lbdy4UfjUsnXrVi1prhvTKqoqTG2cVdW1JEIK2ax6HrasK1PKJmeaiobilVdesb7//nvhK43s0SpG5l999ZXwlSbOI2UTK6oKTG6cVdS1JEIK2bx6HrasK1HKpmeazIYC8j755BNrz549IqQs2K4ki48//pgXFr/CKlO2TkytqLIxvXGWWdeSCilkM+t52LIuXSlXhEyT1VBAHhZS/e1vfxMhqcE+YhkcO3bMmjlzZskq71TIkq0TkyuqTCpC4yyrriUVUsjm1vOwZV36PuVnnnmGvfDCC+zJJ5/kVnxUsnbtWtapUyd27bXXsr/85S+sdu3a4kxpPvroI75H2k481rhxYxFafpYsWcL3wTZr1kyEpAbyo5QL8FH1N954g+9NTYcM2Tr54IMPeHojz2FJp3r16uKMfA4dOsT3nUMm9oWec8454owasDdy/fr17KWXXmJ2YyFC1fDqq6/y/ccjRoxg9913nwgti6y6llSaN2/OrUYh3X/1q1+JUDWgjMNaV8+ePfleYJWgbf/jH//Iy3n//v35nmBVoJ7/9re/ZaeffjpbsGAB+9nPfibOlCZ0WeeqWSL4wDfE6D7SWevq3bs3v8Yu2JFazMIeYFsxZrTWNXTo0MitdQXdf4z7xAn0mLt27Vom/+lQc2Sy1IUyi+vwS5Sffv36lckDOtQd6cp72LIufaS8fPlyPnKxH55bdVHNhg0b2J133pnWqorM3rvdGWCPPvqo8KVmzpw5fIQVNTpl60RnmcvPz+ezMxhBNGrUSISqQafsIPUM0Eg5WpJa1oHp5d3YkXLY3kJUBJEv8xmDGOfA6FcGOmXrRGZ+ZoJkp5et8xnjiM701J2Xpsc97PPRpxslM3ToUOHyZ+nSpcIVLTplEwRBENlDSlkyTz/9tHD5c/vttwtXtOiUTRAEQWQPKWXJYOV5JrCKUQY6ZRMEQRDZQ0pZMtimkokgI9ow6JRNEARBZA8pZcn89a9/FS5/goxow6BTNkEQBJE9pJQl07RpU+Hy58EHHxSuaNEpmyAIgsgeUsqS2bFjh3D5M3HiROGKFp2yCYIgiOwxWilPnz6dH2PHjmWLFi0SoWr49NNP+bFmzRq2efNmEZo9x48fFy5/rr/+euEqRqfsJKOrvMEkal5eHj904cQb6xBU1zVCD0kt76aXdWOVMpTRwoULWZs2bVhubi4bOHCgOCOfffv2sYKCAtawYUNukQVWc8JSt25d4fJn48aNwqVXdpLRWd5Wr14tXHqA5SHgxLtt27bcT8SXpJb3ilDWjVXK6MHUqFFD+Bh3q+rVoMBWqVJF+Bh3hx2xBjHO4f5ogk7ZSUZnecNshVu2avbu3csbaIDngHF/p/Ei4klSy3tFKOvGKmWMFs844wzhYzzxMO2hAmRctWrVhK9YMRYVFQlfdgQxzuH+wolO2UlGZ3nTDRpJfOHJAWWQ7FLHm6SW94pQ1ivUQi8koC6+/fZb4cqOIMY51q1bJ1yp0Sk7yegsb7rAezZ8hpFIHkkr76aWdWOVcv369VlhYaHwFReYevXqCZ9c0Gs8cuSI8DE+UsW3M8MQxDjHTTfdJFx6ZScZneXNFLAApkWLFvw9IxFvkl7eTS7rxiplTDO436XCjTAVoHC6p3Kw+CpsgQ1inGPChAnCpVd2ktFZ3kzAeceIRgrv2MKuYyAqBkku76aXdWOVMhRR+/btS5av9+rVS5yRD0amF154Ycm2JHyvNCxBjHO4R7Q6ZScZneUNMqdNm8YXoMCtGjRKWIWKA+UPq/7DdgSJikFSy3uFKOviE47SwLckIQa/OggiX+YzDhs2TLj86du3r3BFi07ZOpGZn5kg2ell63zGOKIzPXXnpelxD/t8FWqhV0UkyJTQ448/LlzRolM2QRAEkT2klG2wPUAWQYxz2CNa4YoWnbIJIhVr164VLoKINwcPHhSu7Ei8UkYj0alTJ+4Ou/UoHZmMc6BDcNlllwlftGSSfezYMfbf//3fwpcs3n//ffb9998Ln1qQ51u2bBE+tSDP//GPfwifWiZPnsz++Mc/Ch9BxBcs0O3SpQt3Hz58mP8GJdFKGQr5uuuuK9lEv2LFCm6P9ejRoyUrl/G7fft2Nn78eLZq1So2f/58/klELMQaPnw47w25r8XWglGjRvH9v3PmzOHXYYUfNqzv3r271LVY7DBlyhS+2AENtUrZCO/evTv3Jw2sOL/mmmt4+ked7o7C27BhQ9o8//DDD5XLdvJ827ZtymXjuj/84Q+sefPmPIwg4goU8g033MC+/vpr7v/yyy/5b2DEu2VphH3ZHRV+8vPz862aNWtaTZo0sd59911+zbJly8TZ6Bg3bpxwlWbTpk3Wjh07rOPHj1uDBw8WodHiJ3vz5s3WoUOHLLtRlSZbJ355jrRG3G3Fw/0y4u4nG8jO83SyZed5Otm2Qubnfv/731vffPON9fDDD1v26EGcJcpDunSXjU7ZwMS4o35Bp0C3TJw4kV+TrV5J5EjZGSFjKfyCBQtY7dq1eXjVqlX5b5SkMs5x4sQJtnLlSnbWWWexSpUqsa5du4oz0eIne/369fwLUtgSIEu2aSDemEZC3OvUqcPDVMZdVZ6nQmee49Og9913H7vtttv49PWpp57K+vXrV8qULEHEAWeEjG1X7733Hrv44ot5eLZ6JXFK2auQ0UjJxGucY9euXXx60G2XeujQocIVLV7ZdieMDRgwgP3mN79hP/7xj3mYLNmmganYzz//nMfdQVXcVea5F515DiV899138+Ott97inRGQlDJHJAevQr7kkkvEmRDw8bJEdE4xALd895Q1phkcVD3jO++8Y/373/8WPrVs3brVmj59uvDFG29+jhw50vruu++4WzZe2Srz3CtbZZ57Zb/22mvc37lzZz5dT8jBm+4q0SkbmBJ395Q1dIxD2OdLzEj5s88+UzpCdnAWu2ARGRYX/exnP+N+N841UePcF1OXMCt34403cr8bWbJNwJkyxgKjk08+WYT+gOy468hzB515jg+hYHTcsWNHNnr06JIRskOcyxyRLLD4MbIRsiAxShnL01UrZADjHFjh+s033/B3C94GCuBrJTJwZGOrF7b/4H2eF1myTcAeHbNDhw6ljDeQGXfI1pHnALJ15fmsWbP4O+Rbb72VT9mrjjtBqARlPUqFDGKvlDFCBmeffbZyhQwGDRrEPw8G61qpGiiAbScygGEQbGWBfVd8fSoVsmSbQH5+Pp8d8UNm3GfOnKklz8Ff/vIXbXnet29fduedd/KtXzriThAqwAgZYHthlAoZ5GAOW7ilsHjxYt44odfcqFEjEaoG7MXENBpW3aIhaN26tThTGuzfRCO2Zs2aSD94vXTpUr7vE4bf0wH5UX9oG1+agkJ+5plnREhqZMjWzaOPPsoXE2E/cIMGDURoWbCnNt35MGBB08CBAzOWdxmyP/jgA/bAAw9okQ2ZmLZu2bIlHy37KWQQxzKnC53tK17PdOvWjef75ZdfLkLVoUs+9EmHDh3Y1q1b+esZv5mf0HqFv1mWCD54ADG6j0ceecSyG0urqKio5CMM+LV7Olbv3r35NSNGjLBmzJhhrV+/nn/M4cCBA6WuLSws5IuG1q5da82ePduaO3cuf4lvZ4y1a9euUtdiH2ZeXp5lFxq+P9VPNvYS2wrEmjdvXqSysRf1z3/+Mw9LB+4TNyZNmlQm/+lQc0yePFnkgj9xLHO6QH1PlQ90qDmcdjcVaJ9xDX6zIdYjZYApTJjRxDc0/awJyRopgyFDhvCRWzpgfatVq1bCFx06Zetkz5497KGHHuK96HR7BGGFCguxogRbI+wOEXvsscfSviqJm2y8w8aIBa9MatWqJUJTE8cypwud7SsWUWLP+yuvvCLNVHA6dMqXqle4apZI2N5CVASRL/MZMWrNBEa/MtApWzdJTXfTZYO4ljkdyGy7MqFTNjA97mGfL/YLvXQTxFAC3j3LQKds3SQ13U2XDeJa5ggiCkgpS+bpp58WLn/clp6iRKds3SQ13U2XDeJa5ggiCkgpSyaIoQS8i5OBTtm6SWq6my4bxLXMEUQUkFKWTBBDCUFHGNmiU7ZukprupssGcS1zBBEFpJQlE8RQQtARRrbolK2bpKa76bJBXMscQUQBKWXJNG3aVLj8efDBB4UrWnTK1k1S09102SCuZY4gooCUsmR27NghXP7gm7My0Ckb9mB1ktR0N102kCWfIOIAKWXJ4MPymcDmfxnolA1TkzpJarqbLhvIkk8QccBYpQzbzXl5efxQTVFREVu+fDk/ykvdunWFy5+NGzcKl17ZcSJM3D/99FN+rFmzplwj/YqY506833777dBxDyIbxLXMVSR0tq9g+vTpbOzYsXxxIKxiqQSyYW0L8nGYhrFKefXq1cKlHnxEIiqCGEqoXr26cOmVHSeyjTtMVOIDJg0bNmQwjVceBVnR8tyZdka8W7Rowb/wFIYgskFcy1xFQmf7CoUIcnNz+Yxa27ZtuV8F6Iz079+fm71s165d4B0DKjFWKWOKCx9p1wG+u1ylShXhKx9BDCW4P7GnU3acyDbuGB260x3usCPGipbnsFuNDgnAc8BeeND3w26CyAZxLXMVCZ3t6969e9nChQu5G8+A8uAoatlAHmaEAOq3ia9S6J2yZIIYSli3bp1wRYsq2ehteg9MSXnDMG2kimzjjoaiWrVqwlesnDCtHIaKlufoFOCTiw5Q0nXq1BG+4ASRDWTFPSjecul3mDi1GQegCMeMGSN8xXVP9ac8kbcYMYedFZKKsIEtjbBGuYGdcfyTh+UhiPxU16xevdpatmyZ8MkFn3B0o1N2VOTm5gqXubjjvmDBglJpPmfOHJ4PsjA1zxFvfD5UJrLKXBIJ0r75Ud72tTyyHdBO2IpR+LKjvPLt0brVpk0b4cuOILLDPh+NlCUTxFDChAkThCtadMrWTbZxxxTakSNHhK948VW6zx+mo6LmORZ71a9fn79XD0MQ2SCuZY7IDsycYQ2DrRhFiBrwXhlgxI4ZvfIs6pQBKWXJBDGUIMvsoE7Zusk27pjCdSorwMIvhIWhIua5804dChnvkxH/bAkiG+guc6mmqlMdNH0tDyhDvN+FQsb7ZFWK0Zm2dkBn3F3vTcBYpYxeFOb7sSBA5btI4GyNQUHBb3kIYijBPcLQKTtOZBt3jIovvPBCnuZr1qxhzZo1E2eyp6LlORQw6hoOrIZFwxVmliCIbKC7zOF9ZpADq4Pjis72FeUcK65xoJxh1X/YDnC2YMU1LM+hU9CzZ0/e+VL9PjsjYhpbGmHn1aMiiHyZzxjk/VxRUZFwRYtO2brfKSc13U2XDWTJTyIy265M6JQNTI972Oej6Wubw4cPC1f0BDGUMGzYMOGKFp2y0QvVSVLT3XTZQJZ8gjCJEydOCFd2JF4pY+quc+fO3I2tIFGTyVDCF198wZo3by580ZJJ9rFjx9hFF10kfNGiajrKj0xxz8/PZ61btxa+aElqnmeSDfD+8LbbbhM+gognUMh9+vTh7mwHfYlWylDIN9xwA/v666+5f8WKFdzs3NGjR0vee+EXFpfGjx/PVq1axebPn88/UYd3f8OHD2cHDx4sdS323I0aNYrvxZwzZw6/Dg0R3lHt3r271LVQDG+++SY/B+MNKmUjzig027Zt42FxI52Bio8//pibhHzppZeUp7sJeT5z5kzlsg8dOsQef/xx3inAvQgirkAhd+nShZusBV9++SX/DYyYxpZG2Hn1qPCTbzcoVpMmTSy78bYmTpzIr5GxT3TcuHHCVRq7cbLef/99y+4YWIMHDxah0ZJO9pYtWyxbQUiTrZt0cZ89e7ZlVxwt6R7nPPeTffz4cevIkSPWvHnzuD+uZU4HOttXnbKBiXFHWe/cubOVk5NjPfXUU6H0SiKVslsho5GS+Yx+hhL69+8vXJZ1+PBh4YoWP9kvv/yytX//fu6WJVs3qeKOONsjO+FTn+5xz3M/2UuXLrWWLFkifPEtczqQ2XZlQqdsYFrc3Qp50qRJoZ8vcdPXzpQ1luW/99577JJLLhFn5OA1lLBr1y5mZxh74oknRAhjQ4cOFa5o8cq285vZoxTWtWtXdtppp/EwWbJ14407tn7YI0XWrVs3EaIu3ZOS517ZANPb2HJy1VVXiZD4ljkiuThT1uPGjeNbA++66y5xJgRcNUskbG8hKtzyvSNkB1XPuHbtWmvnzp1atoQg7jDlmMTtKHbni0+foiermqTmOdJ60aJFtP1JMqrarlTolA1Mibt3hOwQ9vkSM1LGIhWVI2QHZ7ELFrpUrlyZnXzyyfzXjXNN1Lhln3TSSdxikyrZunHHHauCEe9KlUoXdxXpnqQ8d+6LUQN2Mpx66qllZANZ8glCNZGOkB2EcpZG2N5CVDjyGzZsWGaE7CDzGZ2RwksvvWR9//333O1l165dwhUtjmwYfN+6dSt3e5ElWzeI+9GjR62RI0eKkLLITvek5bkje+PGjdbcuXO5OxVxLXM60Nm+6pQNTIh769aty4yQHcI+X+xHyhghg23btikdITsMGjSI/elPf2IPPfQQH7mkAttOZAAjDf369eP7Qs8991wRWhpZsnWD7TeLFy9m9913nwgpi6y4JzXPIdsx0XnLLbeI0LLEtcwRyQEjZDBr1qzoRsiCHGhm4ZYCGkZ8jQN7Hxs1aiRC1QCF3LFjR2aPGNjo0aO5ndNUYG8l7K/aPZpI7aBiPyz2ht54441lpk7dQH7U9lcR96lTp7JOnTopl60be5TGzjnnHHbxxRcrj3uS8xz7vvFRinSyQRzLnC50tq+w64CFk/iO9uWXXy5C1aFLPhTyo48+ypYsWcJ69OjB7cWnAuU8lF7h42WJ9O3blw/hdR+PPPII/3YoptjwTM6zYRtH7969+TUjRoywZsyYwW342r1+68CBA6WuLSws5NOhWLyDva6YosPUhK3w+ZSc+1ps++jTp491zz33WJs2bfKVjb2dQ4cO5Xs4o5Sdl5dn2aM1HpaOdNOMFZWCggLLHiFrSXfded6hQwctsrH3GPcNQhzLnC6Q/t62jg51h1MPUoH6gmvwmw2xHikD9FZgRhNfBfEzbRi6RxOAIUOG8F5VOmANqVWrVsIXHTpl6yap6W66bBDXMqcDne3rypUr+Va7V155hV122WUiVB065UvVK1w1SyRsbyEqgsiX+YwYRWQCoxEZ6JStm6Smu+myQVzLnA5ktl2Z0CkbmB73sM+X/uUPUW6GBjCUsHTpUuGKFp2ydZPUdDddNohrmSOIKCClLJmnn35auPy5/fbbhStadMrWTVLT3XTZIK5ljiCigJSyZIIYSsDqQRnolK2bpKa76bJBXMscQUQBKWXJ+G3DchN0hJEtOmXrJqnpbrpsENcyRxBRQEpZMkEMJQQdYWSLTtm6SWq6my4bxLXMEUQUkFKWTNOmTYXLHxhckIFO2bpJarqbLhvEtcwRRBSQUpbMjh07hMsfmGmTgU7ZuklqupsuG8S1zBFEFJBSlszx48eFyx9s/peBTtm6SWq6my4bxLXMEUQUGK2Up0+fzg3cYwEJLKeo5NNPP+WWWN5++23+ucew1K1bV7j82bhxo3AVo1N2XAib7k7aq0z3oqIitnz5cn6Ul7B5HkWZCyIbxLXMVTR0tq+QDYtXkI9DB3gGHKZhrFJGhoHc3Fxu8Ltt27bcrwJnGg4m0lq0aMGmTZvG/WEIYigB3/t10Ck7TmQb93379rGCggLWsGFDnvblUZDZyt6+fbtwlZ8weR5VmQsiG8S1zFUkdLav+/fvZ/379+emJ9u1axd41X6UOM9gIsYq5b1797KFCxdyd40aNVjNmjVLCpJs8IF2NNAAH4mvWrVq4PdlXoIYSkDcHHTKjhPZxh2jQ6S3A9xhR4zZyq5Xr14p2eUhTJ5HVeaCyAZxLXMVCZ3tK+RhVgagjul4nfHWW2+x9u3bC59ZGKuUkVFjxowRvuJCpOpzb2gkW7ZsKXzFjVadOnWELzuCGEpYt26dcOmVHSeyjTvKV7Vq1YSvWDlhWjkMOtM9jOyoylwQ2SCuZa4iobN9dcC0NUar5ZkNDAM6Hyava6gQC70wvfHqq68Kn1rwjs3dYGVLEEMJN910k3CVRqfsik4UcYdyCoPOdC+v7PKUuSCyQVzLXEVFV/uKqXPIxteWVILROTqipmK8UsaLeLznatOmjQhRBxa/1K9fn79nDEsQQwkTJkwQrh/QKTsOZBt3TN8dOXJE+IoXX51++unClx060708sstb5oLIBnEtcxURXe0r3ukCjFixyCzsq6JsycvL47+I96pVq/gUvqpp+6AYrZSRWXj/gAKDhFOVcQCyMIWJBgrv17AQKAxBDCV4Rxg6ZceFbOOOnrPTUACkedjetM50Dys7ijIXRDaIa5mraOhqX51pawd0iN11TyY9evTg8cWB+o0Oiepp+0wYq5RRQLAiEAdGLFgZqmrKAQ0S3nPgwMpEFKKwo6YghhLcIwydsuNEtnFHGl944YUlW4OaNWsmzmRPtrIhEwfKPH7LQ5g8j6rMBZEN4lrmKhI621esuIb1N3QKevbsyaewVStGyMYxdepUZZ2RwIjvKkvDbuCM/xC2zGdcv369cPlTVFQkXNGiU7ZukprupssGcS1zOpDZdmVCp2xgetzDPl+FWOhVkQliKGHYsGHCFS06ZesmqeluumwQ1zJHEFGQeKV84sQJ9uKLLwpf9GQylHDw4EHWunVr4YuWTLIR9xtuuEH44kWmuOMd1m233SZ80ZLUPM8kG8hMd4Iwiblz5/Jf1LlsSLRSRmJ16dKFzZgxg/u/+uorvjrv6NGjJe+98AuLS+PHj+er9ebPn88/UYd3f8OHD+cNrPta7PcbNWoU34s5Z84cfh0WUWBP4O7du8tc+6c//Ym7YbxBpexDhw5xee+++y4PixvpDFQUFRWxL774gg0dOlR5upuQ5wMGDFAuGyvbIRfv8XAvgogzkydPZs8++6zwZYmYxpZG2Hn1qPCTf/z4catz585WTk6ONXbsWH7+8OHD4mx0jBs3TrjKMmnSJGvnzp3CFz3pZP/rX/+yFixYIHzxI13cBw0aZNkdMuGLnqTmeTrZtlK2Ro4cKXxEVOhsX3XKBqbGHXUceuXuu++27M5t1nolkUrZrZCRgDLZtm2bcJWmf//+wiUPP9kvv/yytX//fuGLJ6nijjjbIzvhk0dS89xP9tKlS60lS5YIHxElOttXnbKBiXF3FDL0C/RMGBI3fe1MWdu9er6F46677hJn5OA1lIB3au+//z577LHHRIg8vLLt/GazZ8/mFnROO+00ERpPvHFfu3Ytn26FFSHZJDXPvbLBvHnz+HaXK6+8UoQQRDzBlHXHjh3ZPffcw0aPHs0qVQqnXhOllFUrZOA2lHDgwAF2yimnsJ/+9KfsRz/6kQiVh1s24g7lAItNKmTrxh33wsJCVqtWLW4oQXW6JynP3bIB0v2cc87hRknCNlAEURGISiGDxNQUHQoZOItdwIoVK/hCml/84hciRC5u2du2beOf1rvoootESLxxx33mzJmsdu3aoY2wZEtS89wt+/jx49wYCQyykEIm4kyUCpnDJ7ElonPeHzjyW7dureQdshfHUEK/fv2s77//nrtV4ci2OyHW1q1buTspIO5Hjx61BgwYIELUkdQ8d2Rv2LDBeuutt7ibkIvO9tWUtl1n3J9//vlyv0P2EvsuLEbIYNasWUpHyA6DBg1ib775JuvVqxc76aSTRKgaYKQB7/kQ53PPPVeEJoMnn3ySm8uErVvVJDXPIRvvr/GqQPUHDghCB88991x0I2RBDjSzcEth+fLl3I7wlClTWIMGDUSoGqCQ0Sj//e9/Z0899VSp6TUVYGER9sOeeeaZ7OyzzxahakDclyxZwn7+858rl62bLVu2sG+++Ya/z1Q1Ze2Q5DxHPfvlL3/J405T1mrQ2b7m5+ezTp068X3tjRo1EqHq0Ckf9uGxHx+fOcWAL9LyzsfLErELCx/m6z6GDBliDRw4kE+x9e3blz8bfrGNA/srV65cac2bN8+aMWMGt+Fr9/qtAwcOlLq2sLCQ77Vcu3atZY8IrLlz5/JpDLuXZO3atavUtdib1r17d+v//u//rE2bNimXbXdArEcffZSHJQ2kT25urpZ0153nN998sxbZgwcPtrp168bDCHWY0r4m9Zg8ebLIieiQPlLes2cPtwxUt25dVrVqVRGqDlgu+u6779iNN97Ip9UIgiDigs72FV8X+/DDD9kVV1yhfEYK6JSP2ThYqbvpppsi1yvSlTJBEARBEMGgFz8EQRAEYQSM/T+4aQ3cB9CUZgAAAABJRU5ErkJggg==)"
      ],
      "metadata": {
        "id": "hpNrrD3BIqhS"
      }
    },
    {
      "cell_type": "code",
      "source": [
        "x = np.array([[1,2], [3,4]])\n",
        "y = np.array([[1,2], [5,6]])"
      ],
      "metadata": {
        "id": "pySjWFrtFXWk"
      },
      "execution_count": 52,
      "outputs": []
    },
    {
      "cell_type": "code",
      "source": [
        "x"
      ],
      "metadata": {
        "colab": {
          "base_uri": "https://localhost:8080/"
        },
        "id": "Xg7_dULfID2t",
        "outputId": "29e3a5cc-03b0-40a7-e2f2-77e6de370c71"
      },
      "execution_count": 53,
      "outputs": [
        {
          "output_type": "execute_result",
          "data": {
            "text/plain": [
              "array([[1, 2],\n",
              "       [3, 4]])"
            ]
          },
          "metadata": {},
          "execution_count": 53
        }
      ]
    },
    {
      "cell_type": "code",
      "source": [
        "y"
      ],
      "metadata": {
        "colab": {
          "base_uri": "https://localhost:8080/"
        },
        "id": "1OZUiwGqIE2M",
        "outputId": "9ec9b6de-fbf1-44ba-b528-074e307691bb"
      },
      "execution_count": 54,
      "outputs": [
        {
          "output_type": "execute_result",
          "data": {
            "text/plain": [
              "array([[1, 2],\n",
              "       [5, 6]])"
            ]
          },
          "metadata": {},
          "execution_count": 54
        }
      ]
    },
    {
      "cell_type": "code",
      "source": [
        "x+y"
      ],
      "metadata": {
        "colab": {
          "base_uri": "https://localhost:8080/"
        },
        "id": "YQ9jwFnqIFAM",
        "outputId": "09906a39-947c-4f5a-ea99-b49e294124f8"
      },
      "execution_count": 55,
      "outputs": [
        {
          "output_type": "execute_result",
          "data": {
            "text/plain": [
              "array([[ 2,  4],\n",
              "       [ 8, 10]])"
            ]
          },
          "metadata": {},
          "execution_count": 55
        }
      ]
    },
    {
      "cell_type": "code",
      "source": [
        "x + 3"
      ],
      "metadata": {
        "colab": {
          "base_uri": "https://localhost:8080/"
        },
        "id": "fJQgX5qUIFlU",
        "outputId": "e10c8f8c-6a8a-4460-c92e-596c19c1b845"
      },
      "execution_count": 56,
      "outputs": [
        {
          "output_type": "execute_result",
          "data": {
            "text/plain": [
              "array([[4, 5],\n",
              "       [6, 7]])"
            ]
          },
          "metadata": {},
          "execution_count": 56
        }
      ]
    },
    {
      "cell_type": "code",
      "source": [
        "th = np.full((2,2), 3)\n",
        "th"
      ],
      "metadata": {
        "colab": {
          "base_uri": "https://localhost:8080/"
        },
        "id": "zA77WY3xIfKa",
        "outputId": "a3dd2b64-b8d3-4f85-af6b-ace365f0e4ed"
      },
      "execution_count": 57,
      "outputs": [
        {
          "output_type": "execute_result",
          "data": {
            "text/plain": [
              "array([[3, 3],\n",
              "       [3, 3]])"
            ]
          },
          "metadata": {},
          "execution_count": 57
        }
      ]
    },
    {
      "cell_type": "code",
      "source": [
        "x + th"
      ],
      "metadata": {
        "colab": {
          "base_uri": "https://localhost:8080/"
        },
        "id": "UiZVWmLJIvQ6",
        "outputId": "a267f6df-865f-422f-9e00-99a33c7b606d"
      },
      "execution_count": 58,
      "outputs": [
        {
          "output_type": "execute_result",
          "data": {
            "text/plain": [
              "array([[4, 5],\n",
              "       [6, 7]])"
            ]
          },
          "metadata": {},
          "execution_count": 58
        }
      ]
    },
    {
      "cell_type": "markdown",
      "source": [
        "## 인덱싱\n",
        "- 정수 인덱싱\n",
        "- Boolean 인덱싱\n"
      ],
      "metadata": {
        "id": "e6eCQZedLpNS"
      }
    },
    {
      "cell_type": "code",
      "source": [
        "array = np.arange(81).reshape(9,9)\n",
        "array"
      ],
      "metadata": {
        "colab": {
          "base_uri": "https://localhost:8080/"
        },
        "id": "LhcEgrQPIzTh",
        "outputId": "28353274-9808-41d3-c4df-02c17f10e4d2"
      },
      "execution_count": 59,
      "outputs": [
        {
          "output_type": "execute_result",
          "data": {
            "text/plain": [
              "array([[ 0,  1,  2,  3,  4,  5,  6,  7,  8],\n",
              "       [ 9, 10, 11, 12, 13, 14, 15, 16, 17],\n",
              "       [18, 19, 20, 21, 22, 23, 24, 25, 26],\n",
              "       [27, 28, 29, 30, 31, 32, 33, 34, 35],\n",
              "       [36, 37, 38, 39, 40, 41, 42, 43, 44],\n",
              "       [45, 46, 47, 48, 49, 50, 51, 52, 53],\n",
              "       [54, 55, 56, 57, 58, 59, 60, 61, 62],\n",
              "       [63, 64, 65, 66, 67, 68, 69, 70, 71],\n",
              "       [72, 73, 74, 75, 76, 77, 78, 79, 80]])"
            ]
          },
          "metadata": {},
          "execution_count": 59
        }
      ]
    },
    {
      "cell_type": "code",
      "source": [
        "array[0]"
      ],
      "metadata": {
        "colab": {
          "base_uri": "https://localhost:8080/"
        },
        "id": "xLC_72PeL0qp",
        "outputId": "074a20c0-29c0-4b27-d854-282d3e281c87"
      },
      "execution_count": 60,
      "outputs": [
        {
          "output_type": "execute_result",
          "data": {
            "text/plain": [
              "array([0, 1, 2, 3, 4, 5, 6, 7, 8])"
            ]
          },
          "metadata": {},
          "execution_count": 60
        }
      ]
    },
    {
      "cell_type": "code",
      "source": [
        "array[-1]"
      ],
      "metadata": {
        "colab": {
          "base_uri": "https://localhost:8080/"
        },
        "id": "7eKp5xCTL1JC",
        "outputId": "21f35e31-a335-4aad-c2d5-2c8cb9e8dc51"
      },
      "execution_count": 61,
      "outputs": [
        {
          "output_type": "execute_result",
          "data": {
            "text/plain": [
              "array([72, 73, 74, 75, 76, 77, 78, 79, 80])"
            ]
          },
          "metadata": {},
          "execution_count": 61
        }
      ]
    },
    {
      "cell_type": "code",
      "source": [
        "array[0,0]"
      ],
      "metadata": {
        "colab": {
          "base_uri": "https://localhost:8080/"
        },
        "id": "ln3fW9yEL12x",
        "outputId": "a7dfa342-035c-42f5-9d93-c0fc8f3dad6d"
      },
      "execution_count": 62,
      "outputs": [
        {
          "output_type": "execute_result",
          "data": {
            "text/plain": [
              "0"
            ]
          },
          "metadata": {},
          "execution_count": 62
        }
      ]
    },
    {
      "cell_type": "code",
      "source": [
        "array[-1, 1]"
      ],
      "metadata": {
        "colab": {
          "base_uri": "https://localhost:8080/"
        },
        "id": "67uPI7pPL31h",
        "outputId": "dcf6c765-1a1a-4d94-a6f8-b87d4c892fb3"
      },
      "execution_count": 63,
      "outputs": [
        {
          "output_type": "execute_result",
          "data": {
            "text/plain": [
              "73"
            ]
          },
          "metadata": {},
          "execution_count": 63
        }
      ]
    },
    {
      "cell_type": "code",
      "source": [
        "array[0:3]"
      ],
      "metadata": {
        "colab": {
          "base_uri": "https://localhost:8080/"
        },
        "id": "YXR2Ch0ZL7Gx",
        "outputId": "8f896208-4fb9-4455-f700-491995113ebb"
      },
      "execution_count": 64,
      "outputs": [
        {
          "output_type": "execute_result",
          "data": {
            "text/plain": [
              "array([[ 0,  1,  2,  3,  4,  5,  6,  7,  8],\n",
              "       [ 9, 10, 11, 12, 13, 14, 15, 16, 17],\n",
              "       [18, 19, 20, 21, 22, 23, 24, 25, 26]])"
            ]
          },
          "metadata": {},
          "execution_count": 64
        }
      ]
    },
    {
      "cell_type": "code",
      "source": [
        "array[0:5:2]"
      ],
      "metadata": {
        "colab": {
          "base_uri": "https://localhost:8080/"
        },
        "id": "LOaNKTNOMB6H",
        "outputId": "35cbe0a4-5096-4ef8-c310-b8d899b8d02f"
      },
      "execution_count": 65,
      "outputs": [
        {
          "output_type": "execute_result",
          "data": {
            "text/plain": [
              "array([[ 0,  1,  2,  3,  4,  5,  6,  7,  8],\n",
              "       [18, 19, 20, 21, 22, 23, 24, 25, 26],\n",
              "       [36, 37, 38, 39, 40, 41, 42, 43, 44]])"
            ]
          },
          "metadata": {},
          "execution_count": 65
        }
      ]
    },
    {
      "cell_type": "code",
      "source": [
        "array[0::3]\n",
        "# array[::3]"
      ],
      "metadata": {
        "colab": {
          "base_uri": "https://localhost:8080/"
        },
        "id": "RWFZeTlfMLzn",
        "outputId": "9e119383-96ea-4697-8835-a5c02c42be08"
      },
      "execution_count": 66,
      "outputs": [
        {
          "output_type": "execute_result",
          "data": {
            "text/plain": [
              "array([[ 0,  1,  2,  3,  4,  5,  6,  7,  8],\n",
              "       [27, 28, 29, 30, 31, 32, 33, 34, 35],\n",
              "       [54, 55, 56, 57, 58, 59, 60, 61, 62]])"
            ]
          },
          "metadata": {},
          "execution_count": 66
        }
      ]
    },
    {
      "cell_type": "code",
      "source": [
        "array[::-1]"
      ],
      "metadata": {
        "colab": {
          "base_uri": "https://localhost:8080/"
        },
        "id": "VoKnC1i3MEBA",
        "outputId": "cf410201-fcc8-4691-fa97-a2bc61f0c1c4"
      },
      "execution_count": 67,
      "outputs": [
        {
          "output_type": "execute_result",
          "data": {
            "text/plain": [
              "array([[72, 73, 74, 75, 76, 77, 78, 79, 80],\n",
              "       [63, 64, 65, 66, 67, 68, 69, 70, 71],\n",
              "       [54, 55, 56, 57, 58, 59, 60, 61, 62],\n",
              "       [45, 46, 47, 48, 49, 50, 51, 52, 53],\n",
              "       [36, 37, 38, 39, 40, 41, 42, 43, 44],\n",
              "       [27, 28, 29, 30, 31, 32, 33, 34, 35],\n",
              "       [18, 19, 20, 21, 22, 23, 24, 25, 26],\n",
              "       [ 9, 10, 11, 12, 13, 14, 15, 16, 17],\n",
              "       [ 0,  1,  2,  3,  4,  5,  6,  7,  8]])"
            ]
          },
          "metadata": {},
          "execution_count": 67
        }
      ]
    },
    {
      "cell_type": "code",
      "source": [
        "array>10 "
      ],
      "metadata": {
        "colab": {
          "base_uri": "https://localhost:8080/"
        },
        "id": "SX0q0T4nMVP-",
        "outputId": "4dd00d5a-6742-4d2e-b950-4b3be8eaa45a"
      },
      "execution_count": 68,
      "outputs": [
        {
          "output_type": "execute_result",
          "data": {
            "text/plain": [
              "array([[False, False, False, False, False, False, False, False, False],\n",
              "       [False, False,  True,  True,  True,  True,  True,  True,  True],\n",
              "       [ True,  True,  True,  True,  True,  True,  True,  True,  True],\n",
              "       [ True,  True,  True,  True,  True,  True,  True,  True,  True],\n",
              "       [ True,  True,  True,  True,  True,  True,  True,  True,  True],\n",
              "       [ True,  True,  True,  True,  True,  True,  True,  True,  True],\n",
              "       [ True,  True,  True,  True,  True,  True,  True,  True,  True],\n",
              "       [ True,  True,  True,  True,  True,  True,  True,  True,  True],\n",
              "       [ True,  True,  True,  True,  True,  True,  True,  True,  True]])"
            ]
          },
          "metadata": {},
          "execution_count": 68
        }
      ]
    },
    {
      "cell_type": "code",
      "source": [
        "array[array>10]"
      ],
      "metadata": {
        "colab": {
          "base_uri": "https://localhost:8080/"
        },
        "id": "Bgy_YDwcMaP2",
        "outputId": "2d82744b-75b3-4705-8bcb-f3d548975819"
      },
      "execution_count": 69,
      "outputs": [
        {
          "output_type": "execute_result",
          "data": {
            "text/plain": [
              "array([11, 12, 13, 14, 15, 16, 17, 18, 19, 20, 21, 22, 23, 24, 25, 26, 27,\n",
              "       28, 29, 30, 31, 32, 33, 34, 35, 36, 37, 38, 39, 40, 41, 42, 43, 44,\n",
              "       45, 46, 47, 48, 49, 50, 51, 52, 53, 54, 55, 56, 57, 58, 59, 60, 61,\n",
              "       62, 63, 64, 65, 66, 67, 68, 69, 70, 71, 72, 73, 74, 75, 76, 77, 78,\n",
              "       79, 80])"
            ]
          },
          "metadata": {},
          "execution_count": 69
        }
      ]
    },
    {
      "cell_type": "markdown",
      "source": [
        "## Numpy의 함수\n",
        "- min, max, mean, median, quantile, std, var, corrcoef, argmin, argmax, cumsum, cumprod ...ect"
      ],
      "metadata": {
        "id": "FYhvt85FMucU"
      }
    },
    {
      "cell_type": "code",
      "source": [
        "array"
      ],
      "metadata": {
        "colab": {
          "base_uri": "https://localhost:8080/"
        },
        "id": "7Tl7MPHqMgLW",
        "outputId": "fa9bb8bb-1aaa-4d2e-aadf-57d9896b0b04"
      },
      "execution_count": 70,
      "outputs": [
        {
          "output_type": "execute_result",
          "data": {
            "text/plain": [
              "array([[ 0,  1,  2,  3,  4,  5,  6,  7,  8],\n",
              "       [ 9, 10, 11, 12, 13, 14, 15, 16, 17],\n",
              "       [18, 19, 20, 21, 22, 23, 24, 25, 26],\n",
              "       [27, 28, 29, 30, 31, 32, 33, 34, 35],\n",
              "       [36, 37, 38, 39, 40, 41, 42, 43, 44],\n",
              "       [45, 46, 47, 48, 49, 50, 51, 52, 53],\n",
              "       [54, 55, 56, 57, 58, 59, 60, 61, 62],\n",
              "       [63, 64, 65, 66, 67, 68, 69, 70, 71],\n",
              "       [72, 73, 74, 75, 76, 77, 78, 79, 80]])"
            ]
          },
          "metadata": {},
          "execution_count": 70
        }
      ]
    },
    {
      "cell_type": "code",
      "source": [
        "array.sum()"
      ],
      "metadata": {
        "colab": {
          "base_uri": "https://localhost:8080/"
        },
        "id": "HIjpZfuNNKxZ",
        "outputId": "5f7bf08e-6412-4fe1-ebd1-e7c0affca48c"
      },
      "execution_count": 71,
      "outputs": [
        {
          "output_type": "execute_result",
          "data": {
            "text/plain": [
              "3240"
            ]
          },
          "metadata": {},
          "execution_count": 71
        }
      ]
    },
    {
      "cell_type": "code",
      "source": [
        "array = np.arange(9).reshape(3,3)\n",
        "array"
      ],
      "metadata": {
        "colab": {
          "base_uri": "https://localhost:8080/"
        },
        "id": "eOgbXPXENLSK",
        "outputId": "28c2a358-f231-42d5-9b1b-97bf7d1c88e4"
      },
      "execution_count": 72,
      "outputs": [
        {
          "output_type": "execute_result",
          "data": {
            "text/plain": [
              "array([[0, 1, 2],\n",
              "       [3, 4, 5],\n",
              "       [6, 7, 8]])"
            ]
          },
          "metadata": {},
          "execution_count": 72
        }
      ]
    },
    {
      "cell_type": "code",
      "source": [
        "array.sum()"
      ],
      "metadata": {
        "colab": {
          "base_uri": "https://localhost:8080/"
        },
        "id": "flZTeLUQNOUi",
        "outputId": "55a0be9b-16f9-49cd-cfbf-4a854b1c9887"
      },
      "execution_count": 73,
      "outputs": [
        {
          "output_type": "execute_result",
          "data": {
            "text/plain": [
              "36"
            ]
          },
          "metadata": {},
          "execution_count": 73
        }
      ]
    },
    {
      "cell_type": "code",
      "source": [
        "array.sum(axis = 1)"
      ],
      "metadata": {
        "colab": {
          "base_uri": "https://localhost:8080/"
        },
        "id": "4eJmuP6qNQuS",
        "outputId": "77970872-ff08-4c5f-8366-edba3b6227ae"
      },
      "execution_count": 74,
      "outputs": [
        {
          "output_type": "execute_result",
          "data": {
            "text/plain": [
              "array([ 3, 12, 21])"
            ]
          },
          "metadata": {},
          "execution_count": 74
        }
      ]
    },
    {
      "cell_type": "code",
      "source": [
        "array.sum(axis = 0)"
      ],
      "metadata": {
        "colab": {
          "base_uri": "https://localhost:8080/"
        },
        "id": "H-LZOafxOR-n",
        "outputId": "9277f3f8-17c2-4526-f336-d9babf2ed8bb"
      },
      "execution_count": 75,
      "outputs": [
        {
          "output_type": "execute_result",
          "data": {
            "text/plain": [
              "array([ 9, 12, 15])"
            ]
          },
          "metadata": {},
          "execution_count": 75
        }
      ]
    },
    {
      "cell_type": "markdown",
      "source": [
        "![image.png](data:image/png;base64,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)"
      ],
      "metadata": {
        "id": "9k3A2UshN-vf"
      }
    },
    {
      "cell_type": "markdown",
      "source": [
        "# pandas\n",
        "- 데이터 조작을 위한 빠르고 효율적인 DataFrame 객체 지원\n",
        "- 인메모리 데이터 구조와 csv, txt, excel, sql 등과 같은 다양한 형태 지원\n",
        "- 지능형 데이터 정렬 및 누락 데이터의 통합 처리\n",
        "- 시계열 기능 지원\n",
        "\n",
        "## Pandas의 핵심 데이터 구조\n",
        "- Numpy ndarray를 기반으로 함\n",
        "- Series: 동일 유형 데이터를 가질 수 있는 `라벨이 붙은 1차원 배열(labeled array)`. 크기 변경 불가능\n",
        "- DataFrame: 2차원 데이터 컬럼을 가질 수 있는 일반적인 2차원 라벨이 붙은 구조 크기 변경 가능 \n",
        "  - 다차원 배열을 다룰 수 있는 Numpy와는 다르게 2차원 데이터 구조에 특화된 모듈\n",
        "  - DataFrame은 여러개의 Serias를 Key로 접근이 가능한 Dictionary와 유사\n",
        "\n",
        "## Pandas Series 객체\n",
        "- 모든 데이터 유형을 보유할 수 있는 1차원 라벨이 붙은 배열 (labeled array)\n",
        "- 라벨들을 집합적으로 index라고 부름\n",
        "- 0 개 이상의 동일한 유형의 데이터 수용\n",
        "- Series 생성자의 파라미터로 스칼라, NumPy ndarray, Python list, Python Dict 사용 가능"
      ],
      "metadata": {
        "id": "zAQwD5EIStZ8"
      }
    },
    {
      "cell_type": "code",
      "source": [
        "import pandas as pd\n",
        "series = pd.Series([1,2,3])\n",
        "series"
      ],
      "metadata": {
        "colab": {
          "base_uri": "https://localhost:8080/"
        },
        "id": "MBBvodonORzb",
        "outputId": "a48b3991-c019-4b42-ec96-a226b7dd9ce0"
      },
      "execution_count": 76,
      "outputs": [
        {
          "output_type": "execute_result",
          "data": {
            "text/plain": [
              "0    1\n",
              "1    2\n",
              "2    3\n",
              "dtype: int64"
            ]
          },
          "metadata": {},
          "execution_count": 76
        }
      ]
    },
    {
      "cell_type": "code",
      "source": [
        "series = pd.Series([1,2,3], index = ['A', 'B', 'C'])\n",
        "series"
      ],
      "metadata": {
        "colab": {
          "base_uri": "https://localhost:8080/"
        },
        "id": "6Y8BcPhKNV8B",
        "outputId": "17eaf227-76b5-4678-f766-a218baa9e25e"
      },
      "execution_count": 77,
      "outputs": [
        {
          "output_type": "execute_result",
          "data": {
            "text/plain": [
              "A    1\n",
              "B    2\n",
              "C    3\n",
              "dtype: int64"
            ]
          },
          "metadata": {},
          "execution_count": 77
        }
      ]
    },
    {
      "cell_type": "code",
      "source": [
        "# pandas에서 DataFrame 생성 \n",
        "# pandas에서 DataFrame을 만들기 위해서는 DataFrame() 함수를 사용\n",
        "# DataFrame 생성시 index 매개변수를 이용하여 행 인덱스 지정이 가능하며, columns 매개변수를 이용하여 열 인덱스 지정이 가능\n",
        "dataframe = pd.DataFrame([[1,2,3], [4,5,6], [7,8,9]])\n",
        "dataframe"
      ],
      "metadata": {
        "colab": {
          "base_uri": "https://localhost:8080/",
          "height": 144
        },
        "id": "2_z0Nt3oUvC6",
        "outputId": "560da8bf-0afa-4f32-8cf0-0cde1701fbc1"
      },
      "execution_count": 78,
      "outputs": [
        {
          "output_type": "execute_result",
          "data": {
            "text/plain": [
              "   0  1  2\n",
              "0  1  2  3\n",
              "1  4  5  6\n",
              "2  7  8  9"
            ],
            "text/html": [
              "\n",
              "  <div id=\"df-8312dd12-0c56-43aa-a73b-a2740cd415f1\">\n",
              "    <div class=\"colab-df-container\">\n",
              "      <div>\n",
              "<style scoped>\n",
              "    .dataframe tbody tr th:only-of-type {\n",
              "        vertical-align: middle;\n",
              "    }\n",
              "\n",
              "    .dataframe tbody tr th {\n",
              "        vertical-align: top;\n",
              "    }\n",
              "\n",
              "    .dataframe thead th {\n",
              "        text-align: right;\n",
              "    }\n",
              "</style>\n",
              "<table border=\"1\" class=\"dataframe\">\n",
              "  <thead>\n",
              "    <tr style=\"text-align: right;\">\n",
              "      <th></th>\n",
              "      <th>0</th>\n",
              "      <th>1</th>\n",
              "      <th>2</th>\n",
              "    </tr>\n",
              "  </thead>\n",
              "  <tbody>\n",
              "    <tr>\n",
              "      <th>0</th>\n",
              "      <td>1</td>\n",
              "      <td>2</td>\n",
              "      <td>3</td>\n",
              "    </tr>\n",
              "    <tr>\n",
              "      <th>1</th>\n",
              "      <td>4</td>\n",
              "      <td>5</td>\n",
              "      <td>6</td>\n",
              "    </tr>\n",
              "    <tr>\n",
              "      <th>2</th>\n",
              "      <td>7</td>\n",
              "      <td>8</td>\n",
              "      <td>9</td>\n",
              "    </tr>\n",
              "  </tbody>\n",
              "</table>\n",
              "</div>\n",
              "      <button class=\"colab-df-convert\" onclick=\"convertToInteractive('df-8312dd12-0c56-43aa-a73b-a2740cd415f1')\"\n",
              "              title=\"Convert this dataframe to an interactive table.\"\n",
              "              style=\"display:none;\">\n",
              "        \n",
              "  <svg xmlns=\"http://www.w3.org/2000/svg\" height=\"24px\"viewBox=\"0 0 24 24\"\n",
              "       width=\"24px\">\n",
              "    <path d=\"M0 0h24v24H0V0z\" fill=\"none\"/>\n",
              "    <path d=\"M18.56 5.44l.94 2.06.94-2.06 2.06-.94-2.06-.94-.94-2.06-.94 2.06-2.06.94zm-11 1L8.5 8.5l.94-2.06 2.06-.94-2.06-.94L8.5 2.5l-.94 2.06-2.06.94zm10 10l.94 2.06.94-2.06 2.06-.94-2.06-.94-.94-2.06-.94 2.06-2.06.94z\"/><path d=\"M17.41 7.96l-1.37-1.37c-.4-.4-.92-.59-1.43-.59-.52 0-1.04.2-1.43.59L10.3 9.45l-7.72 7.72c-.78.78-.78 2.05 0 2.83L4 21.41c.39.39.9.59 1.41.59.51 0 1.02-.2 1.41-.59l7.78-7.78 2.81-2.81c.8-.78.8-2.07 0-2.86zM5.41 20L4 18.59l7.72-7.72 1.47 1.35L5.41 20z\"/>\n",
              "  </svg>\n",
              "      </button>\n",
              "      \n",
              "  <style>\n",
              "    .colab-df-container {\n",
              "      display:flex;\n",
              "      flex-wrap:wrap;\n",
              "      gap: 12px;\n",
              "    }\n",
              "\n",
              "    .colab-df-convert {\n",
              "      background-color: #E8F0FE;\n",
              "      border: none;\n",
              "      border-radius: 50%;\n",
              "      cursor: pointer;\n",
              "      display: none;\n",
              "      fill: #1967D2;\n",
              "      height: 32px;\n",
              "      padding: 0 0 0 0;\n",
              "      width: 32px;\n",
              "    }\n",
              "\n",
              "    .colab-df-convert:hover {\n",
              "      background-color: #E2EBFA;\n",
              "      box-shadow: 0px 1px 2px rgba(60, 64, 67, 0.3), 0px 1px 3px 1px rgba(60, 64, 67, 0.15);\n",
              "      fill: #174EA6;\n",
              "    }\n",
              "\n",
              "    [theme=dark] .colab-df-convert {\n",
              "      background-color: #3B4455;\n",
              "      fill: #D2E3FC;\n",
              "    }\n",
              "\n",
              "    [theme=dark] .colab-df-convert:hover {\n",
              "      background-color: #434B5C;\n",
              "      box-shadow: 0px 1px 3px 1px rgba(0, 0, 0, 0.15);\n",
              "      filter: drop-shadow(0px 1px 2px rgba(0, 0, 0, 0.3));\n",
              "      fill: #FFFFFF;\n",
              "    }\n",
              "  </style>\n",
              "\n",
              "      <script>\n",
              "        const buttonEl =\n",
              "          document.querySelector('#df-8312dd12-0c56-43aa-a73b-a2740cd415f1 button.colab-df-convert');\n",
              "        buttonEl.style.display =\n",
              "          google.colab.kernel.accessAllowed ? 'block' : 'none';\n",
              "\n",
              "        async function convertToInteractive(key) {\n",
              "          const element = document.querySelector('#df-8312dd12-0c56-43aa-a73b-a2740cd415f1');\n",
              "          const dataTable =\n",
              "            await google.colab.kernel.invokeFunction('convertToInteractive',\n",
              "                                                     [key], {});\n",
              "          if (!dataTable) return;\n",
              "\n",
              "          const docLinkHtml = 'Like what you see? Visit the ' +\n",
              "            '<a target=\"_blank\" href=https://colab.research.google.com/notebooks/data_table.ipynb>data table notebook</a>'\n",
              "            + ' to learn more about interactive tables.';\n",
              "          element.innerHTML = '';\n",
              "          dataTable['output_type'] = 'display_data';\n",
              "          await google.colab.output.renderOutput(dataTable, element);\n",
              "          const docLink = document.createElement('div');\n",
              "          docLink.innerHTML = docLinkHtml;\n",
              "          element.appendChild(docLink);\n",
              "        }\n",
              "      </script>\n",
              "    </div>\n",
              "  </div>\n",
              "  "
            ]
          },
          "metadata": {},
          "execution_count": 78
        }
      ]
    },
    {
      "cell_type": "code",
      "source": [
        "dataframe = pd.DataFrame([[1,2,3], [4,5,6], [7,8,9]], \n",
        "                         index=  ['A', 'B', 'C'], columns = ['X1', \"X2\", 'X3'])\n",
        "dataframe"
      ],
      "metadata": {
        "colab": {
          "base_uri": "https://localhost:8080/",
          "height": 144
        },
        "id": "J9JjXP5FVOCv",
        "outputId": "c0957c66-8b5e-4d06-8210-80c99ceaa760"
      },
      "execution_count": 79,
      "outputs": [
        {
          "output_type": "execute_result",
          "data": {
            "text/plain": [
              "   X1  X2  X3\n",
              "A   1   2   3\n",
              "B   4   5   6\n",
              "C   7   8   9"
            ],
            "text/html": [
              "\n",
              "  <div id=\"df-1859ee1d-004b-4ace-9bbb-a62a3837fe2a\">\n",
              "    <div class=\"colab-df-container\">\n",
              "      <div>\n",
              "<style scoped>\n",
              "    .dataframe tbody tr th:only-of-type {\n",
              "        vertical-align: middle;\n",
              "    }\n",
              "\n",
              "    .dataframe tbody tr th {\n",
              "        vertical-align: top;\n",
              "    }\n",
              "\n",
              "    .dataframe thead th {\n",
              "        text-align: right;\n",
              "    }\n",
              "</style>\n",
              "<table border=\"1\" class=\"dataframe\">\n",
              "  <thead>\n",
              "    <tr style=\"text-align: right;\">\n",
              "      <th></th>\n",
              "      <th>X1</th>\n",
              "      <th>X2</th>\n",
              "      <th>X3</th>\n",
              "    </tr>\n",
              "  </thead>\n",
              "  <tbody>\n",
              "    <tr>\n",
              "      <th>A</th>\n",
              "      <td>1</td>\n",
              "      <td>2</td>\n",
              "      <td>3</td>\n",
              "    </tr>\n",
              "    <tr>\n",
              "      <th>B</th>\n",
              "      <td>4</td>\n",
              "      <td>5</td>\n",
              "      <td>6</td>\n",
              "    </tr>\n",
              "    <tr>\n",
              "      <th>C</th>\n",
              "      <td>7</td>\n",
              "      <td>8</td>\n",
              "      <td>9</td>\n",
              "    </tr>\n",
              "  </tbody>\n",
              "</table>\n",
              "</div>\n",
              "      <button class=\"colab-df-convert\" onclick=\"convertToInteractive('df-1859ee1d-004b-4ace-9bbb-a62a3837fe2a')\"\n",
              "              title=\"Convert this dataframe to an interactive table.\"\n",
              "              style=\"display:none;\">\n",
              "        \n",
              "  <svg xmlns=\"http://www.w3.org/2000/svg\" height=\"24px\"viewBox=\"0 0 24 24\"\n",
              "       width=\"24px\">\n",
              "    <path d=\"M0 0h24v24H0V0z\" fill=\"none\"/>\n",
              "    <path d=\"M18.56 5.44l.94 2.06.94-2.06 2.06-.94-2.06-.94-.94-2.06-.94 2.06-2.06.94zm-11 1L8.5 8.5l.94-2.06 2.06-.94-2.06-.94L8.5 2.5l-.94 2.06-2.06.94zm10 10l.94 2.06.94-2.06 2.06-.94-2.06-.94-.94-2.06-.94 2.06-2.06.94z\"/><path d=\"M17.41 7.96l-1.37-1.37c-.4-.4-.92-.59-1.43-.59-.52 0-1.04.2-1.43.59L10.3 9.45l-7.72 7.72c-.78.78-.78 2.05 0 2.83L4 21.41c.39.39.9.59 1.41.59.51 0 1.02-.2 1.41-.59l7.78-7.78 2.81-2.81c.8-.78.8-2.07 0-2.86zM5.41 20L4 18.59l7.72-7.72 1.47 1.35L5.41 20z\"/>\n",
              "  </svg>\n",
              "      </button>\n",
              "      \n",
              "  <style>\n",
              "    .colab-df-container {\n",
              "      display:flex;\n",
              "      flex-wrap:wrap;\n",
              "      gap: 12px;\n",
              "    }\n",
              "\n",
              "    .colab-df-convert {\n",
              "      background-color: #E8F0FE;\n",
              "      border: none;\n",
              "      border-radius: 50%;\n",
              "      cursor: pointer;\n",
              "      display: none;\n",
              "      fill: #1967D2;\n",
              "      height: 32px;\n",
              "      padding: 0 0 0 0;\n",
              "      width: 32px;\n",
              "    }\n",
              "\n",
              "    .colab-df-convert:hover {\n",
              "      background-color: #E2EBFA;\n",
              "      box-shadow: 0px 1px 2px rgba(60, 64, 67, 0.3), 0px 1px 3px 1px rgba(60, 64, 67, 0.15);\n",
              "      fill: #174EA6;\n",
              "    }\n",
              "\n",
              "    [theme=dark] .colab-df-convert {\n",
              "      background-color: #3B4455;\n",
              "      fill: #D2E3FC;\n",
              "    }\n",
              "\n",
              "    [theme=dark] .colab-df-convert:hover {\n",
              "      background-color: #434B5C;\n",
              "      box-shadow: 0px 1px 3px 1px rgba(0, 0, 0, 0.15);\n",
              "      filter: drop-shadow(0px 1px 2px rgba(0, 0, 0, 0.3));\n",
              "      fill: #FFFFFF;\n",
              "    }\n",
              "  </style>\n",
              "\n",
              "      <script>\n",
              "        const buttonEl =\n",
              "          document.querySelector('#df-1859ee1d-004b-4ace-9bbb-a62a3837fe2a button.colab-df-convert');\n",
              "        buttonEl.style.display =\n",
              "          google.colab.kernel.accessAllowed ? 'block' : 'none';\n",
              "\n",
              "        async function convertToInteractive(key) {\n",
              "          const element = document.querySelector('#df-1859ee1d-004b-4ace-9bbb-a62a3837fe2a');\n",
              "          const dataTable =\n",
              "            await google.colab.kernel.invokeFunction('convertToInteractive',\n",
              "                                                     [key], {});\n",
              "          if (!dataTable) return;\n",
              "\n",
              "          const docLinkHtml = 'Like what you see? Visit the ' +\n",
              "            '<a target=\"_blank\" href=https://colab.research.google.com/notebooks/data_table.ipynb>data table notebook</a>'\n",
              "            + ' to learn more about interactive tables.';\n",
              "          element.innerHTML = '';\n",
              "          dataTable['output_type'] = 'display_data';\n",
              "          await google.colab.output.renderOutput(dataTable, element);\n",
              "          const docLink = document.createElement('div');\n",
              "          docLink.innerHTML = docLinkHtml;\n",
              "          element.appendChild(docLink);\n",
              "        }\n",
              "      </script>\n",
              "    </div>\n",
              "  </div>\n",
              "  "
            ]
          },
          "metadata": {},
          "execution_count": 79
        }
      ]
    },
    {
      "cell_type": "code",
      "source": [
        "# Dictionary를 이용하여 series 혹은 DataFrame 생성 가능\n",
        "# series 의 경우 Key가  행 index로 지정\n",
        "series = pd.Series({'A':[1,2,3], 'B':[2,3,4]})\n",
        "series"
      ],
      "metadata": {
        "colab": {
          "base_uri": "https://localhost:8080/"
        },
        "id": "qVQh33OLVboe",
        "outputId": "bcac7657-7047-4c6c-e056-4d686383bcac"
      },
      "execution_count": 80,
      "outputs": [
        {
          "output_type": "execute_result",
          "data": {
            "text/plain": [
              "A    [1, 2, 3]\n",
              "B    [2, 3, 4]\n",
              "dtype: object"
            ]
          },
          "metadata": {},
          "execution_count": 80
        }
      ]
    },
    {
      "cell_type": "code",
      "source": [
        "# Dictionary를 이용하여 series 혹은 DataFrame 생성 가능\n",
        "# DataFrame 의 경우 Key가 열 index로 지정\n",
        "df = pd.DataFrame({'A':[1,2,3], 'B':[2,3,4]})\n",
        "df"
      ],
      "metadata": {
        "colab": {
          "base_uri": "https://localhost:8080/",
          "height": 144
        },
        "id": "lnODVbcdVvl3",
        "outputId": "4cfd8323-c370-42fe-f97c-b4a47d5aa16f"
      },
      "execution_count": 81,
      "outputs": [
        {
          "output_type": "execute_result",
          "data": {
            "text/plain": [
              "   A  B\n",
              "0  1  2\n",
              "1  2  3\n",
              "2  3  4"
            ],
            "text/html": [
              "\n",
              "  <div id=\"df-6d8061a8-1c94-4fd2-9346-e5ab5428c57d\">\n",
              "    <div class=\"colab-df-container\">\n",
              "      <div>\n",
              "<style scoped>\n",
              "    .dataframe tbody tr th:only-of-type {\n",
              "        vertical-align: middle;\n",
              "    }\n",
              "\n",
              "    .dataframe tbody tr th {\n",
              "        vertical-align: top;\n",
              "    }\n",
              "\n",
              "    .dataframe thead th {\n",
              "        text-align: right;\n",
              "    }\n",
              "</style>\n",
              "<table border=\"1\" class=\"dataframe\">\n",
              "  <thead>\n",
              "    <tr style=\"text-align: right;\">\n",
              "      <th></th>\n",
              "      <th>A</th>\n",
              "      <th>B</th>\n",
              "    </tr>\n",
              "  </thead>\n",
              "  <tbody>\n",
              "    <tr>\n",
              "      <th>0</th>\n",
              "      <td>1</td>\n",
              "      <td>2</td>\n",
              "    </tr>\n",
              "    <tr>\n",
              "      <th>1</th>\n",
              "      <td>2</td>\n",
              "      <td>3</td>\n",
              "    </tr>\n",
              "    <tr>\n",
              "      <th>2</th>\n",
              "      <td>3</td>\n",
              "      <td>4</td>\n",
              "    </tr>\n",
              "  </tbody>\n",
              "</table>\n",
              "</div>\n",
              "      <button class=\"colab-df-convert\" onclick=\"convertToInteractive('df-6d8061a8-1c94-4fd2-9346-e5ab5428c57d')\"\n",
              "              title=\"Convert this dataframe to an interactive table.\"\n",
              "              style=\"display:none;\">\n",
              "        \n",
              "  <svg xmlns=\"http://www.w3.org/2000/svg\" height=\"24px\"viewBox=\"0 0 24 24\"\n",
              "       width=\"24px\">\n",
              "    <path d=\"M0 0h24v24H0V0z\" fill=\"none\"/>\n",
              "    <path d=\"M18.56 5.44l.94 2.06.94-2.06 2.06-.94-2.06-.94-.94-2.06-.94 2.06-2.06.94zm-11 1L8.5 8.5l.94-2.06 2.06-.94-2.06-.94L8.5 2.5l-.94 2.06-2.06.94zm10 10l.94 2.06.94-2.06 2.06-.94-2.06-.94-.94-2.06-.94 2.06-2.06.94z\"/><path d=\"M17.41 7.96l-1.37-1.37c-.4-.4-.92-.59-1.43-.59-.52 0-1.04.2-1.43.59L10.3 9.45l-7.72 7.72c-.78.78-.78 2.05 0 2.83L4 21.41c.39.39.9.59 1.41.59.51 0 1.02-.2 1.41-.59l7.78-7.78 2.81-2.81c.8-.78.8-2.07 0-2.86zM5.41 20L4 18.59l7.72-7.72 1.47 1.35L5.41 20z\"/>\n",
              "  </svg>\n",
              "      </button>\n",
              "      \n",
              "  <style>\n",
              "    .colab-df-container {\n",
              "      display:flex;\n",
              "      flex-wrap:wrap;\n",
              "      gap: 12px;\n",
              "    }\n",
              "\n",
              "    .colab-df-convert {\n",
              "      background-color: #E8F0FE;\n",
              "      border: none;\n",
              "      border-radius: 50%;\n",
              "      cursor: pointer;\n",
              "      display: none;\n",
              "      fill: #1967D2;\n",
              "      height: 32px;\n",
              "      padding: 0 0 0 0;\n",
              "      width: 32px;\n",
              "    }\n",
              "\n",
              "    .colab-df-convert:hover {\n",
              "      background-color: #E2EBFA;\n",
              "      box-shadow: 0px 1px 2px rgba(60, 64, 67, 0.3), 0px 1px 3px 1px rgba(60, 64, 67, 0.15);\n",
              "      fill: #174EA6;\n",
              "    }\n",
              "\n",
              "    [theme=dark] .colab-df-convert {\n",
              "      background-color: #3B4455;\n",
              "      fill: #D2E3FC;\n",
              "    }\n",
              "\n",
              "    [theme=dark] .colab-df-convert:hover {\n",
              "      background-color: #434B5C;\n",
              "      box-shadow: 0px 1px 3px 1px rgba(0, 0, 0, 0.15);\n",
              "      filter: drop-shadow(0px 1px 2px rgba(0, 0, 0, 0.3));\n",
              "      fill: #FFFFFF;\n",
              "    }\n",
              "  </style>\n",
              "\n",
              "      <script>\n",
              "        const buttonEl =\n",
              "          document.querySelector('#df-6d8061a8-1c94-4fd2-9346-e5ab5428c57d button.colab-df-convert');\n",
              "        buttonEl.style.display =\n",
              "          google.colab.kernel.accessAllowed ? 'block' : 'none';\n",
              "\n",
              "        async function convertToInteractive(key) {\n",
              "          const element = document.querySelector('#df-6d8061a8-1c94-4fd2-9346-e5ab5428c57d');\n",
              "          const dataTable =\n",
              "            await google.colab.kernel.invokeFunction('convertToInteractive',\n",
              "                                                     [key], {});\n",
              "          if (!dataTable) return;\n",
              "\n",
              "          const docLinkHtml = 'Like what you see? Visit the ' +\n",
              "            '<a target=\"_blank\" href=https://colab.research.google.com/notebooks/data_table.ipynb>data table notebook</a>'\n",
              "            + ' to learn more about interactive tables.';\n",
              "          element.innerHTML = '';\n",
              "          dataTable['output_type'] = 'display_data';\n",
              "          await google.colab.output.renderOutput(dataTable, element);\n",
              "          const docLink = document.createElement('div');\n",
              "          docLink.innerHTML = docLinkHtml;\n",
              "          element.appendChild(docLink);\n",
              "        }\n",
              "      </script>\n",
              "    </div>\n",
              "  </div>\n",
              "  "
            ]
          },
          "metadata": {},
          "execution_count": 81
        }
      ]
    },
    {
      "cell_type": "markdown",
      "source": [
        "### Series 의 자료 구조 속성"
      ],
      "metadata": {
        "id": "lKqlUUEhW1hn"
      }
    },
    {
      "cell_type": "code",
      "source": [
        "series.ndim"
      ],
      "metadata": {
        "colab": {
          "base_uri": "https://localhost:8080/"
        },
        "id": "N4kFGJMVV7O7",
        "outputId": "abf4ca3d-cc5a-4584-eca4-328207139e45"
      },
      "execution_count": 82,
      "outputs": [
        {
          "output_type": "execute_result",
          "data": {
            "text/plain": [
              "1"
            ]
          },
          "metadata": {},
          "execution_count": 82
        }
      ]
    },
    {
      "cell_type": "code",
      "source": [
        "series.shape"
      ],
      "metadata": {
        "colab": {
          "base_uri": "https://localhost:8080/"
        },
        "id": "jrLArdQ3WP-C",
        "outputId": "99059420-5393-4dd4-edec-8f2dda50f16a"
      },
      "execution_count": 83,
      "outputs": [
        {
          "output_type": "execute_result",
          "data": {
            "text/plain": [
              "(2,)"
            ]
          },
          "metadata": {},
          "execution_count": 83
        }
      ]
    },
    {
      "cell_type": "code",
      "source": [
        "series.index"
      ],
      "metadata": {
        "colab": {
          "base_uri": "https://localhost:8080/"
        },
        "id": "UvdmN-9tWhUJ",
        "outputId": "ae71e6c5-3677-4719-91e5-8984cdfadd52"
      },
      "execution_count": 84,
      "outputs": [
        {
          "output_type": "execute_result",
          "data": {
            "text/plain": [
              "Index(['A', 'B'], dtype='object')"
            ]
          },
          "metadata": {},
          "execution_count": 84
        }
      ]
    },
    {
      "cell_type": "code",
      "source": [
        "series.values"
      ],
      "metadata": {
        "colab": {
          "base_uri": "https://localhost:8080/"
        },
        "id": "K95DwyzqWkyR",
        "outputId": "e4ba1718-2efb-490f-d9ff-befb91e1900c"
      },
      "execution_count": 85,
      "outputs": [
        {
          "output_type": "execute_result",
          "data": {
            "text/plain": [
              "array([list([1, 2, 3]), list([2, 3, 4])], dtype=object)"
            ]
          },
          "metadata": {},
          "execution_count": 85
        }
      ]
    },
    {
      "cell_type": "markdown",
      "source": [
        "### DataFrame 의 자료 구조 속성"
      ],
      "metadata": {
        "id": "-9DeTkGiW4p_"
      }
    },
    {
      "cell_type": "code",
      "source": [
        "df.ndim"
      ],
      "metadata": {
        "colab": {
          "base_uri": "https://localhost:8080/"
        },
        "id": "uaruO2oLWlq4",
        "outputId": "3e715b0a-7904-4f3f-93f0-09cd283dbd77"
      },
      "execution_count": 86,
      "outputs": [
        {
          "output_type": "execute_result",
          "data": {
            "text/plain": [
              "2"
            ]
          },
          "metadata": {},
          "execution_count": 86
        }
      ]
    },
    {
      "cell_type": "code",
      "source": [
        "df.shape"
      ],
      "metadata": {
        "colab": {
          "base_uri": "https://localhost:8080/"
        },
        "id": "HJfNYuqBWnuJ",
        "outputId": "9dd8f686-bf47-4f52-aaff-8a866042416a"
      },
      "execution_count": 87,
      "outputs": [
        {
          "output_type": "execute_result",
          "data": {
            "text/plain": [
              "(3, 2)"
            ]
          },
          "metadata": {},
          "execution_count": 87
        }
      ]
    },
    {
      "cell_type": "code",
      "source": [
        "df.values"
      ],
      "metadata": {
        "colab": {
          "base_uri": "https://localhost:8080/"
        },
        "id": "mMcb-QiCWpEA",
        "outputId": "b307cc07-fc3a-48c0-d33f-43e4557f5913"
      },
      "execution_count": 88,
      "outputs": [
        {
          "output_type": "execute_result",
          "data": {
            "text/plain": [
              "array([[1, 2],\n",
              "       [2, 3],\n",
              "       [3, 4]])"
            ]
          },
          "metadata": {},
          "execution_count": 88
        }
      ]
    },
    {
      "cell_type": "code",
      "source": [
        "df.index"
      ],
      "metadata": {
        "colab": {
          "base_uri": "https://localhost:8080/"
        },
        "id": "7yUE_-EuWpvn",
        "outputId": "06a5938a-3af1-4288-cbf2-33b367550011"
      },
      "execution_count": 89,
      "outputs": [
        {
          "output_type": "execute_result",
          "data": {
            "text/plain": [
              "RangeIndex(start=0, stop=3, step=1)"
            ]
          },
          "metadata": {},
          "execution_count": 89
        }
      ]
    },
    {
      "cell_type": "code",
      "source": [
        "df.columns"
      ],
      "metadata": {
        "colab": {
          "base_uri": "https://localhost:8080/"
        },
        "id": "GFPX_GAwWrR4",
        "outputId": "1a2df23d-d7f5-4a94-9264-f1b86ca0c4e0"
      },
      "execution_count": 90,
      "outputs": [
        {
          "output_type": "execute_result",
          "data": {
            "text/plain": [
              "Index(['A', 'B'], dtype='object')"
            ]
          },
          "metadata": {},
          "execution_count": 90
        }
      ]
    },
    {
      "cell_type": "code",
      "source": [
        "dataframe = pd.DataFrame([[1,2,3], [4,5,6], [7,8,9]])\n",
        "dataframe"
      ],
      "metadata": {
        "colab": {
          "base_uri": "https://localhost:8080/",
          "height": 144
        },
        "id": "frHqiN9eWsK4",
        "outputId": "abf5df89-7bb9-430b-8099-268ee1c7f8eb"
      },
      "execution_count": 91,
      "outputs": [
        {
          "output_type": "execute_result",
          "data": {
            "text/plain": [
              "   0  1  2\n",
              "0  1  2  3\n",
              "1  4  5  6\n",
              "2  7  8  9"
            ],
            "text/html": [
              "\n",
              "  <div id=\"df-fc539ce1-f37e-44c0-ab5e-dbecbbe96f03\">\n",
              "    <div class=\"colab-df-container\">\n",
              "      <div>\n",
              "<style scoped>\n",
              "    .dataframe tbody tr th:only-of-type {\n",
              "        vertical-align: middle;\n",
              "    }\n",
              "\n",
              "    .dataframe tbody tr th {\n",
              "        vertical-align: top;\n",
              "    }\n",
              "\n",
              "    .dataframe thead th {\n",
              "        text-align: right;\n",
              "    }\n",
              "</style>\n",
              "<table border=\"1\" class=\"dataframe\">\n",
              "  <thead>\n",
              "    <tr style=\"text-align: right;\">\n",
              "      <th></th>\n",
              "      <th>0</th>\n",
              "      <th>1</th>\n",
              "      <th>2</th>\n",
              "    </tr>\n",
              "  </thead>\n",
              "  <tbody>\n",
              "    <tr>\n",
              "      <th>0</th>\n",
              "      <td>1</td>\n",
              "      <td>2</td>\n",
              "      <td>3</td>\n",
              "    </tr>\n",
              "    <tr>\n",
              "      <th>1</th>\n",
              "      <td>4</td>\n",
              "      <td>5</td>\n",
              "      <td>6</td>\n",
              "    </tr>\n",
              "    <tr>\n",
              "      <th>2</th>\n",
              "      <td>7</td>\n",
              "      <td>8</td>\n",
              "      <td>9</td>\n",
              "    </tr>\n",
              "  </tbody>\n",
              "</table>\n",
              "</div>\n",
              "      <button class=\"colab-df-convert\" onclick=\"convertToInteractive('df-fc539ce1-f37e-44c0-ab5e-dbecbbe96f03')\"\n",
              "              title=\"Convert this dataframe to an interactive table.\"\n",
              "              style=\"display:none;\">\n",
              "        \n",
              "  <svg xmlns=\"http://www.w3.org/2000/svg\" height=\"24px\"viewBox=\"0 0 24 24\"\n",
              "       width=\"24px\">\n",
              "    <path d=\"M0 0h24v24H0V0z\" fill=\"none\"/>\n",
              "    <path d=\"M18.56 5.44l.94 2.06.94-2.06 2.06-.94-2.06-.94-.94-2.06-.94 2.06-2.06.94zm-11 1L8.5 8.5l.94-2.06 2.06-.94-2.06-.94L8.5 2.5l-.94 2.06-2.06.94zm10 10l.94 2.06.94-2.06 2.06-.94-2.06-.94-.94-2.06-.94 2.06-2.06.94z\"/><path d=\"M17.41 7.96l-1.37-1.37c-.4-.4-.92-.59-1.43-.59-.52 0-1.04.2-1.43.59L10.3 9.45l-7.72 7.72c-.78.78-.78 2.05 0 2.83L4 21.41c.39.39.9.59 1.41.59.51 0 1.02-.2 1.41-.59l7.78-7.78 2.81-2.81c.8-.78.8-2.07 0-2.86zM5.41 20L4 18.59l7.72-7.72 1.47 1.35L5.41 20z\"/>\n",
              "  </svg>\n",
              "      </button>\n",
              "      \n",
              "  <style>\n",
              "    .colab-df-container {\n",
              "      display:flex;\n",
              "      flex-wrap:wrap;\n",
              "      gap: 12px;\n",
              "    }\n",
              "\n",
              "    .colab-df-convert {\n",
              "      background-color: #E8F0FE;\n",
              "      border: none;\n",
              "      border-radius: 50%;\n",
              "      cursor: pointer;\n",
              "      display: none;\n",
              "      fill: #1967D2;\n",
              "      height: 32px;\n",
              "      padding: 0 0 0 0;\n",
              "      width: 32px;\n",
              "    }\n",
              "\n",
              "    .colab-df-convert:hover {\n",
              "      background-color: #E2EBFA;\n",
              "      box-shadow: 0px 1px 2px rgba(60, 64, 67, 0.3), 0px 1px 3px 1px rgba(60, 64, 67, 0.15);\n",
              "      fill: #174EA6;\n",
              "    }\n",
              "\n",
              "    [theme=dark] .colab-df-convert {\n",
              "      background-color: #3B4455;\n",
              "      fill: #D2E3FC;\n",
              "    }\n",
              "\n",
              "    [theme=dark] .colab-df-convert:hover {\n",
              "      background-color: #434B5C;\n",
              "      box-shadow: 0px 1px 3px 1px rgba(0, 0, 0, 0.15);\n",
              "      filter: drop-shadow(0px 1px 2px rgba(0, 0, 0, 0.3));\n",
              "      fill: #FFFFFF;\n",
              "    }\n",
              "  </style>\n",
              "\n",
              "      <script>\n",
              "        const buttonEl =\n",
              "          document.querySelector('#df-fc539ce1-f37e-44c0-ab5e-dbecbbe96f03 button.colab-df-convert');\n",
              "        buttonEl.style.display =\n",
              "          google.colab.kernel.accessAllowed ? 'block' : 'none';\n",
              "\n",
              "        async function convertToInteractive(key) {\n",
              "          const element = document.querySelector('#df-fc539ce1-f37e-44c0-ab5e-dbecbbe96f03');\n",
              "          const dataTable =\n",
              "            await google.colab.kernel.invokeFunction('convertToInteractive',\n",
              "                                                     [key], {});\n",
              "          if (!dataTable) return;\n",
              "\n",
              "          const docLinkHtml = 'Like what you see? Visit the ' +\n",
              "            '<a target=\"_blank\" href=https://colab.research.google.com/notebooks/data_table.ipynb>data table notebook</a>'\n",
              "            + ' to learn more about interactive tables.';\n",
              "          element.innerHTML = '';\n",
              "          dataTable['output_type'] = 'display_data';\n",
              "          await google.colab.output.renderOutput(dataTable, element);\n",
              "          const docLink = document.createElement('div');\n",
              "          docLink.innerHTML = docLinkHtml;\n",
              "          element.appendChild(docLink);\n",
              "        }\n",
              "      </script>\n",
              "    </div>\n",
              "  </div>\n",
              "  "
            ]
          },
          "metadata": {},
          "execution_count": 91
        }
      ]
    },
    {
      "cell_type": "code",
      "source": [
        "# DataFrmae 생성할 때 columns 혹은 index 지정을 못해주었다면?\n",
        "dataframe.columns = ['X1', 'X2', \"X3\"]\n",
        "dataframe"
      ],
      "metadata": {
        "colab": {
          "base_uri": "https://localhost:8080/",
          "height": 144
        },
        "id": "1SomgKrVXX0F",
        "outputId": "776d5719-2130-47d9-d404-82679bd8f5a0"
      },
      "execution_count": 92,
      "outputs": [
        {
          "output_type": "execute_result",
          "data": {
            "text/plain": [
              "   X1  X2  X3\n",
              "0   1   2   3\n",
              "1   4   5   6\n",
              "2   7   8   9"
            ],
            "text/html": [
              "\n",
              "  <div id=\"df-a0342c96-fc73-4f20-8902-8323383c7000\">\n",
              "    <div class=\"colab-df-container\">\n",
              "      <div>\n",
              "<style scoped>\n",
              "    .dataframe tbody tr th:only-of-type {\n",
              "        vertical-align: middle;\n",
              "    }\n",
              "\n",
              "    .dataframe tbody tr th {\n",
              "        vertical-align: top;\n",
              "    }\n",
              "\n",
              "    .dataframe thead th {\n",
              "        text-align: right;\n",
              "    }\n",
              "</style>\n",
              "<table border=\"1\" class=\"dataframe\">\n",
              "  <thead>\n",
              "    <tr style=\"text-align: right;\">\n",
              "      <th></th>\n",
              "      <th>X1</th>\n",
              "      <th>X2</th>\n",
              "      <th>X3</th>\n",
              "    </tr>\n",
              "  </thead>\n",
              "  <tbody>\n",
              "    <tr>\n",
              "      <th>0</th>\n",
              "      <td>1</td>\n",
              "      <td>2</td>\n",
              "      <td>3</td>\n",
              "    </tr>\n",
              "    <tr>\n",
              "      <th>1</th>\n",
              "      <td>4</td>\n",
              "      <td>5</td>\n",
              "      <td>6</td>\n",
              "    </tr>\n",
              "    <tr>\n",
              "      <th>2</th>\n",
              "      <td>7</td>\n",
              "      <td>8</td>\n",
              "      <td>9</td>\n",
              "    </tr>\n",
              "  </tbody>\n",
              "</table>\n",
              "</div>\n",
              "      <button class=\"colab-df-convert\" onclick=\"convertToInteractive('df-a0342c96-fc73-4f20-8902-8323383c7000')\"\n",
              "              title=\"Convert this dataframe to an interactive table.\"\n",
              "              style=\"display:none;\">\n",
              "        \n",
              "  <svg xmlns=\"http://www.w3.org/2000/svg\" height=\"24px\"viewBox=\"0 0 24 24\"\n",
              "       width=\"24px\">\n",
              "    <path d=\"M0 0h24v24H0V0z\" fill=\"none\"/>\n",
              "    <path d=\"M18.56 5.44l.94 2.06.94-2.06 2.06-.94-2.06-.94-.94-2.06-.94 2.06-2.06.94zm-11 1L8.5 8.5l.94-2.06 2.06-.94-2.06-.94L8.5 2.5l-.94 2.06-2.06.94zm10 10l.94 2.06.94-2.06 2.06-.94-2.06-.94-.94-2.06-.94 2.06-2.06.94z\"/><path d=\"M17.41 7.96l-1.37-1.37c-.4-.4-.92-.59-1.43-.59-.52 0-1.04.2-1.43.59L10.3 9.45l-7.72 7.72c-.78.78-.78 2.05 0 2.83L4 21.41c.39.39.9.59 1.41.59.51 0 1.02-.2 1.41-.59l7.78-7.78 2.81-2.81c.8-.78.8-2.07 0-2.86zM5.41 20L4 18.59l7.72-7.72 1.47 1.35L5.41 20z\"/>\n",
              "  </svg>\n",
              "      </button>\n",
              "      \n",
              "  <style>\n",
              "    .colab-df-container {\n",
              "      display:flex;\n",
              "      flex-wrap:wrap;\n",
              "      gap: 12px;\n",
              "    }\n",
              "\n",
              "    .colab-df-convert {\n",
              "      background-color: #E8F0FE;\n",
              "      border: none;\n",
              "      border-radius: 50%;\n",
              "      cursor: pointer;\n",
              "      display: none;\n",
              "      fill: #1967D2;\n",
              "      height: 32px;\n",
              "      padding: 0 0 0 0;\n",
              "      width: 32px;\n",
              "    }\n",
              "\n",
              "    .colab-df-convert:hover {\n",
              "      background-color: #E2EBFA;\n",
              "      box-shadow: 0px 1px 2px rgba(60, 64, 67, 0.3), 0px 1px 3px 1px rgba(60, 64, 67, 0.15);\n",
              "      fill: #174EA6;\n",
              "    }\n",
              "\n",
              "    [theme=dark] .colab-df-convert {\n",
              "      background-color: #3B4455;\n",
              "      fill: #D2E3FC;\n",
              "    }\n",
              "\n",
              "    [theme=dark] .colab-df-convert:hover {\n",
              "      background-color: #434B5C;\n",
              "      box-shadow: 0px 1px 3px 1px rgba(0, 0, 0, 0.15);\n",
              "      filter: drop-shadow(0px 1px 2px rgba(0, 0, 0, 0.3));\n",
              "      fill: #FFFFFF;\n",
              "    }\n",
              "  </style>\n",
              "\n",
              "      <script>\n",
              "        const buttonEl =\n",
              "          document.querySelector('#df-a0342c96-fc73-4f20-8902-8323383c7000 button.colab-df-convert');\n",
              "        buttonEl.style.display =\n",
              "          google.colab.kernel.accessAllowed ? 'block' : 'none';\n",
              "\n",
              "        async function convertToInteractive(key) {\n",
              "          const element = document.querySelector('#df-a0342c96-fc73-4f20-8902-8323383c7000');\n",
              "          const dataTable =\n",
              "            await google.colab.kernel.invokeFunction('convertToInteractive',\n",
              "                                                     [key], {});\n",
              "          if (!dataTable) return;\n",
              "\n",
              "          const docLinkHtml = 'Like what you see? Visit the ' +\n",
              "            '<a target=\"_blank\" href=https://colab.research.google.com/notebooks/data_table.ipynb>data table notebook</a>'\n",
              "            + ' to learn more about interactive tables.';\n",
              "          element.innerHTML = '';\n",
              "          dataTable['output_type'] = 'display_data';\n",
              "          await google.colab.output.renderOutput(dataTable, element);\n",
              "          const docLink = document.createElement('div');\n",
              "          docLink.innerHTML = docLinkHtml;\n",
              "          element.appendChild(docLink);\n",
              "        }\n",
              "      </script>\n",
              "    </div>\n",
              "  </div>\n",
              "  "
            ]
          },
          "metadata": {},
          "execution_count": 92
        }
      ]
    },
    {
      "cell_type": "code",
      "source": [
        "# DataFrmae 생성할 때 columns 혹은 index 지정을 못해주었다면?\n",
        "dataframe.index = ['A1', 'A2', \"A3\"]\n",
        "dataframe"
      ],
      "metadata": {
        "colab": {
          "base_uri": "https://localhost:8080/",
          "height": 144
        },
        "id": "pek4n-mxXdGk",
        "outputId": "4e275d2a-4e45-4e97-b94b-a0850d1951f5"
      },
      "execution_count": 93,
      "outputs": [
        {
          "output_type": "execute_result",
          "data": {
            "text/plain": [
              "    X1  X2  X3\n",
              "A1   1   2   3\n",
              "A2   4   5   6\n",
              "A3   7   8   9"
            ],
            "text/html": [
              "\n",
              "  <div id=\"df-93e4bbe4-ac02-45c1-88f9-59d115272dbd\">\n",
              "    <div class=\"colab-df-container\">\n",
              "      <div>\n",
              "<style scoped>\n",
              "    .dataframe tbody tr th:only-of-type {\n",
              "        vertical-align: middle;\n",
              "    }\n",
              "\n",
              "    .dataframe tbody tr th {\n",
              "        vertical-align: top;\n",
              "    }\n",
              "\n",
              "    .dataframe thead th {\n",
              "        text-align: right;\n",
              "    }\n",
              "</style>\n",
              "<table border=\"1\" class=\"dataframe\">\n",
              "  <thead>\n",
              "    <tr style=\"text-align: right;\">\n",
              "      <th></th>\n",
              "      <th>X1</th>\n",
              "      <th>X2</th>\n",
              "      <th>X3</th>\n",
              "    </tr>\n",
              "  </thead>\n",
              "  <tbody>\n",
              "    <tr>\n",
              "      <th>A1</th>\n",
              "      <td>1</td>\n",
              "      <td>2</td>\n",
              "      <td>3</td>\n",
              "    </tr>\n",
              "    <tr>\n",
              "      <th>A2</th>\n",
              "      <td>4</td>\n",
              "      <td>5</td>\n",
              "      <td>6</td>\n",
              "    </tr>\n",
              "    <tr>\n",
              "      <th>A3</th>\n",
              "      <td>7</td>\n",
              "      <td>8</td>\n",
              "      <td>9</td>\n",
              "    </tr>\n",
              "  </tbody>\n",
              "</table>\n",
              "</div>\n",
              "      <button class=\"colab-df-convert\" onclick=\"convertToInteractive('df-93e4bbe4-ac02-45c1-88f9-59d115272dbd')\"\n",
              "              title=\"Convert this dataframe to an interactive table.\"\n",
              "              style=\"display:none;\">\n",
              "        \n",
              "  <svg xmlns=\"http://www.w3.org/2000/svg\" height=\"24px\"viewBox=\"0 0 24 24\"\n",
              "       width=\"24px\">\n",
              "    <path d=\"M0 0h24v24H0V0z\" fill=\"none\"/>\n",
              "    <path d=\"M18.56 5.44l.94 2.06.94-2.06 2.06-.94-2.06-.94-.94-2.06-.94 2.06-2.06.94zm-11 1L8.5 8.5l.94-2.06 2.06-.94-2.06-.94L8.5 2.5l-.94 2.06-2.06.94zm10 10l.94 2.06.94-2.06 2.06-.94-2.06-.94-.94-2.06-.94 2.06-2.06.94z\"/><path d=\"M17.41 7.96l-1.37-1.37c-.4-.4-.92-.59-1.43-.59-.52 0-1.04.2-1.43.59L10.3 9.45l-7.72 7.72c-.78.78-.78 2.05 0 2.83L4 21.41c.39.39.9.59 1.41.59.51 0 1.02-.2 1.41-.59l7.78-7.78 2.81-2.81c.8-.78.8-2.07 0-2.86zM5.41 20L4 18.59l7.72-7.72 1.47 1.35L5.41 20z\"/>\n",
              "  </svg>\n",
              "      </button>\n",
              "      \n",
              "  <style>\n",
              "    .colab-df-container {\n",
              "      display:flex;\n",
              "      flex-wrap:wrap;\n",
              "      gap: 12px;\n",
              "    }\n",
              "\n",
              "    .colab-df-convert {\n",
              "      background-color: #E8F0FE;\n",
              "      border: none;\n",
              "      border-radius: 50%;\n",
              "      cursor: pointer;\n",
              "      display: none;\n",
              "      fill: #1967D2;\n",
              "      height: 32px;\n",
              "      padding: 0 0 0 0;\n",
              "      width: 32px;\n",
              "    }\n",
              "\n",
              "    .colab-df-convert:hover {\n",
              "      background-color: #E2EBFA;\n",
              "      box-shadow: 0px 1px 2px rgba(60, 64, 67, 0.3), 0px 1px 3px 1px rgba(60, 64, 67, 0.15);\n",
              "      fill: #174EA6;\n",
              "    }\n",
              "\n",
              "    [theme=dark] .colab-df-convert {\n",
              "      background-color: #3B4455;\n",
              "      fill: #D2E3FC;\n",
              "    }\n",
              "\n",
              "    [theme=dark] .colab-df-convert:hover {\n",
              "      background-color: #434B5C;\n",
              "      box-shadow: 0px 1px 3px 1px rgba(0, 0, 0, 0.15);\n",
              "      filter: drop-shadow(0px 1px 2px rgba(0, 0, 0, 0.3));\n",
              "      fill: #FFFFFF;\n",
              "    }\n",
              "  </style>\n",
              "\n",
              "      <script>\n",
              "        const buttonEl =\n",
              "          document.querySelector('#df-93e4bbe4-ac02-45c1-88f9-59d115272dbd button.colab-df-convert');\n",
              "        buttonEl.style.display =\n",
              "          google.colab.kernel.accessAllowed ? 'block' : 'none';\n",
              "\n",
              "        async function convertToInteractive(key) {\n",
              "          const element = document.querySelector('#df-93e4bbe4-ac02-45c1-88f9-59d115272dbd');\n",
              "          const dataTable =\n",
              "            await google.colab.kernel.invokeFunction('convertToInteractive',\n",
              "                                                     [key], {});\n",
              "          if (!dataTable) return;\n",
              "\n",
              "          const docLinkHtml = 'Like what you see? Visit the ' +\n",
              "            '<a target=\"_blank\" href=https://colab.research.google.com/notebooks/data_table.ipynb>data table notebook</a>'\n",
              "            + ' to learn more about interactive tables.';\n",
              "          element.innerHTML = '';\n",
              "          dataTable['output_type'] = 'display_data';\n",
              "          await google.colab.output.renderOutput(dataTable, element);\n",
              "          const docLink = document.createElement('div');\n",
              "          docLink.innerHTML = docLinkHtml;\n",
              "          element.appendChild(docLink);\n",
              "        }\n",
              "      </script>\n",
              "    </div>\n",
              "  </div>\n",
              "  "
            ]
          },
          "metadata": {},
          "execution_count": 93
        }
      ]
    },
    {
      "cell_type": "code",
      "source": [
        "dataframe.info()"
      ],
      "metadata": {
        "colab": {
          "base_uri": "https://localhost:8080/"
        },
        "id": "DKEuaAqKXyYR",
        "outputId": "36454644-434d-40df-8d62-f9c0ca7d6d3e"
      },
      "execution_count": 94,
      "outputs": [
        {
          "output_type": "stream",
          "name": "stdout",
          "text": [
            "<class 'pandas.core.frame.DataFrame'>\n",
            "Index: 3 entries, A1 to A3\n",
            "Data columns (total 3 columns):\n",
            " #   Column  Non-Null Count  Dtype\n",
            "---  ------  --------------  -----\n",
            " 0   X1      3 non-null      int64\n",
            " 1   X2      3 non-null      int64\n",
            " 2   X3      3 non-null      int64\n",
            "dtypes: int64(3)\n",
            "memory usage: 96.0+ bytes\n"
          ]
        }
      ]
    },
    {
      "cell_type": "code",
      "source": [
        "array = np.arange(9, 18, 1).reshape(3,3)\n",
        "array"
      ],
      "metadata": {
        "colab": {
          "base_uri": "https://localhost:8080/"
        },
        "id": "vidXz7kSX9UJ",
        "outputId": "fddd4727-83b2-4571-f186-9790b6711d92"
      },
      "execution_count": 97,
      "outputs": [
        {
          "output_type": "execute_result",
          "data": {
            "text/plain": [
              "array([[ 9, 10, 11],\n",
              "       [12, 13, 14],\n",
              "       [15, 16, 17]])"
            ]
          },
          "metadata": {},
          "execution_count": 97
        }
      ]
    },
    {
      "cell_type": "code",
      "source": [
        "df2 = pd.DataFrame(array)\n",
        "df2"
      ],
      "metadata": {
        "colab": {
          "base_uri": "https://localhost:8080/",
          "height": 144
        },
        "id": "yEtt-vkmwZFL",
        "outputId": "0d54df2a-751d-4a2b-fb6e-0bd83e48d845"
      },
      "execution_count": 98,
      "outputs": [
        {
          "output_type": "execute_result",
          "data": {
            "text/plain": [
              "    0   1   2\n",
              "0   9  10  11\n",
              "1  12  13  14\n",
              "2  15  16  17"
            ],
            "text/html": [
              "\n",
              "  <div id=\"df-3016a6d5-46c1-4d6d-bde7-e858529a2940\">\n",
              "    <div class=\"colab-df-container\">\n",
              "      <div>\n",
              "<style scoped>\n",
              "    .dataframe tbody tr th:only-of-type {\n",
              "        vertical-align: middle;\n",
              "    }\n",
              "\n",
              "    .dataframe tbody tr th {\n",
              "        vertical-align: top;\n",
              "    }\n",
              "\n",
              "    .dataframe thead th {\n",
              "        text-align: right;\n",
              "    }\n",
              "</style>\n",
              "<table border=\"1\" class=\"dataframe\">\n",
              "  <thead>\n",
              "    <tr style=\"text-align: right;\">\n",
              "      <th></th>\n",
              "      <th>0</th>\n",
              "      <th>1</th>\n",
              "      <th>2</th>\n",
              "    </tr>\n",
              "  </thead>\n",
              "  <tbody>\n",
              "    <tr>\n",
              "      <th>0</th>\n",
              "      <td>9</td>\n",
              "      <td>10</td>\n",
              "      <td>11</td>\n",
              "    </tr>\n",
              "    <tr>\n",
              "      <th>1</th>\n",
              "      <td>12</td>\n",
              "      <td>13</td>\n",
              "      <td>14</td>\n",
              "    </tr>\n",
              "    <tr>\n",
              "      <th>2</th>\n",
              "      <td>15</td>\n",
              "      <td>16</td>\n",
              "      <td>17</td>\n",
              "    </tr>\n",
              "  </tbody>\n",
              "</table>\n",
              "</div>\n",
              "      <button class=\"colab-df-convert\" onclick=\"convertToInteractive('df-3016a6d5-46c1-4d6d-bde7-e858529a2940')\"\n",
              "              title=\"Convert this dataframe to an interactive table.\"\n",
              "              style=\"display:none;\">\n",
              "        \n",
              "  <svg xmlns=\"http://www.w3.org/2000/svg\" height=\"24px\"viewBox=\"0 0 24 24\"\n",
              "       width=\"24px\">\n",
              "    <path d=\"M0 0h24v24H0V0z\" fill=\"none\"/>\n",
              "    <path d=\"M18.56 5.44l.94 2.06.94-2.06 2.06-.94-2.06-.94-.94-2.06-.94 2.06-2.06.94zm-11 1L8.5 8.5l.94-2.06 2.06-.94-2.06-.94L8.5 2.5l-.94 2.06-2.06.94zm10 10l.94 2.06.94-2.06 2.06-.94-2.06-.94-.94-2.06-.94 2.06-2.06.94z\"/><path d=\"M17.41 7.96l-1.37-1.37c-.4-.4-.92-.59-1.43-.59-.52 0-1.04.2-1.43.59L10.3 9.45l-7.72 7.72c-.78.78-.78 2.05 0 2.83L4 21.41c.39.39.9.59 1.41.59.51 0 1.02-.2 1.41-.59l7.78-7.78 2.81-2.81c.8-.78.8-2.07 0-2.86zM5.41 20L4 18.59l7.72-7.72 1.47 1.35L5.41 20z\"/>\n",
              "  </svg>\n",
              "      </button>\n",
              "      \n",
              "  <style>\n",
              "    .colab-df-container {\n",
              "      display:flex;\n",
              "      flex-wrap:wrap;\n",
              "      gap: 12px;\n",
              "    }\n",
              "\n",
              "    .colab-df-convert {\n",
              "      background-color: #E8F0FE;\n",
              "      border: none;\n",
              "      border-radius: 50%;\n",
              "      cursor: pointer;\n",
              "      display: none;\n",
              "      fill: #1967D2;\n",
              "      height: 32px;\n",
              "      padding: 0 0 0 0;\n",
              "      width: 32px;\n",
              "    }\n",
              "\n",
              "    .colab-df-convert:hover {\n",
              "      background-color: #E2EBFA;\n",
              "      box-shadow: 0px 1px 2px rgba(60, 64, 67, 0.3), 0px 1px 3px 1px rgba(60, 64, 67, 0.15);\n",
              "      fill: #174EA6;\n",
              "    }\n",
              "\n",
              "    [theme=dark] .colab-df-convert {\n",
              "      background-color: #3B4455;\n",
              "      fill: #D2E3FC;\n",
              "    }\n",
              "\n",
              "    [theme=dark] .colab-df-convert:hover {\n",
              "      background-color: #434B5C;\n",
              "      box-shadow: 0px 1px 3px 1px rgba(0, 0, 0, 0.15);\n",
              "      filter: drop-shadow(0px 1px 2px rgba(0, 0, 0, 0.3));\n",
              "      fill: #FFFFFF;\n",
              "    }\n",
              "  </style>\n",
              "\n",
              "      <script>\n",
              "        const buttonEl =\n",
              "          document.querySelector('#df-3016a6d5-46c1-4d6d-bde7-e858529a2940 button.colab-df-convert');\n",
              "        buttonEl.style.display =\n",
              "          google.colab.kernel.accessAllowed ? 'block' : 'none';\n",
              "\n",
              "        async function convertToInteractive(key) {\n",
              "          const element = document.querySelector('#df-3016a6d5-46c1-4d6d-bde7-e858529a2940');\n",
              "          const dataTable =\n",
              "            await google.colab.kernel.invokeFunction('convertToInteractive',\n",
              "                                                     [key], {});\n",
              "          if (!dataTable) return;\n",
              "\n",
              "          const docLinkHtml = 'Like what you see? Visit the ' +\n",
              "            '<a target=\"_blank\" href=https://colab.research.google.com/notebooks/data_table.ipynb>data table notebook</a>'\n",
              "            + ' to learn more about interactive tables.';\n",
              "          element.innerHTML = '';\n",
              "          dataTable['output_type'] = 'display_data';\n",
              "          await google.colab.output.renderOutput(dataTable, element);\n",
              "          const docLink = document.createElement('div');\n",
              "          docLink.innerHTML = docLinkHtml;\n",
              "          element.appendChild(docLink);\n",
              "        }\n",
              "      </script>\n",
              "    </div>\n",
              "  </div>\n",
              "  "
            ]
          },
          "metadata": {},
          "execution_count": 98
        }
      ]
    },
    {
      "cell_type": "code",
      "source": [
        "dataframe.append(df2)"
      ],
      "metadata": {
        "colab": {
          "base_uri": "https://localhost:8080/",
          "height": 238
        },
        "id": "1F40NZGHwfX9",
        "outputId": "bde1d670-ec35-46bf-cc93-9400d1f6e61c"
      },
      "execution_count": 101,
      "outputs": [
        {
          "output_type": "execute_result",
          "data": {
            "text/plain": [
              "     X1   X2   X3     0     1     2\n",
              "A1  1.0  2.0  3.0   NaN   NaN   NaN\n",
              "A2  4.0  5.0  6.0   NaN   NaN   NaN\n",
              "A3  7.0  8.0  9.0   NaN   NaN   NaN\n",
              "0   NaN  NaN  NaN   9.0  10.0  11.0\n",
              "1   NaN  NaN  NaN  12.0  13.0  14.0\n",
              "2   NaN  NaN  NaN  15.0  16.0  17.0"
            ],
            "text/html": [
              "\n",
              "  <div id=\"df-ff628f48-2dfd-4e89-ac1c-35152150d7b2\">\n",
              "    <div class=\"colab-df-container\">\n",
              "      <div>\n",
              "<style scoped>\n",
              "    .dataframe tbody tr th:only-of-type {\n",
              "        vertical-align: middle;\n",
              "    }\n",
              "\n",
              "    .dataframe tbody tr th {\n",
              "        vertical-align: top;\n",
              "    }\n",
              "\n",
              "    .dataframe thead th {\n",
              "        text-align: right;\n",
              "    }\n",
              "</style>\n",
              "<table border=\"1\" class=\"dataframe\">\n",
              "  <thead>\n",
              "    <tr style=\"text-align: right;\">\n",
              "      <th></th>\n",
              "      <th>X1</th>\n",
              "      <th>X2</th>\n",
              "      <th>X3</th>\n",
              "      <th>0</th>\n",
              "      <th>1</th>\n",
              "      <th>2</th>\n",
              "    </tr>\n",
              "  </thead>\n",
              "  <tbody>\n",
              "    <tr>\n",
              "      <th>A1</th>\n",
              "      <td>1.0</td>\n",
              "      <td>2.0</td>\n",
              "      <td>3.0</td>\n",
              "      <td>NaN</td>\n",
              "      <td>NaN</td>\n",
              "      <td>NaN</td>\n",
              "    </tr>\n",
              "    <tr>\n",
              "      <th>A2</th>\n",
              "      <td>4.0</td>\n",
              "      <td>5.0</td>\n",
              "      <td>6.0</td>\n",
              "      <td>NaN</td>\n",
              "      <td>NaN</td>\n",
              "      <td>NaN</td>\n",
              "    </tr>\n",
              "    <tr>\n",
              "      <th>A3</th>\n",
              "      <td>7.0</td>\n",
              "      <td>8.0</td>\n",
              "      <td>9.0</td>\n",
              "      <td>NaN</td>\n",
              "      <td>NaN</td>\n",
              "      <td>NaN</td>\n",
              "    </tr>\n",
              "    <tr>\n",
              "      <th>0</th>\n",
              "      <td>NaN</td>\n",
              "      <td>NaN</td>\n",
              "      <td>NaN</td>\n",
              "      <td>9.0</td>\n",
              "      <td>10.0</td>\n",
              "      <td>11.0</td>\n",
              "    </tr>\n",
              "    <tr>\n",
              "      <th>1</th>\n",
              "      <td>NaN</td>\n",
              "      <td>NaN</td>\n",
              "      <td>NaN</td>\n",
              "      <td>12.0</td>\n",
              "      <td>13.0</td>\n",
              "      <td>14.0</td>\n",
              "    </tr>\n",
              "    <tr>\n",
              "      <th>2</th>\n",
              "      <td>NaN</td>\n",
              "      <td>NaN</td>\n",
              "      <td>NaN</td>\n",
              "      <td>15.0</td>\n",
              "      <td>16.0</td>\n",
              "      <td>17.0</td>\n",
              "    </tr>\n",
              "  </tbody>\n",
              "</table>\n",
              "</div>\n",
              "      <button class=\"colab-df-convert\" onclick=\"convertToInteractive('df-ff628f48-2dfd-4e89-ac1c-35152150d7b2')\"\n",
              "              title=\"Convert this dataframe to an interactive table.\"\n",
              "              style=\"display:none;\">\n",
              "        \n",
              "  <svg xmlns=\"http://www.w3.org/2000/svg\" height=\"24px\"viewBox=\"0 0 24 24\"\n",
              "       width=\"24px\">\n",
              "    <path d=\"M0 0h24v24H0V0z\" fill=\"none\"/>\n",
              "    <path d=\"M18.56 5.44l.94 2.06.94-2.06 2.06-.94-2.06-.94-.94-2.06-.94 2.06-2.06.94zm-11 1L8.5 8.5l.94-2.06 2.06-.94-2.06-.94L8.5 2.5l-.94 2.06-2.06.94zm10 10l.94 2.06.94-2.06 2.06-.94-2.06-.94-.94-2.06-.94 2.06-2.06.94z\"/><path d=\"M17.41 7.96l-1.37-1.37c-.4-.4-.92-.59-1.43-.59-.52 0-1.04.2-1.43.59L10.3 9.45l-7.72 7.72c-.78.78-.78 2.05 0 2.83L4 21.41c.39.39.9.59 1.41.59.51 0 1.02-.2 1.41-.59l7.78-7.78 2.81-2.81c.8-.78.8-2.07 0-2.86zM5.41 20L4 18.59l7.72-7.72 1.47 1.35L5.41 20z\"/>\n",
              "  </svg>\n",
              "      </button>\n",
              "      \n",
              "  <style>\n",
              "    .colab-df-container {\n",
              "      display:flex;\n",
              "      flex-wrap:wrap;\n",
              "      gap: 12px;\n",
              "    }\n",
              "\n",
              "    .colab-df-convert {\n",
              "      background-color: #E8F0FE;\n",
              "      border: none;\n",
              "      border-radius: 50%;\n",
              "      cursor: pointer;\n",
              "      display: none;\n",
              "      fill: #1967D2;\n",
              "      height: 32px;\n",
              "      padding: 0 0 0 0;\n",
              "      width: 32px;\n",
              "    }\n",
              "\n",
              "    .colab-df-convert:hover {\n",
              "      background-color: #E2EBFA;\n",
              "      box-shadow: 0px 1px 2px rgba(60, 64, 67, 0.3), 0px 1px 3px 1px rgba(60, 64, 67, 0.15);\n",
              "      fill: #174EA6;\n",
              "    }\n",
              "\n",
              "    [theme=dark] .colab-df-convert {\n",
              "      background-color: #3B4455;\n",
              "      fill: #D2E3FC;\n",
              "    }\n",
              "\n",
              "    [theme=dark] .colab-df-convert:hover {\n",
              "      background-color: #434B5C;\n",
              "      box-shadow: 0px 1px 3px 1px rgba(0, 0, 0, 0.15);\n",
              "      filter: drop-shadow(0px 1px 2px rgba(0, 0, 0, 0.3));\n",
              "      fill: #FFFFFF;\n",
              "    }\n",
              "  </style>\n",
              "\n",
              "      <script>\n",
              "        const buttonEl =\n",
              "          document.querySelector('#df-ff628f48-2dfd-4e89-ac1c-35152150d7b2 button.colab-df-convert');\n",
              "        buttonEl.style.display =\n",
              "          google.colab.kernel.accessAllowed ? 'block' : 'none';\n",
              "\n",
              "        async function convertToInteractive(key) {\n",
              "          const element = document.querySelector('#df-ff628f48-2dfd-4e89-ac1c-35152150d7b2');\n",
              "          const dataTable =\n",
              "            await google.colab.kernel.invokeFunction('convertToInteractive',\n",
              "                                                     [key], {});\n",
              "          if (!dataTable) return;\n",
              "\n",
              "          const docLinkHtml = 'Like what you see? Visit the ' +\n",
              "            '<a target=\"_blank\" href=https://colab.research.google.com/notebooks/data_table.ipynb>data table notebook</a>'\n",
              "            + ' to learn more about interactive tables.';\n",
              "          element.innerHTML = '';\n",
              "          dataTable['output_type'] = 'display_data';\n",
              "          await google.colab.output.renderOutput(dataTable, element);\n",
              "          const docLink = document.createElement('div');\n",
              "          docLink.innerHTML = docLinkHtml;\n",
              "          element.appendChild(docLink);\n",
              "        }\n",
              "      </script>\n",
              "    </div>\n",
              "  </div>\n",
              "  "
            ]
          },
          "metadata": {},
          "execution_count": 101
        }
      ]
    },
    {
      "cell_type": "code",
      "source": [
        "df2.columns = ['X1', \"X2\", \"X3\"]\n",
        "df2"
      ],
      "metadata": {
        "colab": {
          "base_uri": "https://localhost:8080/",
          "height": 144
        },
        "id": "uLVppOxGwjmm",
        "outputId": "22a74e3f-bf4a-4f79-8f48-45c8b1f215e2"
      },
      "execution_count": 104,
      "outputs": [
        {
          "output_type": "execute_result",
          "data": {
            "text/plain": [
              "    X1  X2  X3\n",
              "X1   9  10  11\n",
              "X2  12  13  14\n",
              "X3  15  16  17"
            ],
            "text/html": [
              "\n",
              "  <div id=\"df-0973009e-61a0-4e3d-85e2-d4e46730e844\">\n",
              "    <div class=\"colab-df-container\">\n",
              "      <div>\n",
              "<style scoped>\n",
              "    .dataframe tbody tr th:only-of-type {\n",
              "        vertical-align: middle;\n",
              "    }\n",
              "\n",
              "    .dataframe tbody tr th {\n",
              "        vertical-align: top;\n",
              "    }\n",
              "\n",
              "    .dataframe thead th {\n",
              "        text-align: right;\n",
              "    }\n",
              "</style>\n",
              "<table border=\"1\" class=\"dataframe\">\n",
              "  <thead>\n",
              "    <tr style=\"text-align: right;\">\n",
              "      <th></th>\n",
              "      <th>X1</th>\n",
              "      <th>X2</th>\n",
              "      <th>X3</th>\n",
              "    </tr>\n",
              "  </thead>\n",
              "  <tbody>\n",
              "    <tr>\n",
              "      <th>X1</th>\n",
              "      <td>9</td>\n",
              "      <td>10</td>\n",
              "      <td>11</td>\n",
              "    </tr>\n",
              "    <tr>\n",
              "      <th>X2</th>\n",
              "      <td>12</td>\n",
              "      <td>13</td>\n",
              "      <td>14</td>\n",
              "    </tr>\n",
              "    <tr>\n",
              "      <th>X3</th>\n",
              "      <td>15</td>\n",
              "      <td>16</td>\n",
              "      <td>17</td>\n",
              "    </tr>\n",
              "  </tbody>\n",
              "</table>\n",
              "</div>\n",
              "      <button class=\"colab-df-convert\" onclick=\"convertToInteractive('df-0973009e-61a0-4e3d-85e2-d4e46730e844')\"\n",
              "              title=\"Convert this dataframe to an interactive table.\"\n",
              "              style=\"display:none;\">\n",
              "        \n",
              "  <svg xmlns=\"http://www.w3.org/2000/svg\" height=\"24px\"viewBox=\"0 0 24 24\"\n",
              "       width=\"24px\">\n",
              "    <path d=\"M0 0h24v24H0V0z\" fill=\"none\"/>\n",
              "    <path d=\"M18.56 5.44l.94 2.06.94-2.06 2.06-.94-2.06-.94-.94-2.06-.94 2.06-2.06.94zm-11 1L8.5 8.5l.94-2.06 2.06-.94-2.06-.94L8.5 2.5l-.94 2.06-2.06.94zm10 10l.94 2.06.94-2.06 2.06-.94-2.06-.94-.94-2.06-.94 2.06-2.06.94z\"/><path d=\"M17.41 7.96l-1.37-1.37c-.4-.4-.92-.59-1.43-.59-.52 0-1.04.2-1.43.59L10.3 9.45l-7.72 7.72c-.78.78-.78 2.05 0 2.83L4 21.41c.39.39.9.59 1.41.59.51 0 1.02-.2 1.41-.59l7.78-7.78 2.81-2.81c.8-.78.8-2.07 0-2.86zM5.41 20L4 18.59l7.72-7.72 1.47 1.35L5.41 20z\"/>\n",
              "  </svg>\n",
              "      </button>\n",
              "      \n",
              "  <style>\n",
              "    .colab-df-container {\n",
              "      display:flex;\n",
              "      flex-wrap:wrap;\n",
              "      gap: 12px;\n",
              "    }\n",
              "\n",
              "    .colab-df-convert {\n",
              "      background-color: #E8F0FE;\n",
              "      border: none;\n",
              "      border-radius: 50%;\n",
              "      cursor: pointer;\n",
              "      display: none;\n",
              "      fill: #1967D2;\n",
              "      height: 32px;\n",
              "      padding: 0 0 0 0;\n",
              "      width: 32px;\n",
              "    }\n",
              "\n",
              "    .colab-df-convert:hover {\n",
              "      background-color: #E2EBFA;\n",
              "      box-shadow: 0px 1px 2px rgba(60, 64, 67, 0.3), 0px 1px 3px 1px rgba(60, 64, 67, 0.15);\n",
              "      fill: #174EA6;\n",
              "    }\n",
              "\n",
              "    [theme=dark] .colab-df-convert {\n",
              "      background-color: #3B4455;\n",
              "      fill: #D2E3FC;\n",
              "    }\n",
              "\n",
              "    [theme=dark] .colab-df-convert:hover {\n",
              "      background-color: #434B5C;\n",
              "      box-shadow: 0px 1px 3px 1px rgba(0, 0, 0, 0.15);\n",
              "      filter: drop-shadow(0px 1px 2px rgba(0, 0, 0, 0.3));\n",
              "      fill: #FFFFFF;\n",
              "    }\n",
              "  </style>\n",
              "\n",
              "      <script>\n",
              "        const buttonEl =\n",
              "          document.querySelector('#df-0973009e-61a0-4e3d-85e2-d4e46730e844 button.colab-df-convert');\n",
              "        buttonEl.style.display =\n",
              "          google.colab.kernel.accessAllowed ? 'block' : 'none';\n",
              "\n",
              "        async function convertToInteractive(key) {\n",
              "          const element = document.querySelector('#df-0973009e-61a0-4e3d-85e2-d4e46730e844');\n",
              "          const dataTable =\n",
              "            await google.colab.kernel.invokeFunction('convertToInteractive',\n",
              "                                                     [key], {});\n",
              "          if (!dataTable) return;\n",
              "\n",
              "          const docLinkHtml = 'Like what you see? Visit the ' +\n",
              "            '<a target=\"_blank\" href=https://colab.research.google.com/notebooks/data_table.ipynb>data table notebook</a>'\n",
              "            + ' to learn more about interactive tables.';\n",
              "          element.innerHTML = '';\n",
              "          dataTable['output_type'] = 'display_data';\n",
              "          await google.colab.output.renderOutput(dataTable, element);\n",
              "          const docLink = document.createElement('div');\n",
              "          docLink.innerHTML = docLinkHtml;\n",
              "          element.appendChild(docLink);\n",
              "        }\n",
              "      </script>\n",
              "    </div>\n",
              "  </div>\n",
              "  "
            ]
          },
          "metadata": {},
          "execution_count": 104
        }
      ]
    },
    {
      "cell_type": "code",
      "source": [
        "df2.index = ['A1', \"A2\", \"A3\"]\n",
        "df2"
      ],
      "metadata": {
        "colab": {
          "base_uri": "https://localhost:8080/",
          "height": 144
        },
        "id": "rJikDei9w0dh",
        "outputId": "0185b4df-0344-4696-a217-8efb8fb38ec5"
      },
      "execution_count": 105,
      "outputs": [
        {
          "output_type": "execute_result",
          "data": {
            "text/plain": [
              "    X1  X2  X3\n",
              "A1   9  10  11\n",
              "A2  12  13  14\n",
              "A3  15  16  17"
            ],
            "text/html": [
              "\n",
              "  <div id=\"df-30e3af25-aff7-40ad-8d7d-833abfbfb478\">\n",
              "    <div class=\"colab-df-container\">\n",
              "      <div>\n",
              "<style scoped>\n",
              "    .dataframe tbody tr th:only-of-type {\n",
              "        vertical-align: middle;\n",
              "    }\n",
              "\n",
              "    .dataframe tbody tr th {\n",
              "        vertical-align: top;\n",
              "    }\n",
              "\n",
              "    .dataframe thead th {\n",
              "        text-align: right;\n",
              "    }\n",
              "</style>\n",
              "<table border=\"1\" class=\"dataframe\">\n",
              "  <thead>\n",
              "    <tr style=\"text-align: right;\">\n",
              "      <th></th>\n",
              "      <th>X1</th>\n",
              "      <th>X2</th>\n",
              "      <th>X3</th>\n",
              "    </tr>\n",
              "  </thead>\n",
              "  <tbody>\n",
              "    <tr>\n",
              "      <th>A1</th>\n",
              "      <td>9</td>\n",
              "      <td>10</td>\n",
              "      <td>11</td>\n",
              "    </tr>\n",
              "    <tr>\n",
              "      <th>A2</th>\n",
              "      <td>12</td>\n",
              "      <td>13</td>\n",
              "      <td>14</td>\n",
              "    </tr>\n",
              "    <tr>\n",
              "      <th>A3</th>\n",
              "      <td>15</td>\n",
              "      <td>16</td>\n",
              "      <td>17</td>\n",
              "    </tr>\n",
              "  </tbody>\n",
              "</table>\n",
              "</div>\n",
              "      <button class=\"colab-df-convert\" onclick=\"convertToInteractive('df-30e3af25-aff7-40ad-8d7d-833abfbfb478')\"\n",
              "              title=\"Convert this dataframe to an interactive table.\"\n",
              "              style=\"display:none;\">\n",
              "        \n",
              "  <svg xmlns=\"http://www.w3.org/2000/svg\" height=\"24px\"viewBox=\"0 0 24 24\"\n",
              "       width=\"24px\">\n",
              "    <path d=\"M0 0h24v24H0V0z\" fill=\"none\"/>\n",
              "    <path d=\"M18.56 5.44l.94 2.06.94-2.06 2.06-.94-2.06-.94-.94-2.06-.94 2.06-2.06.94zm-11 1L8.5 8.5l.94-2.06 2.06-.94-2.06-.94L8.5 2.5l-.94 2.06-2.06.94zm10 10l.94 2.06.94-2.06 2.06-.94-2.06-.94-.94-2.06-.94 2.06-2.06.94z\"/><path d=\"M17.41 7.96l-1.37-1.37c-.4-.4-.92-.59-1.43-.59-.52 0-1.04.2-1.43.59L10.3 9.45l-7.72 7.72c-.78.78-.78 2.05 0 2.83L4 21.41c.39.39.9.59 1.41.59.51 0 1.02-.2 1.41-.59l7.78-7.78 2.81-2.81c.8-.78.8-2.07 0-2.86zM5.41 20L4 18.59l7.72-7.72 1.47 1.35L5.41 20z\"/>\n",
              "  </svg>\n",
              "      </button>\n",
              "      \n",
              "  <style>\n",
              "    .colab-df-container {\n",
              "      display:flex;\n",
              "      flex-wrap:wrap;\n",
              "      gap: 12px;\n",
              "    }\n",
              "\n",
              "    .colab-df-convert {\n",
              "      background-color: #E8F0FE;\n",
              "      border: none;\n",
              "      border-radius: 50%;\n",
              "      cursor: pointer;\n",
              "      display: none;\n",
              "      fill: #1967D2;\n",
              "      height: 32px;\n",
              "      padding: 0 0 0 0;\n",
              "      width: 32px;\n",
              "    }\n",
              "\n",
              "    .colab-df-convert:hover {\n",
              "      background-color: #E2EBFA;\n",
              "      box-shadow: 0px 1px 2px rgba(60, 64, 67, 0.3), 0px 1px 3px 1px rgba(60, 64, 67, 0.15);\n",
              "      fill: #174EA6;\n",
              "    }\n",
              "\n",
              "    [theme=dark] .colab-df-convert {\n",
              "      background-color: #3B4455;\n",
              "      fill: #D2E3FC;\n",
              "    }\n",
              "\n",
              "    [theme=dark] .colab-df-convert:hover {\n",
              "      background-color: #434B5C;\n",
              "      box-shadow: 0px 1px 3px 1px rgba(0, 0, 0, 0.15);\n",
              "      filter: drop-shadow(0px 1px 2px rgba(0, 0, 0, 0.3));\n",
              "      fill: #FFFFFF;\n",
              "    }\n",
              "  </style>\n",
              "\n",
              "      <script>\n",
              "        const buttonEl =\n",
              "          document.querySelector('#df-30e3af25-aff7-40ad-8d7d-833abfbfb478 button.colab-df-convert');\n",
              "        buttonEl.style.display =\n",
              "          google.colab.kernel.accessAllowed ? 'block' : 'none';\n",
              "\n",
              "        async function convertToInteractive(key) {\n",
              "          const element = document.querySelector('#df-30e3af25-aff7-40ad-8d7d-833abfbfb478');\n",
              "          const dataTable =\n",
              "            await google.colab.kernel.invokeFunction('convertToInteractive',\n",
              "                                                     [key], {});\n",
              "          if (!dataTable) return;\n",
              "\n",
              "          const docLinkHtml = 'Like what you see? Visit the ' +\n",
              "            '<a target=\"_blank\" href=https://colab.research.google.com/notebooks/data_table.ipynb>data table notebook</a>'\n",
              "            + ' to learn more about interactive tables.';\n",
              "          element.innerHTML = '';\n",
              "          dataTable['output_type'] = 'display_data';\n",
              "          await google.colab.output.renderOutput(dataTable, element);\n",
              "          const docLink = document.createElement('div');\n",
              "          docLink.innerHTML = docLinkHtml;\n",
              "          element.appendChild(docLink);\n",
              "        }\n",
              "      </script>\n",
              "    </div>\n",
              "  </div>\n",
              "  "
            ]
          },
          "metadata": {},
          "execution_count": 105
        }
      ]
    },
    {
      "cell_type": "code",
      "source": [
        "dataframe.append(df2)"
      ],
      "metadata": {
        "colab": {
          "base_uri": "https://localhost:8080/",
          "height": 238
        },
        "id": "EOO-AxLJw6da",
        "outputId": "822308fc-05af-4246-ad28-aa66440023a6"
      },
      "execution_count": 106,
      "outputs": [
        {
          "output_type": "execute_result",
          "data": {
            "text/plain": [
              "    X1  X2  X3\n",
              "A1   1   2   3\n",
              "A2   4   5   6\n",
              "A3   7   8   9\n",
              "A1   9  10  11\n",
              "A2  12  13  14\n",
              "A3  15  16  17"
            ],
            "text/html": [
              "\n",
              "  <div id=\"df-abfa10de-edfc-4577-ab58-109b5d85cb4c\">\n",
              "    <div class=\"colab-df-container\">\n",
              "      <div>\n",
              "<style scoped>\n",
              "    .dataframe tbody tr th:only-of-type {\n",
              "        vertical-align: middle;\n",
              "    }\n",
              "\n",
              "    .dataframe tbody tr th {\n",
              "        vertical-align: top;\n",
              "    }\n",
              "\n",
              "    .dataframe thead th {\n",
              "        text-align: right;\n",
              "    }\n",
              "</style>\n",
              "<table border=\"1\" class=\"dataframe\">\n",
              "  <thead>\n",
              "    <tr style=\"text-align: right;\">\n",
              "      <th></th>\n",
              "      <th>X1</th>\n",
              "      <th>X2</th>\n",
              "      <th>X3</th>\n",
              "    </tr>\n",
              "  </thead>\n",
              "  <tbody>\n",
              "    <tr>\n",
              "      <th>A1</th>\n",
              "      <td>1</td>\n",
              "      <td>2</td>\n",
              "      <td>3</td>\n",
              "    </tr>\n",
              "    <tr>\n",
              "      <th>A2</th>\n",
              "      <td>4</td>\n",
              "      <td>5</td>\n",
              "      <td>6</td>\n",
              "    </tr>\n",
              "    <tr>\n",
              "      <th>A3</th>\n",
              "      <td>7</td>\n",
              "      <td>8</td>\n",
              "      <td>9</td>\n",
              "    </tr>\n",
              "    <tr>\n",
              "      <th>A1</th>\n",
              "      <td>9</td>\n",
              "      <td>10</td>\n",
              "      <td>11</td>\n",
              "    </tr>\n",
              "    <tr>\n",
              "      <th>A2</th>\n",
              "      <td>12</td>\n",
              "      <td>13</td>\n",
              "      <td>14</td>\n",
              "    </tr>\n",
              "    <tr>\n",
              "      <th>A3</th>\n",
              "      <td>15</td>\n",
              "      <td>16</td>\n",
              "      <td>17</td>\n",
              "    </tr>\n",
              "  </tbody>\n",
              "</table>\n",
              "</div>\n",
              "      <button class=\"colab-df-convert\" onclick=\"convertToInteractive('df-abfa10de-edfc-4577-ab58-109b5d85cb4c')\"\n",
              "              title=\"Convert this dataframe to an interactive table.\"\n",
              "              style=\"display:none;\">\n",
              "        \n",
              "  <svg xmlns=\"http://www.w3.org/2000/svg\" height=\"24px\"viewBox=\"0 0 24 24\"\n",
              "       width=\"24px\">\n",
              "    <path d=\"M0 0h24v24H0V0z\" fill=\"none\"/>\n",
              "    <path d=\"M18.56 5.44l.94 2.06.94-2.06 2.06-.94-2.06-.94-.94-2.06-.94 2.06-2.06.94zm-11 1L8.5 8.5l.94-2.06 2.06-.94-2.06-.94L8.5 2.5l-.94 2.06-2.06.94zm10 10l.94 2.06.94-2.06 2.06-.94-2.06-.94-.94-2.06-.94 2.06-2.06.94z\"/><path d=\"M17.41 7.96l-1.37-1.37c-.4-.4-.92-.59-1.43-.59-.52 0-1.04.2-1.43.59L10.3 9.45l-7.72 7.72c-.78.78-.78 2.05 0 2.83L4 21.41c.39.39.9.59 1.41.59.51 0 1.02-.2 1.41-.59l7.78-7.78 2.81-2.81c.8-.78.8-2.07 0-2.86zM5.41 20L4 18.59l7.72-7.72 1.47 1.35L5.41 20z\"/>\n",
              "  </svg>\n",
              "      </button>\n",
              "      \n",
              "  <style>\n",
              "    .colab-df-container {\n",
              "      display:flex;\n",
              "      flex-wrap:wrap;\n",
              "      gap: 12px;\n",
              "    }\n",
              "\n",
              "    .colab-df-convert {\n",
              "      background-color: #E8F0FE;\n",
              "      border: none;\n",
              "      border-radius: 50%;\n",
              "      cursor: pointer;\n",
              "      display: none;\n",
              "      fill: #1967D2;\n",
              "      height: 32px;\n",
              "      padding: 0 0 0 0;\n",
              "      width: 32px;\n",
              "    }\n",
              "\n",
              "    .colab-df-convert:hover {\n",
              "      background-color: #E2EBFA;\n",
              "      box-shadow: 0px 1px 2px rgba(60, 64, 67, 0.3), 0px 1px 3px 1px rgba(60, 64, 67, 0.15);\n",
              "      fill: #174EA6;\n",
              "    }\n",
              "\n",
              "    [theme=dark] .colab-df-convert {\n",
              "      background-color: #3B4455;\n",
              "      fill: #D2E3FC;\n",
              "    }\n",
              "\n",
              "    [theme=dark] .colab-df-convert:hover {\n",
              "      background-color: #434B5C;\n",
              "      box-shadow: 0px 1px 3px 1px rgba(0, 0, 0, 0.15);\n",
              "      filter: drop-shadow(0px 1px 2px rgba(0, 0, 0, 0.3));\n",
              "      fill: #FFFFFF;\n",
              "    }\n",
              "  </style>\n",
              "\n",
              "      <script>\n",
              "        const buttonEl =\n",
              "          document.querySelector('#df-abfa10de-edfc-4577-ab58-109b5d85cb4c button.colab-df-convert');\n",
              "        buttonEl.style.display =\n",
              "          google.colab.kernel.accessAllowed ? 'block' : 'none';\n",
              "\n",
              "        async function convertToInteractive(key) {\n",
              "          const element = document.querySelector('#df-abfa10de-edfc-4577-ab58-109b5d85cb4c');\n",
              "          const dataTable =\n",
              "            await google.colab.kernel.invokeFunction('convertToInteractive',\n",
              "                                                     [key], {});\n",
              "          if (!dataTable) return;\n",
              "\n",
              "          const docLinkHtml = 'Like what you see? Visit the ' +\n",
              "            '<a target=\"_blank\" href=https://colab.research.google.com/notebooks/data_table.ipynb>data table notebook</a>'\n",
              "            + ' to learn more about interactive tables.';\n",
              "          element.innerHTML = '';\n",
              "          dataTable['output_type'] = 'display_data';\n",
              "          await google.colab.output.renderOutput(dataTable, element);\n",
              "          const docLink = document.createElement('div');\n",
              "          docLink.innerHTML = docLinkHtml;\n",
              "          element.appendChild(docLink);\n",
              "        }\n",
              "      </script>\n",
              "    </div>\n",
              "  </div>\n",
              "  "
            ]
          },
          "metadata": {},
          "execution_count": 106
        }
      ]
    },
    {
      "cell_type": "code",
      "source": [
        "df3 = dataframe.append(df2)\n",
        "df3"
      ],
      "metadata": {
        "colab": {
          "base_uri": "https://localhost:8080/",
          "height": 238
        },
        "id": "nTUDU2mAw9KC",
        "outputId": "537952a3-bd18-49bc-efb0-ebc51f82aade"
      },
      "execution_count": 107,
      "outputs": [
        {
          "output_type": "execute_result",
          "data": {
            "text/plain": [
              "    X1  X2  X3\n",
              "A1   1   2   3\n",
              "A2   4   5   6\n",
              "A3   7   8   9\n",
              "A1   9  10  11\n",
              "A2  12  13  14\n",
              "A3  15  16  17"
            ],
            "text/html": [
              "\n",
              "  <div id=\"df-9d114e2f-1986-4ad6-b0ce-c0718c231802\">\n",
              "    <div class=\"colab-df-container\">\n",
              "      <div>\n",
              "<style scoped>\n",
              "    .dataframe tbody tr th:only-of-type {\n",
              "        vertical-align: middle;\n",
              "    }\n",
              "\n",
              "    .dataframe tbody tr th {\n",
              "        vertical-align: top;\n",
              "    }\n",
              "\n",
              "    .dataframe thead th {\n",
              "        text-align: right;\n",
              "    }\n",
              "</style>\n",
              "<table border=\"1\" class=\"dataframe\">\n",
              "  <thead>\n",
              "    <tr style=\"text-align: right;\">\n",
              "      <th></th>\n",
              "      <th>X1</th>\n",
              "      <th>X2</th>\n",
              "      <th>X3</th>\n",
              "    </tr>\n",
              "  </thead>\n",
              "  <tbody>\n",
              "    <tr>\n",
              "      <th>A1</th>\n",
              "      <td>1</td>\n",
              "      <td>2</td>\n",
              "      <td>3</td>\n",
              "    </tr>\n",
              "    <tr>\n",
              "      <th>A2</th>\n",
              "      <td>4</td>\n",
              "      <td>5</td>\n",
              "      <td>6</td>\n",
              "    </tr>\n",
              "    <tr>\n",
              "      <th>A3</th>\n",
              "      <td>7</td>\n",
              "      <td>8</td>\n",
              "      <td>9</td>\n",
              "    </tr>\n",
              "    <tr>\n",
              "      <th>A1</th>\n",
              "      <td>9</td>\n",
              "      <td>10</td>\n",
              "      <td>11</td>\n",
              "    </tr>\n",
              "    <tr>\n",
              "      <th>A2</th>\n",
              "      <td>12</td>\n",
              "      <td>13</td>\n",
              "      <td>14</td>\n",
              "    </tr>\n",
              "    <tr>\n",
              "      <th>A3</th>\n",
              "      <td>15</td>\n",
              "      <td>16</td>\n",
              "      <td>17</td>\n",
              "    </tr>\n",
              "  </tbody>\n",
              "</table>\n",
              "</div>\n",
              "      <button class=\"colab-df-convert\" onclick=\"convertToInteractive('df-9d114e2f-1986-4ad6-b0ce-c0718c231802')\"\n",
              "              title=\"Convert this dataframe to an interactive table.\"\n",
              "              style=\"display:none;\">\n",
              "        \n",
              "  <svg xmlns=\"http://www.w3.org/2000/svg\" height=\"24px\"viewBox=\"0 0 24 24\"\n",
              "       width=\"24px\">\n",
              "    <path d=\"M0 0h24v24H0V0z\" fill=\"none\"/>\n",
              "    <path d=\"M18.56 5.44l.94 2.06.94-2.06 2.06-.94-2.06-.94-.94-2.06-.94 2.06-2.06.94zm-11 1L8.5 8.5l.94-2.06 2.06-.94-2.06-.94L8.5 2.5l-.94 2.06-2.06.94zm10 10l.94 2.06.94-2.06 2.06-.94-2.06-.94-.94-2.06-.94 2.06-2.06.94z\"/><path d=\"M17.41 7.96l-1.37-1.37c-.4-.4-.92-.59-1.43-.59-.52 0-1.04.2-1.43.59L10.3 9.45l-7.72 7.72c-.78.78-.78 2.05 0 2.83L4 21.41c.39.39.9.59 1.41.59.51 0 1.02-.2 1.41-.59l7.78-7.78 2.81-2.81c.8-.78.8-2.07 0-2.86zM5.41 20L4 18.59l7.72-7.72 1.47 1.35L5.41 20z\"/>\n",
              "  </svg>\n",
              "      </button>\n",
              "      \n",
              "  <style>\n",
              "    .colab-df-container {\n",
              "      display:flex;\n",
              "      flex-wrap:wrap;\n",
              "      gap: 12px;\n",
              "    }\n",
              "\n",
              "    .colab-df-convert {\n",
              "      background-color: #E8F0FE;\n",
              "      border: none;\n",
              "      border-radius: 50%;\n",
              "      cursor: pointer;\n",
              "      display: none;\n",
              "      fill: #1967D2;\n",
              "      height: 32px;\n",
              "      padding: 0 0 0 0;\n",
              "      width: 32px;\n",
              "    }\n",
              "\n",
              "    .colab-df-convert:hover {\n",
              "      background-color: #E2EBFA;\n",
              "      box-shadow: 0px 1px 2px rgba(60, 64, 67, 0.3), 0px 1px 3px 1px rgba(60, 64, 67, 0.15);\n",
              "      fill: #174EA6;\n",
              "    }\n",
              "\n",
              "    [theme=dark] .colab-df-convert {\n",
              "      background-color: #3B4455;\n",
              "      fill: #D2E3FC;\n",
              "    }\n",
              "\n",
              "    [theme=dark] .colab-df-convert:hover {\n",
              "      background-color: #434B5C;\n",
              "      box-shadow: 0px 1px 3px 1px rgba(0, 0, 0, 0.15);\n",
              "      filter: drop-shadow(0px 1px 2px rgba(0, 0, 0, 0.3));\n",
              "      fill: #FFFFFF;\n",
              "    }\n",
              "  </style>\n",
              "\n",
              "      <script>\n",
              "        const buttonEl =\n",
              "          document.querySelector('#df-9d114e2f-1986-4ad6-b0ce-c0718c231802 button.colab-df-convert');\n",
              "        buttonEl.style.display =\n",
              "          google.colab.kernel.accessAllowed ? 'block' : 'none';\n",
              "\n",
              "        async function convertToInteractive(key) {\n",
              "          const element = document.querySelector('#df-9d114e2f-1986-4ad6-b0ce-c0718c231802');\n",
              "          const dataTable =\n",
              "            await google.colab.kernel.invokeFunction('convertToInteractive',\n",
              "                                                     [key], {});\n",
              "          if (!dataTable) return;\n",
              "\n",
              "          const docLinkHtml = 'Like what you see? Visit the ' +\n",
              "            '<a target=\"_blank\" href=https://colab.research.google.com/notebooks/data_table.ipynb>data table notebook</a>'\n",
              "            + ' to learn more about interactive tables.';\n",
              "          element.innerHTML = '';\n",
              "          dataTable['output_type'] = 'display_data';\n",
              "          await google.colab.output.renderOutput(dataTable, element);\n",
              "          const docLink = document.createElement('div');\n",
              "          docLink.innerHTML = docLinkHtml;\n",
              "          element.appendChild(docLink);\n",
              "        }\n",
              "      </script>\n",
              "    </div>\n",
              "  </div>\n",
              "  "
            ]
          },
          "metadata": {},
          "execution_count": 107
        }
      ]
    },
    {
      "cell_type": "code",
      "source": [
        "df3.head()"
      ],
      "metadata": {
        "colab": {
          "base_uri": "https://localhost:8080/",
          "height": 206
        },
        "id": "QNIJamXExamL",
        "outputId": "2f65b5e9-112f-47d2-c158-166672794021"
      },
      "execution_count": 110,
      "outputs": [
        {
          "output_type": "execute_result",
          "data": {
            "text/plain": [
              "    X1  X2  X3\n",
              "A1   1   2   3\n",
              "A2   4   5   6\n",
              "A3   7   8   9\n",
              "A1   9  10  11\n",
              "A2  12  13  14"
            ],
            "text/html": [
              "\n",
              "  <div id=\"df-ee0aa921-f1c1-40e6-b0bb-2929d5f6bc2e\">\n",
              "    <div class=\"colab-df-container\">\n",
              "      <div>\n",
              "<style scoped>\n",
              "    .dataframe tbody tr th:only-of-type {\n",
              "        vertical-align: middle;\n",
              "    }\n",
              "\n",
              "    .dataframe tbody tr th {\n",
              "        vertical-align: top;\n",
              "    }\n",
              "\n",
              "    .dataframe thead th {\n",
              "        text-align: right;\n",
              "    }\n",
              "</style>\n",
              "<table border=\"1\" class=\"dataframe\">\n",
              "  <thead>\n",
              "    <tr style=\"text-align: right;\">\n",
              "      <th></th>\n",
              "      <th>X1</th>\n",
              "      <th>X2</th>\n",
              "      <th>X3</th>\n",
              "    </tr>\n",
              "  </thead>\n",
              "  <tbody>\n",
              "    <tr>\n",
              "      <th>A1</th>\n",
              "      <td>1</td>\n",
              "      <td>2</td>\n",
              "      <td>3</td>\n",
              "    </tr>\n",
              "    <tr>\n",
              "      <th>A2</th>\n",
              "      <td>4</td>\n",
              "      <td>5</td>\n",
              "      <td>6</td>\n",
              "    </tr>\n",
              "    <tr>\n",
              "      <th>A3</th>\n",
              "      <td>7</td>\n",
              "      <td>8</td>\n",
              "      <td>9</td>\n",
              "    </tr>\n",
              "    <tr>\n",
              "      <th>A1</th>\n",
              "      <td>9</td>\n",
              "      <td>10</td>\n",
              "      <td>11</td>\n",
              "    </tr>\n",
              "    <tr>\n",
              "      <th>A2</th>\n",
              "      <td>12</td>\n",
              "      <td>13</td>\n",
              "      <td>14</td>\n",
              "    </tr>\n",
              "  </tbody>\n",
              "</table>\n",
              "</div>\n",
              "      <button class=\"colab-df-convert\" onclick=\"convertToInteractive('df-ee0aa921-f1c1-40e6-b0bb-2929d5f6bc2e')\"\n",
              "              title=\"Convert this dataframe to an interactive table.\"\n",
              "              style=\"display:none;\">\n",
              "        \n",
              "  <svg xmlns=\"http://www.w3.org/2000/svg\" height=\"24px\"viewBox=\"0 0 24 24\"\n",
              "       width=\"24px\">\n",
              "    <path d=\"M0 0h24v24H0V0z\" fill=\"none\"/>\n",
              "    <path d=\"M18.56 5.44l.94 2.06.94-2.06 2.06-.94-2.06-.94-.94-2.06-.94 2.06-2.06.94zm-11 1L8.5 8.5l.94-2.06 2.06-.94-2.06-.94L8.5 2.5l-.94 2.06-2.06.94zm10 10l.94 2.06.94-2.06 2.06-.94-2.06-.94-.94-2.06-.94 2.06-2.06.94z\"/><path d=\"M17.41 7.96l-1.37-1.37c-.4-.4-.92-.59-1.43-.59-.52 0-1.04.2-1.43.59L10.3 9.45l-7.72 7.72c-.78.78-.78 2.05 0 2.83L4 21.41c.39.39.9.59 1.41.59.51 0 1.02-.2 1.41-.59l7.78-7.78 2.81-2.81c.8-.78.8-2.07 0-2.86zM5.41 20L4 18.59l7.72-7.72 1.47 1.35L5.41 20z\"/>\n",
              "  </svg>\n",
              "      </button>\n",
              "      \n",
              "  <style>\n",
              "    .colab-df-container {\n",
              "      display:flex;\n",
              "      flex-wrap:wrap;\n",
              "      gap: 12px;\n",
              "    }\n",
              "\n",
              "    .colab-df-convert {\n",
              "      background-color: #E8F0FE;\n",
              "      border: none;\n",
              "      border-radius: 50%;\n",
              "      cursor: pointer;\n",
              "      display: none;\n",
              "      fill: #1967D2;\n",
              "      height: 32px;\n",
              "      padding: 0 0 0 0;\n",
              "      width: 32px;\n",
              "    }\n",
              "\n",
              "    .colab-df-convert:hover {\n",
              "      background-color: #E2EBFA;\n",
              "      box-shadow: 0px 1px 2px rgba(60, 64, 67, 0.3), 0px 1px 3px 1px rgba(60, 64, 67, 0.15);\n",
              "      fill: #174EA6;\n",
              "    }\n",
              "\n",
              "    [theme=dark] .colab-df-convert {\n",
              "      background-color: #3B4455;\n",
              "      fill: #D2E3FC;\n",
              "    }\n",
              "\n",
              "    [theme=dark] .colab-df-convert:hover {\n",
              "      background-color: #434B5C;\n",
              "      box-shadow: 0px 1px 3px 1px rgba(0, 0, 0, 0.15);\n",
              "      filter: drop-shadow(0px 1px 2px rgba(0, 0, 0, 0.3));\n",
              "      fill: #FFFFFF;\n",
              "    }\n",
              "  </style>\n",
              "\n",
              "      <script>\n",
              "        const buttonEl =\n",
              "          document.querySelector('#df-ee0aa921-f1c1-40e6-b0bb-2929d5f6bc2e button.colab-df-convert');\n",
              "        buttonEl.style.display =\n",
              "          google.colab.kernel.accessAllowed ? 'block' : 'none';\n",
              "\n",
              "        async function convertToInteractive(key) {\n",
              "          const element = document.querySelector('#df-ee0aa921-f1c1-40e6-b0bb-2929d5f6bc2e');\n",
              "          const dataTable =\n",
              "            await google.colab.kernel.invokeFunction('convertToInteractive',\n",
              "                                                     [key], {});\n",
              "          if (!dataTable) return;\n",
              "\n",
              "          const docLinkHtml = 'Like what you see? Visit the ' +\n",
              "            '<a target=\"_blank\" href=https://colab.research.google.com/notebooks/data_table.ipynb>data table notebook</a>'\n",
              "            + ' to learn more about interactive tables.';\n",
              "          element.innerHTML = '';\n",
              "          dataTable['output_type'] = 'display_data';\n",
              "          await google.colab.output.renderOutput(dataTable, element);\n",
              "          const docLink = document.createElement('div');\n",
              "          docLink.innerHTML = docLinkHtml;\n",
              "          element.appendChild(docLink);\n",
              "        }\n",
              "      </script>\n",
              "    </div>\n",
              "  </div>\n",
              "  "
            ]
          },
          "metadata": {},
          "execution_count": 110
        }
      ]
    },
    {
      "cell_type": "code",
      "source": [
        "df3.head(3)"
      ],
      "metadata": {
        "colab": {
          "base_uri": "https://localhost:8080/",
          "height": 144
        },
        "id": "ssNnPfsnxcDf",
        "outputId": "b040a36a-d81a-477b-a652-a6bd66b5569b"
      },
      "execution_count": 111,
      "outputs": [
        {
          "output_type": "execute_result",
          "data": {
            "text/plain": [
              "    X1  X2  X3\n",
              "A1   1   2   3\n",
              "A2   4   5   6\n",
              "A3   7   8   9"
            ],
            "text/html": [
              "\n",
              "  <div id=\"df-a9f8c0ea-dbc0-4ceb-99fb-b06b73e28d0a\">\n",
              "    <div class=\"colab-df-container\">\n",
              "      <div>\n",
              "<style scoped>\n",
              "    .dataframe tbody tr th:only-of-type {\n",
              "        vertical-align: middle;\n",
              "    }\n",
              "\n",
              "    .dataframe tbody tr th {\n",
              "        vertical-align: top;\n",
              "    }\n",
              "\n",
              "    .dataframe thead th {\n",
              "        text-align: right;\n",
              "    }\n",
              "</style>\n",
              "<table border=\"1\" class=\"dataframe\">\n",
              "  <thead>\n",
              "    <tr style=\"text-align: right;\">\n",
              "      <th></th>\n",
              "      <th>X1</th>\n",
              "      <th>X2</th>\n",
              "      <th>X3</th>\n",
              "    </tr>\n",
              "  </thead>\n",
              "  <tbody>\n",
              "    <tr>\n",
              "      <th>A1</th>\n",
              "      <td>1</td>\n",
              "      <td>2</td>\n",
              "      <td>3</td>\n",
              "    </tr>\n",
              "    <tr>\n",
              "      <th>A2</th>\n",
              "      <td>4</td>\n",
              "      <td>5</td>\n",
              "      <td>6</td>\n",
              "    </tr>\n",
              "    <tr>\n",
              "      <th>A3</th>\n",
              "      <td>7</td>\n",
              "      <td>8</td>\n",
              "      <td>9</td>\n",
              "    </tr>\n",
              "  </tbody>\n",
              "</table>\n",
              "</div>\n",
              "      <button class=\"colab-df-convert\" onclick=\"convertToInteractive('df-a9f8c0ea-dbc0-4ceb-99fb-b06b73e28d0a')\"\n",
              "              title=\"Convert this dataframe to an interactive table.\"\n",
              "              style=\"display:none;\">\n",
              "        \n",
              "  <svg xmlns=\"http://www.w3.org/2000/svg\" height=\"24px\"viewBox=\"0 0 24 24\"\n",
              "       width=\"24px\">\n",
              "    <path d=\"M0 0h24v24H0V0z\" fill=\"none\"/>\n",
              "    <path d=\"M18.56 5.44l.94 2.06.94-2.06 2.06-.94-2.06-.94-.94-2.06-.94 2.06-2.06.94zm-11 1L8.5 8.5l.94-2.06 2.06-.94-2.06-.94L8.5 2.5l-.94 2.06-2.06.94zm10 10l.94 2.06.94-2.06 2.06-.94-2.06-.94-.94-2.06-.94 2.06-2.06.94z\"/><path d=\"M17.41 7.96l-1.37-1.37c-.4-.4-.92-.59-1.43-.59-.52 0-1.04.2-1.43.59L10.3 9.45l-7.72 7.72c-.78.78-.78 2.05 0 2.83L4 21.41c.39.39.9.59 1.41.59.51 0 1.02-.2 1.41-.59l7.78-7.78 2.81-2.81c.8-.78.8-2.07 0-2.86zM5.41 20L4 18.59l7.72-7.72 1.47 1.35L5.41 20z\"/>\n",
              "  </svg>\n",
              "      </button>\n",
              "      \n",
              "  <style>\n",
              "    .colab-df-container {\n",
              "      display:flex;\n",
              "      flex-wrap:wrap;\n",
              "      gap: 12px;\n",
              "    }\n",
              "\n",
              "    .colab-df-convert {\n",
              "      background-color: #E8F0FE;\n",
              "      border: none;\n",
              "      border-radius: 50%;\n",
              "      cursor: pointer;\n",
              "      display: none;\n",
              "      fill: #1967D2;\n",
              "      height: 32px;\n",
              "      padding: 0 0 0 0;\n",
              "      width: 32px;\n",
              "    }\n",
              "\n",
              "    .colab-df-convert:hover {\n",
              "      background-color: #E2EBFA;\n",
              "      box-shadow: 0px 1px 2px rgba(60, 64, 67, 0.3), 0px 1px 3px 1px rgba(60, 64, 67, 0.15);\n",
              "      fill: #174EA6;\n",
              "    }\n",
              "\n",
              "    [theme=dark] .colab-df-convert {\n",
              "      background-color: #3B4455;\n",
              "      fill: #D2E3FC;\n",
              "    }\n",
              "\n",
              "    [theme=dark] .colab-df-convert:hover {\n",
              "      background-color: #434B5C;\n",
              "      box-shadow: 0px 1px 3px 1px rgba(0, 0, 0, 0.15);\n",
              "      filter: drop-shadow(0px 1px 2px rgba(0, 0, 0, 0.3));\n",
              "      fill: #FFFFFF;\n",
              "    }\n",
              "  </style>\n",
              "\n",
              "      <script>\n",
              "        const buttonEl =\n",
              "          document.querySelector('#df-a9f8c0ea-dbc0-4ceb-99fb-b06b73e28d0a button.colab-df-convert');\n",
              "        buttonEl.style.display =\n",
              "          google.colab.kernel.accessAllowed ? 'block' : 'none';\n",
              "\n",
              "        async function convertToInteractive(key) {\n",
              "          const element = document.querySelector('#df-a9f8c0ea-dbc0-4ceb-99fb-b06b73e28d0a');\n",
              "          const dataTable =\n",
              "            await google.colab.kernel.invokeFunction('convertToInteractive',\n",
              "                                                     [key], {});\n",
              "          if (!dataTable) return;\n",
              "\n",
              "          const docLinkHtml = 'Like what you see? Visit the ' +\n",
              "            '<a target=\"_blank\" href=https://colab.research.google.com/notebooks/data_table.ipynb>data table notebook</a>'\n",
              "            + ' to learn more about interactive tables.';\n",
              "          element.innerHTML = '';\n",
              "          dataTable['output_type'] = 'display_data';\n",
              "          await google.colab.output.renderOutput(dataTable, element);\n",
              "          const docLink = document.createElement('div');\n",
              "          docLink.innerHTML = docLinkHtml;\n",
              "          element.appendChild(docLink);\n",
              "        }\n",
              "      </script>\n",
              "    </div>\n",
              "  </div>\n",
              "  "
            ]
          },
          "metadata": {},
          "execution_count": 111
        }
      ]
    },
    {
      "cell_type": "code",
      "source": [
        "df3.tail()"
      ],
      "metadata": {
        "colab": {
          "base_uri": "https://localhost:8080/",
          "height": 206
        },
        "id": "AMruRUxdxd-b",
        "outputId": "30b8baae-b75f-4079-84c8-8ea6bd7226c6"
      },
      "execution_count": 112,
      "outputs": [
        {
          "output_type": "execute_result",
          "data": {
            "text/plain": [
              "    X1  X2  X3\n",
              "A2   4   5   6\n",
              "A3   7   8   9\n",
              "A1   9  10  11\n",
              "A2  12  13  14\n",
              "A3  15  16  17"
            ],
            "text/html": [
              "\n",
              "  <div id=\"df-fc192d2f-600c-4eba-beb8-a0046f3562ff\">\n",
              "    <div class=\"colab-df-container\">\n",
              "      <div>\n",
              "<style scoped>\n",
              "    .dataframe tbody tr th:only-of-type {\n",
              "        vertical-align: middle;\n",
              "    }\n",
              "\n",
              "    .dataframe tbody tr th {\n",
              "        vertical-align: top;\n",
              "    }\n",
              "\n",
              "    .dataframe thead th {\n",
              "        text-align: right;\n",
              "    }\n",
              "</style>\n",
              "<table border=\"1\" class=\"dataframe\">\n",
              "  <thead>\n",
              "    <tr style=\"text-align: right;\">\n",
              "      <th></th>\n",
              "      <th>X1</th>\n",
              "      <th>X2</th>\n",
              "      <th>X3</th>\n",
              "    </tr>\n",
              "  </thead>\n",
              "  <tbody>\n",
              "    <tr>\n",
              "      <th>A2</th>\n",
              "      <td>4</td>\n",
              "      <td>5</td>\n",
              "      <td>6</td>\n",
              "    </tr>\n",
              "    <tr>\n",
              "      <th>A3</th>\n",
              "      <td>7</td>\n",
              "      <td>8</td>\n",
              "      <td>9</td>\n",
              "    </tr>\n",
              "    <tr>\n",
              "      <th>A1</th>\n",
              "      <td>9</td>\n",
              "      <td>10</td>\n",
              "      <td>11</td>\n",
              "    </tr>\n",
              "    <tr>\n",
              "      <th>A2</th>\n",
              "      <td>12</td>\n",
              "      <td>13</td>\n",
              "      <td>14</td>\n",
              "    </tr>\n",
              "    <tr>\n",
              "      <th>A3</th>\n",
              "      <td>15</td>\n",
              "      <td>16</td>\n",
              "      <td>17</td>\n",
              "    </tr>\n",
              "  </tbody>\n",
              "</table>\n",
              "</div>\n",
              "      <button class=\"colab-df-convert\" onclick=\"convertToInteractive('df-fc192d2f-600c-4eba-beb8-a0046f3562ff')\"\n",
              "              title=\"Convert this dataframe to an interactive table.\"\n",
              "              style=\"display:none;\">\n",
              "        \n",
              "  <svg xmlns=\"http://www.w3.org/2000/svg\" height=\"24px\"viewBox=\"0 0 24 24\"\n",
              "       width=\"24px\">\n",
              "    <path d=\"M0 0h24v24H0V0z\" fill=\"none\"/>\n",
              "    <path d=\"M18.56 5.44l.94 2.06.94-2.06 2.06-.94-2.06-.94-.94-2.06-.94 2.06-2.06.94zm-11 1L8.5 8.5l.94-2.06 2.06-.94-2.06-.94L8.5 2.5l-.94 2.06-2.06.94zm10 10l.94 2.06.94-2.06 2.06-.94-2.06-.94-.94-2.06-.94 2.06-2.06.94z\"/><path d=\"M17.41 7.96l-1.37-1.37c-.4-.4-.92-.59-1.43-.59-.52 0-1.04.2-1.43.59L10.3 9.45l-7.72 7.72c-.78.78-.78 2.05 0 2.83L4 21.41c.39.39.9.59 1.41.59.51 0 1.02-.2 1.41-.59l7.78-7.78 2.81-2.81c.8-.78.8-2.07 0-2.86zM5.41 20L4 18.59l7.72-7.72 1.47 1.35L5.41 20z\"/>\n",
              "  </svg>\n",
              "      </button>\n",
              "      \n",
              "  <style>\n",
              "    .colab-df-container {\n",
              "      display:flex;\n",
              "      flex-wrap:wrap;\n",
              "      gap: 12px;\n",
              "    }\n",
              "\n",
              "    .colab-df-convert {\n",
              "      background-color: #E8F0FE;\n",
              "      border: none;\n",
              "      border-radius: 50%;\n",
              "      cursor: pointer;\n",
              "      display: none;\n",
              "      fill: #1967D2;\n",
              "      height: 32px;\n",
              "      padding: 0 0 0 0;\n",
              "      width: 32px;\n",
              "    }\n",
              "\n",
              "    .colab-df-convert:hover {\n",
              "      background-color: #E2EBFA;\n",
              "      box-shadow: 0px 1px 2px rgba(60, 64, 67, 0.3), 0px 1px 3px 1px rgba(60, 64, 67, 0.15);\n",
              "      fill: #174EA6;\n",
              "    }\n",
              "\n",
              "    [theme=dark] .colab-df-convert {\n",
              "      background-color: #3B4455;\n",
              "      fill: #D2E3FC;\n",
              "    }\n",
              "\n",
              "    [theme=dark] .colab-df-convert:hover {\n",
              "      background-color: #434B5C;\n",
              "      box-shadow: 0px 1px 3px 1px rgba(0, 0, 0, 0.15);\n",
              "      filter: drop-shadow(0px 1px 2px rgba(0, 0, 0, 0.3));\n",
              "      fill: #FFFFFF;\n",
              "    }\n",
              "  </style>\n",
              "\n",
              "      <script>\n",
              "        const buttonEl =\n",
              "          document.querySelector('#df-fc192d2f-600c-4eba-beb8-a0046f3562ff button.colab-df-convert');\n",
              "        buttonEl.style.display =\n",
              "          google.colab.kernel.accessAllowed ? 'block' : 'none';\n",
              "\n",
              "        async function convertToInteractive(key) {\n",
              "          const element = document.querySelector('#df-fc192d2f-600c-4eba-beb8-a0046f3562ff');\n",
              "          const dataTable =\n",
              "            await google.colab.kernel.invokeFunction('convertToInteractive',\n",
              "                                                     [key], {});\n",
              "          if (!dataTable) return;\n",
              "\n",
              "          const docLinkHtml = 'Like what you see? Visit the ' +\n",
              "            '<a target=\"_blank\" href=https://colab.research.google.com/notebooks/data_table.ipynb>data table notebook</a>'\n",
              "            + ' to learn more about interactive tables.';\n",
              "          element.innerHTML = '';\n",
              "          dataTable['output_type'] = 'display_data';\n",
              "          await google.colab.output.renderOutput(dataTable, element);\n",
              "          const docLink = document.createElement('div');\n",
              "          docLink.innerHTML = docLinkHtml;\n",
              "          element.appendChild(docLink);\n",
              "        }\n",
              "      </script>\n",
              "    </div>\n",
              "  </div>\n",
              "  "
            ]
          },
          "metadata": {},
          "execution_count": 112
        }
      ]
    },
    {
      "cell_type": "code",
      "source": [
        "df3.tail(2)"
      ],
      "metadata": {
        "colab": {
          "base_uri": "https://localhost:8080/",
          "height": 112
        },
        "id": "0uuTMKXKxfm0",
        "outputId": "8e03db83-e4f6-4802-88a7-4d4c02f52ef9"
      },
      "execution_count": 113,
      "outputs": [
        {
          "output_type": "execute_result",
          "data": {
            "text/plain": [
              "    X1  X2  X3\n",
              "A2  12  13  14\n",
              "A3  15  16  17"
            ],
            "text/html": [
              "\n",
              "  <div id=\"df-422f3158-ac23-440f-a7f9-2db6ecccfd75\">\n",
              "    <div class=\"colab-df-container\">\n",
              "      <div>\n",
              "<style scoped>\n",
              "    .dataframe tbody tr th:only-of-type {\n",
              "        vertical-align: middle;\n",
              "    }\n",
              "\n",
              "    .dataframe tbody tr th {\n",
              "        vertical-align: top;\n",
              "    }\n",
              "\n",
              "    .dataframe thead th {\n",
              "        text-align: right;\n",
              "    }\n",
              "</style>\n",
              "<table border=\"1\" class=\"dataframe\">\n",
              "  <thead>\n",
              "    <tr style=\"text-align: right;\">\n",
              "      <th></th>\n",
              "      <th>X1</th>\n",
              "      <th>X2</th>\n",
              "      <th>X3</th>\n",
              "    </tr>\n",
              "  </thead>\n",
              "  <tbody>\n",
              "    <tr>\n",
              "      <th>A2</th>\n",
              "      <td>12</td>\n",
              "      <td>13</td>\n",
              "      <td>14</td>\n",
              "    </tr>\n",
              "    <tr>\n",
              "      <th>A3</th>\n",
              "      <td>15</td>\n",
              "      <td>16</td>\n",
              "      <td>17</td>\n",
              "    </tr>\n",
              "  </tbody>\n",
              "</table>\n",
              "</div>\n",
              "      <button class=\"colab-df-convert\" onclick=\"convertToInteractive('df-422f3158-ac23-440f-a7f9-2db6ecccfd75')\"\n",
              "              title=\"Convert this dataframe to an interactive table.\"\n",
              "              style=\"display:none;\">\n",
              "        \n",
              "  <svg xmlns=\"http://www.w3.org/2000/svg\" height=\"24px\"viewBox=\"0 0 24 24\"\n",
              "       width=\"24px\">\n",
              "    <path d=\"M0 0h24v24H0V0z\" fill=\"none\"/>\n",
              "    <path d=\"M18.56 5.44l.94 2.06.94-2.06 2.06-.94-2.06-.94-.94-2.06-.94 2.06-2.06.94zm-11 1L8.5 8.5l.94-2.06 2.06-.94-2.06-.94L8.5 2.5l-.94 2.06-2.06.94zm10 10l.94 2.06.94-2.06 2.06-.94-2.06-.94-.94-2.06-.94 2.06-2.06.94z\"/><path d=\"M17.41 7.96l-1.37-1.37c-.4-.4-.92-.59-1.43-.59-.52 0-1.04.2-1.43.59L10.3 9.45l-7.72 7.72c-.78.78-.78 2.05 0 2.83L4 21.41c.39.39.9.59 1.41.59.51 0 1.02-.2 1.41-.59l7.78-7.78 2.81-2.81c.8-.78.8-2.07 0-2.86zM5.41 20L4 18.59l7.72-7.72 1.47 1.35L5.41 20z\"/>\n",
              "  </svg>\n",
              "      </button>\n",
              "      \n",
              "  <style>\n",
              "    .colab-df-container {\n",
              "      display:flex;\n",
              "      flex-wrap:wrap;\n",
              "      gap: 12px;\n",
              "    }\n",
              "\n",
              "    .colab-df-convert {\n",
              "      background-color: #E8F0FE;\n",
              "      border: none;\n",
              "      border-radius: 50%;\n",
              "      cursor: pointer;\n",
              "      display: none;\n",
              "      fill: #1967D2;\n",
              "      height: 32px;\n",
              "      padding: 0 0 0 0;\n",
              "      width: 32px;\n",
              "    }\n",
              "\n",
              "    .colab-df-convert:hover {\n",
              "      background-color: #E2EBFA;\n",
              "      box-shadow: 0px 1px 2px rgba(60, 64, 67, 0.3), 0px 1px 3px 1px rgba(60, 64, 67, 0.15);\n",
              "      fill: #174EA6;\n",
              "    }\n",
              "\n",
              "    [theme=dark] .colab-df-convert {\n",
              "      background-color: #3B4455;\n",
              "      fill: #D2E3FC;\n",
              "    }\n",
              "\n",
              "    [theme=dark] .colab-df-convert:hover {\n",
              "      background-color: #434B5C;\n",
              "      box-shadow: 0px 1px 3px 1px rgba(0, 0, 0, 0.15);\n",
              "      filter: drop-shadow(0px 1px 2px rgba(0, 0, 0, 0.3));\n",
              "      fill: #FFFFFF;\n",
              "    }\n",
              "  </style>\n",
              "\n",
              "      <script>\n",
              "        const buttonEl =\n",
              "          document.querySelector('#df-422f3158-ac23-440f-a7f9-2db6ecccfd75 button.colab-df-convert');\n",
              "        buttonEl.style.display =\n",
              "          google.colab.kernel.accessAllowed ? 'block' : 'none';\n",
              "\n",
              "        async function convertToInteractive(key) {\n",
              "          const element = document.querySelector('#df-422f3158-ac23-440f-a7f9-2db6ecccfd75');\n",
              "          const dataTable =\n",
              "            await google.colab.kernel.invokeFunction('convertToInteractive',\n",
              "                                                     [key], {});\n",
              "          if (!dataTable) return;\n",
              "\n",
              "          const docLinkHtml = 'Like what you see? Visit the ' +\n",
              "            '<a target=\"_blank\" href=https://colab.research.google.com/notebooks/data_table.ipynb>data table notebook</a>'\n",
              "            + ' to learn more about interactive tables.';\n",
              "          element.innerHTML = '';\n",
              "          dataTable['output_type'] = 'display_data';\n",
              "          await google.colab.output.renderOutput(dataTable, element);\n",
              "          const docLink = document.createElement('div');\n",
              "          docLink.innerHTML = docLinkHtml;\n",
              "          element.appendChild(docLink);\n",
              "        }\n",
              "      </script>\n",
              "    </div>\n",
              "  </div>\n",
              "  "
            ]
          },
          "metadata": {},
          "execution_count": 113
        }
      ]
    },
    {
      "cell_type": "code",
      "source": [
        "df3.describe()"
      ],
      "metadata": {
        "colab": {
          "base_uri": "https://localhost:8080/",
          "height": 300
        },
        "id": "Z4lpDjTuxhSJ",
        "outputId": "296b83b3-7669-4a17-b295-5e0582723c88"
      },
      "execution_count": 114,
      "outputs": [
        {
          "output_type": "execute_result",
          "data": {
            "text/plain": [
              "              X1         X2         X3\n",
              "count   6.000000   6.000000   6.000000\n",
              "mean    8.000000   9.000000  10.000000\n",
              "std     5.138093   5.138093   5.138093\n",
              "min     1.000000   2.000000   3.000000\n",
              "25%     4.750000   5.750000   6.750000\n",
              "50%     8.000000   9.000000  10.000000\n",
              "75%    11.250000  12.250000  13.250000\n",
              "max    15.000000  16.000000  17.000000"
            ],
            "text/html": [
              "\n",
              "  <div id=\"df-d36a9dce-31e3-47e1-8977-ea7ffd14385a\">\n",
              "    <div class=\"colab-df-container\">\n",
              "      <div>\n",
              "<style scoped>\n",
              "    .dataframe tbody tr th:only-of-type {\n",
              "        vertical-align: middle;\n",
              "    }\n",
              "\n",
              "    .dataframe tbody tr th {\n",
              "        vertical-align: top;\n",
              "    }\n",
              "\n",
              "    .dataframe thead th {\n",
              "        text-align: right;\n",
              "    }\n",
              "</style>\n",
              "<table border=\"1\" class=\"dataframe\">\n",
              "  <thead>\n",
              "    <tr style=\"text-align: right;\">\n",
              "      <th></th>\n",
              "      <th>X1</th>\n",
              "      <th>X2</th>\n",
              "      <th>X3</th>\n",
              "    </tr>\n",
              "  </thead>\n",
              "  <tbody>\n",
              "    <tr>\n",
              "      <th>count</th>\n",
              "      <td>6.000000</td>\n",
              "      <td>6.000000</td>\n",
              "      <td>6.000000</td>\n",
              "    </tr>\n",
              "    <tr>\n",
              "      <th>mean</th>\n",
              "      <td>8.000000</td>\n",
              "      <td>9.000000</td>\n",
              "      <td>10.000000</td>\n",
              "    </tr>\n",
              "    <tr>\n",
              "      <th>std</th>\n",
              "      <td>5.138093</td>\n",
              "      <td>5.138093</td>\n",
              "      <td>5.138093</td>\n",
              "    </tr>\n",
              "    <tr>\n",
              "      <th>min</th>\n",
              "      <td>1.000000</td>\n",
              "      <td>2.000000</td>\n",
              "      <td>3.000000</td>\n",
              "    </tr>\n",
              "    <tr>\n",
              "      <th>25%</th>\n",
              "      <td>4.750000</td>\n",
              "      <td>5.750000</td>\n",
              "      <td>6.750000</td>\n",
              "    </tr>\n",
              "    <tr>\n",
              "      <th>50%</th>\n",
              "      <td>8.000000</td>\n",
              "      <td>9.000000</td>\n",
              "      <td>10.000000</td>\n",
              "    </tr>\n",
              "    <tr>\n",
              "      <th>75%</th>\n",
              "      <td>11.250000</td>\n",
              "      <td>12.250000</td>\n",
              "      <td>13.250000</td>\n",
              "    </tr>\n",
              "    <tr>\n",
              "      <th>max</th>\n",
              "      <td>15.000000</td>\n",
              "      <td>16.000000</td>\n",
              "      <td>17.000000</td>\n",
              "    </tr>\n",
              "  </tbody>\n",
              "</table>\n",
              "</div>\n",
              "      <button class=\"colab-df-convert\" onclick=\"convertToInteractive('df-d36a9dce-31e3-47e1-8977-ea7ffd14385a')\"\n",
              "              title=\"Convert this dataframe to an interactive table.\"\n",
              "              style=\"display:none;\">\n",
              "        \n",
              "  <svg xmlns=\"http://www.w3.org/2000/svg\" height=\"24px\"viewBox=\"0 0 24 24\"\n",
              "       width=\"24px\">\n",
              "    <path d=\"M0 0h24v24H0V0z\" fill=\"none\"/>\n",
              "    <path d=\"M18.56 5.44l.94 2.06.94-2.06 2.06-.94-2.06-.94-.94-2.06-.94 2.06-2.06.94zm-11 1L8.5 8.5l.94-2.06 2.06-.94-2.06-.94L8.5 2.5l-.94 2.06-2.06.94zm10 10l.94 2.06.94-2.06 2.06-.94-2.06-.94-.94-2.06-.94 2.06-2.06.94z\"/><path d=\"M17.41 7.96l-1.37-1.37c-.4-.4-.92-.59-1.43-.59-.52 0-1.04.2-1.43.59L10.3 9.45l-7.72 7.72c-.78.78-.78 2.05 0 2.83L4 21.41c.39.39.9.59 1.41.59.51 0 1.02-.2 1.41-.59l7.78-7.78 2.81-2.81c.8-.78.8-2.07 0-2.86zM5.41 20L4 18.59l7.72-7.72 1.47 1.35L5.41 20z\"/>\n",
              "  </svg>\n",
              "      </button>\n",
              "      \n",
              "  <style>\n",
              "    .colab-df-container {\n",
              "      display:flex;\n",
              "      flex-wrap:wrap;\n",
              "      gap: 12px;\n",
              "    }\n",
              "\n",
              "    .colab-df-convert {\n",
              "      background-color: #E8F0FE;\n",
              "      border: none;\n",
              "      border-radius: 50%;\n",
              "      cursor: pointer;\n",
              "      display: none;\n",
              "      fill: #1967D2;\n",
              "      height: 32px;\n",
              "      padding: 0 0 0 0;\n",
              "      width: 32px;\n",
              "    }\n",
              "\n",
              "    .colab-df-convert:hover {\n",
              "      background-color: #E2EBFA;\n",
              "      box-shadow: 0px 1px 2px rgba(60, 64, 67, 0.3), 0px 1px 3px 1px rgba(60, 64, 67, 0.15);\n",
              "      fill: #174EA6;\n",
              "    }\n",
              "\n",
              "    [theme=dark] .colab-df-convert {\n",
              "      background-color: #3B4455;\n",
              "      fill: #D2E3FC;\n",
              "    }\n",
              "\n",
              "    [theme=dark] .colab-df-convert:hover {\n",
              "      background-color: #434B5C;\n",
              "      box-shadow: 0px 1px 3px 1px rgba(0, 0, 0, 0.15);\n",
              "      filter: drop-shadow(0px 1px 2px rgba(0, 0, 0, 0.3));\n",
              "      fill: #FFFFFF;\n",
              "    }\n",
              "  </style>\n",
              "\n",
              "      <script>\n",
              "        const buttonEl =\n",
              "          document.querySelector('#df-d36a9dce-31e3-47e1-8977-ea7ffd14385a button.colab-df-convert');\n",
              "        buttonEl.style.display =\n",
              "          google.colab.kernel.accessAllowed ? 'block' : 'none';\n",
              "\n",
              "        async function convertToInteractive(key) {\n",
              "          const element = document.querySelector('#df-d36a9dce-31e3-47e1-8977-ea7ffd14385a');\n",
              "          const dataTable =\n",
              "            await google.colab.kernel.invokeFunction('convertToInteractive',\n",
              "                                                     [key], {});\n",
              "          if (!dataTable) return;\n",
              "\n",
              "          const docLinkHtml = 'Like what you see? Visit the ' +\n",
              "            '<a target=\"_blank\" href=https://colab.research.google.com/notebooks/data_table.ipynb>data table notebook</a>'\n",
              "            + ' to learn more about interactive tables.';\n",
              "          element.innerHTML = '';\n",
              "          dataTable['output_type'] = 'display_data';\n",
              "          await google.colab.output.renderOutput(dataTable, element);\n",
              "          const docLink = document.createElement('div');\n",
              "          docLink.innerHTML = docLinkHtml;\n",
              "          element.appendChild(docLink);\n",
              "        }\n",
              "      </script>\n",
              "    </div>\n",
              "  </div>\n",
              "  "
            ]
          },
          "metadata": {},
          "execution_count": 114
        }
      ]
    },
    {
      "cell_type": "code",
      "source": [
        "# DataFrame의 index 슬라이싱\n",
        "df3[1:3]\n",
        "# df3[1:3:1] # start, stop, step -> 파이썬에서는 주로 start이상 stop미만"
      ],
      "metadata": {
        "colab": {
          "base_uri": "https://localhost:8080/",
          "height": 112
        },
        "id": "f-uMJp0lxmGj",
        "outputId": "e33b405d-1b1f-4e09-a797-ef524ad932e5"
      },
      "execution_count": 120,
      "outputs": [
        {
          "output_type": "execute_result",
          "data": {
            "text/plain": [
              "    X1  X2  X3\n",
              "A2   4   5   6\n",
              "A3   7   8   9"
            ],
            "text/html": [
              "\n",
              "  <div id=\"df-cc48be70-812f-4372-a6cb-3e845fbb6f3a\">\n",
              "    <div class=\"colab-df-container\">\n",
              "      <div>\n",
              "<style scoped>\n",
              "    .dataframe tbody tr th:only-of-type {\n",
              "        vertical-align: middle;\n",
              "    }\n",
              "\n",
              "    .dataframe tbody tr th {\n",
              "        vertical-align: top;\n",
              "    }\n",
              "\n",
              "    .dataframe thead th {\n",
              "        text-align: right;\n",
              "    }\n",
              "</style>\n",
              "<table border=\"1\" class=\"dataframe\">\n",
              "  <thead>\n",
              "    <tr style=\"text-align: right;\">\n",
              "      <th></th>\n",
              "      <th>X1</th>\n",
              "      <th>X2</th>\n",
              "      <th>X3</th>\n",
              "    </tr>\n",
              "  </thead>\n",
              "  <tbody>\n",
              "    <tr>\n",
              "      <th>A2</th>\n",
              "      <td>4</td>\n",
              "      <td>5</td>\n",
              "      <td>6</td>\n",
              "    </tr>\n",
              "    <tr>\n",
              "      <th>A3</th>\n",
              "      <td>7</td>\n",
              "      <td>8</td>\n",
              "      <td>9</td>\n",
              "    </tr>\n",
              "  </tbody>\n",
              "</table>\n",
              "</div>\n",
              "      <button class=\"colab-df-convert\" onclick=\"convertToInteractive('df-cc48be70-812f-4372-a6cb-3e845fbb6f3a')\"\n",
              "              title=\"Convert this dataframe to an interactive table.\"\n",
              "              style=\"display:none;\">\n",
              "        \n",
              "  <svg xmlns=\"http://www.w3.org/2000/svg\" height=\"24px\"viewBox=\"0 0 24 24\"\n",
              "       width=\"24px\">\n",
              "    <path d=\"M0 0h24v24H0V0z\" fill=\"none\"/>\n",
              "    <path d=\"M18.56 5.44l.94 2.06.94-2.06 2.06-.94-2.06-.94-.94-2.06-.94 2.06-2.06.94zm-11 1L8.5 8.5l.94-2.06 2.06-.94-2.06-.94L8.5 2.5l-.94 2.06-2.06.94zm10 10l.94 2.06.94-2.06 2.06-.94-2.06-.94-.94-2.06-.94 2.06-2.06.94z\"/><path d=\"M17.41 7.96l-1.37-1.37c-.4-.4-.92-.59-1.43-.59-.52 0-1.04.2-1.43.59L10.3 9.45l-7.72 7.72c-.78.78-.78 2.05 0 2.83L4 21.41c.39.39.9.59 1.41.59.51 0 1.02-.2 1.41-.59l7.78-7.78 2.81-2.81c.8-.78.8-2.07 0-2.86zM5.41 20L4 18.59l7.72-7.72 1.47 1.35L5.41 20z\"/>\n",
              "  </svg>\n",
              "      </button>\n",
              "      \n",
              "  <style>\n",
              "    .colab-df-container {\n",
              "      display:flex;\n",
              "      flex-wrap:wrap;\n",
              "      gap: 12px;\n",
              "    }\n",
              "\n",
              "    .colab-df-convert {\n",
              "      background-color: #E8F0FE;\n",
              "      border: none;\n",
              "      border-radius: 50%;\n",
              "      cursor: pointer;\n",
              "      display: none;\n",
              "      fill: #1967D2;\n",
              "      height: 32px;\n",
              "      padding: 0 0 0 0;\n",
              "      width: 32px;\n",
              "    }\n",
              "\n",
              "    .colab-df-convert:hover {\n",
              "      background-color: #E2EBFA;\n",
              "      box-shadow: 0px 1px 2px rgba(60, 64, 67, 0.3), 0px 1px 3px 1px rgba(60, 64, 67, 0.15);\n",
              "      fill: #174EA6;\n",
              "    }\n",
              "\n",
              "    [theme=dark] .colab-df-convert {\n",
              "      background-color: #3B4455;\n",
              "      fill: #D2E3FC;\n",
              "    }\n",
              "\n",
              "    [theme=dark] .colab-df-convert:hover {\n",
              "      background-color: #434B5C;\n",
              "      box-shadow: 0px 1px 3px 1px rgba(0, 0, 0, 0.15);\n",
              "      filter: drop-shadow(0px 1px 2px rgba(0, 0, 0, 0.3));\n",
              "      fill: #FFFFFF;\n",
              "    }\n",
              "  </style>\n",
              "\n",
              "      <script>\n",
              "        const buttonEl =\n",
              "          document.querySelector('#df-cc48be70-812f-4372-a6cb-3e845fbb6f3a button.colab-df-convert');\n",
              "        buttonEl.style.display =\n",
              "          google.colab.kernel.accessAllowed ? 'block' : 'none';\n",
              "\n",
              "        async function convertToInteractive(key) {\n",
              "          const element = document.querySelector('#df-cc48be70-812f-4372-a6cb-3e845fbb6f3a');\n",
              "          const dataTable =\n",
              "            await google.colab.kernel.invokeFunction('convertToInteractive',\n",
              "                                                     [key], {});\n",
              "          if (!dataTable) return;\n",
              "\n",
              "          const docLinkHtml = 'Like what you see? Visit the ' +\n",
              "            '<a target=\"_blank\" href=https://colab.research.google.com/notebooks/data_table.ipynb>data table notebook</a>'\n",
              "            + ' to learn more about interactive tables.';\n",
              "          element.innerHTML = '';\n",
              "          dataTable['output_type'] = 'display_data';\n",
              "          await google.colab.output.renderOutput(dataTable, element);\n",
              "          const docLink = document.createElement('div');\n",
              "          docLink.innerHTML = docLinkHtml;\n",
              "          element.appendChild(docLink);\n",
              "        }\n",
              "      </script>\n",
              "    </div>\n",
              "  </div>\n",
              "  "
            ]
          },
          "metadata": {},
          "execution_count": 120
        }
      ]
    },
    {
      "cell_type": "code",
      "source": [
        "# DataFrame의 index 슬라이싱\n",
        "df3[0:5:2] # 2부터 5까지 index기준으로 움직임, columns 아님에 주의"
      ],
      "metadata": {
        "colab": {
          "base_uri": "https://localhost:8080/",
          "height": 144
        },
        "id": "d-qmjHQBx3tU",
        "outputId": "1eef9f3c-fb58-4d3c-ecb5-c982c1ac0a20"
      },
      "execution_count": 126,
      "outputs": [
        {
          "output_type": "execute_result",
          "data": {
            "text/plain": [
              "    X1  X2  X3\n",
              "A1   1   2   3\n",
              "A3   7   8   9\n",
              "A2  12  13  14"
            ],
            "text/html": [
              "\n",
              "  <div id=\"df-5316b97e-794a-49c2-be08-11060f001ebb\">\n",
              "    <div class=\"colab-df-container\">\n",
              "      <div>\n",
              "<style scoped>\n",
              "    .dataframe tbody tr th:only-of-type {\n",
              "        vertical-align: middle;\n",
              "    }\n",
              "\n",
              "    .dataframe tbody tr th {\n",
              "        vertical-align: top;\n",
              "    }\n",
              "\n",
              "    .dataframe thead th {\n",
              "        text-align: right;\n",
              "    }\n",
              "</style>\n",
              "<table border=\"1\" class=\"dataframe\">\n",
              "  <thead>\n",
              "    <tr style=\"text-align: right;\">\n",
              "      <th></th>\n",
              "      <th>X1</th>\n",
              "      <th>X2</th>\n",
              "      <th>X3</th>\n",
              "    </tr>\n",
              "  </thead>\n",
              "  <tbody>\n",
              "    <tr>\n",
              "      <th>A1</th>\n",
              "      <td>1</td>\n",
              "      <td>2</td>\n",
              "      <td>3</td>\n",
              "    </tr>\n",
              "    <tr>\n",
              "      <th>A3</th>\n",
              "      <td>7</td>\n",
              "      <td>8</td>\n",
              "      <td>9</td>\n",
              "    </tr>\n",
              "    <tr>\n",
              "      <th>A2</th>\n",
              "      <td>12</td>\n",
              "      <td>13</td>\n",
              "      <td>14</td>\n",
              "    </tr>\n",
              "  </tbody>\n",
              "</table>\n",
              "</div>\n",
              "      <button class=\"colab-df-convert\" onclick=\"convertToInteractive('df-5316b97e-794a-49c2-be08-11060f001ebb')\"\n",
              "              title=\"Convert this dataframe to an interactive table.\"\n",
              "              style=\"display:none;\">\n",
              "        \n",
              "  <svg xmlns=\"http://www.w3.org/2000/svg\" height=\"24px\"viewBox=\"0 0 24 24\"\n",
              "       width=\"24px\">\n",
              "    <path d=\"M0 0h24v24H0V0z\" fill=\"none\"/>\n",
              "    <path d=\"M18.56 5.44l.94 2.06.94-2.06 2.06-.94-2.06-.94-.94-2.06-.94 2.06-2.06.94zm-11 1L8.5 8.5l.94-2.06 2.06-.94-2.06-.94L8.5 2.5l-.94 2.06-2.06.94zm10 10l.94 2.06.94-2.06 2.06-.94-2.06-.94-.94-2.06-.94 2.06-2.06.94z\"/><path d=\"M17.41 7.96l-1.37-1.37c-.4-.4-.92-.59-1.43-.59-.52 0-1.04.2-1.43.59L10.3 9.45l-7.72 7.72c-.78.78-.78 2.05 0 2.83L4 21.41c.39.39.9.59 1.41.59.51 0 1.02-.2 1.41-.59l7.78-7.78 2.81-2.81c.8-.78.8-2.07 0-2.86zM5.41 20L4 18.59l7.72-7.72 1.47 1.35L5.41 20z\"/>\n",
              "  </svg>\n",
              "      </button>\n",
              "      \n",
              "  <style>\n",
              "    .colab-df-container {\n",
              "      display:flex;\n",
              "      flex-wrap:wrap;\n",
              "      gap: 12px;\n",
              "    }\n",
              "\n",
              "    .colab-df-convert {\n",
              "      background-color: #E8F0FE;\n",
              "      border: none;\n",
              "      border-radius: 50%;\n",
              "      cursor: pointer;\n",
              "      display: none;\n",
              "      fill: #1967D2;\n",
              "      height: 32px;\n",
              "      padding: 0 0 0 0;\n",
              "      width: 32px;\n",
              "    }\n",
              "\n",
              "    .colab-df-convert:hover {\n",
              "      background-color: #E2EBFA;\n",
              "      box-shadow: 0px 1px 2px rgba(60, 64, 67, 0.3), 0px 1px 3px 1px rgba(60, 64, 67, 0.15);\n",
              "      fill: #174EA6;\n",
              "    }\n",
              "\n",
              "    [theme=dark] .colab-df-convert {\n",
              "      background-color: #3B4455;\n",
              "      fill: #D2E3FC;\n",
              "    }\n",
              "\n",
              "    [theme=dark] .colab-df-convert:hover {\n",
              "      background-color: #434B5C;\n",
              "      box-shadow: 0px 1px 3px 1px rgba(0, 0, 0, 0.15);\n",
              "      filter: drop-shadow(0px 1px 2px rgba(0, 0, 0, 0.3));\n",
              "      fill: #FFFFFF;\n",
              "    }\n",
              "  </style>\n",
              "\n",
              "      <script>\n",
              "        const buttonEl =\n",
              "          document.querySelector('#df-5316b97e-794a-49c2-be08-11060f001ebb button.colab-df-convert');\n",
              "        buttonEl.style.display =\n",
              "          google.colab.kernel.accessAllowed ? 'block' : 'none';\n",
              "\n",
              "        async function convertToInteractive(key) {\n",
              "          const element = document.querySelector('#df-5316b97e-794a-49c2-be08-11060f001ebb');\n",
              "          const dataTable =\n",
              "            await google.colab.kernel.invokeFunction('convertToInteractive',\n",
              "                                                     [key], {});\n",
              "          if (!dataTable) return;\n",
              "\n",
              "          const docLinkHtml = 'Like what you see? Visit the ' +\n",
              "            '<a target=\"_blank\" href=https://colab.research.google.com/notebooks/data_table.ipynb>data table notebook</a>'\n",
              "            + ' to learn more about interactive tables.';\n",
              "          element.innerHTML = '';\n",
              "          dataTable['output_type'] = 'display_data';\n",
              "          await google.colab.output.renderOutput(dataTable, element);\n",
              "          const docLink = document.createElement('div');\n",
              "          docLink.innerHTML = docLinkHtml;\n",
              "          element.appendChild(docLink);\n",
              "        }\n",
              "      </script>\n",
              "    </div>\n",
              "  </div>\n",
              "  "
            ]
          },
          "metadata": {},
          "execution_count": 126
        }
      ]
    },
    {
      "cell_type": "code",
      "source": [
        "df3.index = ['A1', \"A2\", \"A3\", \"A4\", \"A5\", \"A6\"]\n",
        "df3"
      ],
      "metadata": {
        "colab": {
          "base_uri": "https://localhost:8080/",
          "height": 238
        },
        "id": "z1g6XsyAykwj",
        "outputId": "2c9658ca-0f8d-4ed2-c511-34fa82c59323"
      },
      "execution_count": 131,
      "outputs": [
        {
          "output_type": "execute_result",
          "data": {
            "text/plain": [
              "    X1  X2  X3\n",
              "A1   1   2   3\n",
              "A2   4   5   6\n",
              "A3   7   8   9\n",
              "A4   9  10  11\n",
              "A5  12  13  14\n",
              "A6  15  16  17"
            ],
            "text/html": [
              "\n",
              "  <div id=\"df-15ce08be-aa66-4187-a6ab-a255ea91cbc3\">\n",
              "    <div class=\"colab-df-container\">\n",
              "      <div>\n",
              "<style scoped>\n",
              "    .dataframe tbody tr th:only-of-type {\n",
              "        vertical-align: middle;\n",
              "    }\n",
              "\n",
              "    .dataframe tbody tr th {\n",
              "        vertical-align: top;\n",
              "    }\n",
              "\n",
              "    .dataframe thead th {\n",
              "        text-align: right;\n",
              "    }\n",
              "</style>\n",
              "<table border=\"1\" class=\"dataframe\">\n",
              "  <thead>\n",
              "    <tr style=\"text-align: right;\">\n",
              "      <th></th>\n",
              "      <th>X1</th>\n",
              "      <th>X2</th>\n",
              "      <th>X3</th>\n",
              "    </tr>\n",
              "  </thead>\n",
              "  <tbody>\n",
              "    <tr>\n",
              "      <th>A1</th>\n",
              "      <td>1</td>\n",
              "      <td>2</td>\n",
              "      <td>3</td>\n",
              "    </tr>\n",
              "    <tr>\n",
              "      <th>A2</th>\n",
              "      <td>4</td>\n",
              "      <td>5</td>\n",
              "      <td>6</td>\n",
              "    </tr>\n",
              "    <tr>\n",
              "      <th>A3</th>\n",
              "      <td>7</td>\n",
              "      <td>8</td>\n",
              "      <td>9</td>\n",
              "    </tr>\n",
              "    <tr>\n",
              "      <th>A4</th>\n",
              "      <td>9</td>\n",
              "      <td>10</td>\n",
              "      <td>11</td>\n",
              "    </tr>\n",
              "    <tr>\n",
              "      <th>A5</th>\n",
              "      <td>12</td>\n",
              "      <td>13</td>\n",
              "      <td>14</td>\n",
              "    </tr>\n",
              "    <tr>\n",
              "      <th>A6</th>\n",
              "      <td>15</td>\n",
              "      <td>16</td>\n",
              "      <td>17</td>\n",
              "    </tr>\n",
              "  </tbody>\n",
              "</table>\n",
              "</div>\n",
              "      <button class=\"colab-df-convert\" onclick=\"convertToInteractive('df-15ce08be-aa66-4187-a6ab-a255ea91cbc3')\"\n",
              "              title=\"Convert this dataframe to an interactive table.\"\n",
              "              style=\"display:none;\">\n",
              "        \n",
              "  <svg xmlns=\"http://www.w3.org/2000/svg\" height=\"24px\"viewBox=\"0 0 24 24\"\n",
              "       width=\"24px\">\n",
              "    <path d=\"M0 0h24v24H0V0z\" fill=\"none\"/>\n",
              "    <path d=\"M18.56 5.44l.94 2.06.94-2.06 2.06-.94-2.06-.94-.94-2.06-.94 2.06-2.06.94zm-11 1L8.5 8.5l.94-2.06 2.06-.94-2.06-.94L8.5 2.5l-.94 2.06-2.06.94zm10 10l.94 2.06.94-2.06 2.06-.94-2.06-.94-.94-2.06-.94 2.06-2.06.94z\"/><path d=\"M17.41 7.96l-1.37-1.37c-.4-.4-.92-.59-1.43-.59-.52 0-1.04.2-1.43.59L10.3 9.45l-7.72 7.72c-.78.78-.78 2.05 0 2.83L4 21.41c.39.39.9.59 1.41.59.51 0 1.02-.2 1.41-.59l7.78-7.78 2.81-2.81c.8-.78.8-2.07 0-2.86zM5.41 20L4 18.59l7.72-7.72 1.47 1.35L5.41 20z\"/>\n",
              "  </svg>\n",
              "      </button>\n",
              "      \n",
              "  <style>\n",
              "    .colab-df-container {\n",
              "      display:flex;\n",
              "      flex-wrap:wrap;\n",
              "      gap: 12px;\n",
              "    }\n",
              "\n",
              "    .colab-df-convert {\n",
              "      background-color: #E8F0FE;\n",
              "      border: none;\n",
              "      border-radius: 50%;\n",
              "      cursor: pointer;\n",
              "      display: none;\n",
              "      fill: #1967D2;\n",
              "      height: 32px;\n",
              "      padding: 0 0 0 0;\n",
              "      width: 32px;\n",
              "    }\n",
              "\n",
              "    .colab-df-convert:hover {\n",
              "      background-color: #E2EBFA;\n",
              "      box-shadow: 0px 1px 2px rgba(60, 64, 67, 0.3), 0px 1px 3px 1px rgba(60, 64, 67, 0.15);\n",
              "      fill: #174EA6;\n",
              "    }\n",
              "\n",
              "    [theme=dark] .colab-df-convert {\n",
              "      background-color: #3B4455;\n",
              "      fill: #D2E3FC;\n",
              "    }\n",
              "\n",
              "    [theme=dark] .colab-df-convert:hover {\n",
              "      background-color: #434B5C;\n",
              "      box-shadow: 0px 1px 3px 1px rgba(0, 0, 0, 0.15);\n",
              "      filter: drop-shadow(0px 1px 2px rgba(0, 0, 0, 0.3));\n",
              "      fill: #FFFFFF;\n",
              "    }\n",
              "  </style>\n",
              "\n",
              "      <script>\n",
              "        const buttonEl =\n",
              "          document.querySelector('#df-15ce08be-aa66-4187-a6ab-a255ea91cbc3 button.colab-df-convert');\n",
              "        buttonEl.style.display =\n",
              "          google.colab.kernel.accessAllowed ? 'block' : 'none';\n",
              "\n",
              "        async function convertToInteractive(key) {\n",
              "          const element = document.querySelector('#df-15ce08be-aa66-4187-a6ab-a255ea91cbc3');\n",
              "          const dataTable =\n",
              "            await google.colab.kernel.invokeFunction('convertToInteractive',\n",
              "                                                     [key], {});\n",
              "          if (!dataTable) return;\n",
              "\n",
              "          const docLinkHtml = 'Like what you see? Visit the ' +\n",
              "            '<a target=\"_blank\" href=https://colab.research.google.com/notebooks/data_table.ipynb>data table notebook</a>'\n",
              "            + ' to learn more about interactive tables.';\n",
              "          element.innerHTML = '';\n",
              "          dataTable['output_type'] = 'display_data';\n",
              "          await google.colab.output.renderOutput(dataTable, element);\n",
              "          const docLink = document.createElement('div');\n",
              "          docLink.innerHTML = docLinkHtml;\n",
              "          element.appendChild(docLink);\n",
              "        }\n",
              "      </script>\n",
              "    </div>\n",
              "  </div>\n",
              "  "
            ]
          },
          "metadata": {},
          "execution_count": 131
        }
      ]
    },
    {
      "cell_type": "code",
      "source": [
        "df3[\"A1\":\"A3\"]"
      ],
      "metadata": {
        "colab": {
          "base_uri": "https://localhost:8080/",
          "height": 144
        },
        "id": "BqurZkAYyUHr",
        "outputId": "da1e7bfb-c27e-4ba7-e454-6572aed45303"
      },
      "execution_count": 132,
      "outputs": [
        {
          "output_type": "execute_result",
          "data": {
            "text/plain": [
              "    X1  X2  X3\n",
              "A1   1   2   3\n",
              "A2   4   5   6\n",
              "A3   7   8   9"
            ],
            "text/html": [
              "\n",
              "  <div id=\"df-cc31283e-3a63-41bc-af3a-81d0e5899b05\">\n",
              "    <div class=\"colab-df-container\">\n",
              "      <div>\n",
              "<style scoped>\n",
              "    .dataframe tbody tr th:only-of-type {\n",
              "        vertical-align: middle;\n",
              "    }\n",
              "\n",
              "    .dataframe tbody tr th {\n",
              "        vertical-align: top;\n",
              "    }\n",
              "\n",
              "    .dataframe thead th {\n",
              "        text-align: right;\n",
              "    }\n",
              "</style>\n",
              "<table border=\"1\" class=\"dataframe\">\n",
              "  <thead>\n",
              "    <tr style=\"text-align: right;\">\n",
              "      <th></th>\n",
              "      <th>X1</th>\n",
              "      <th>X2</th>\n",
              "      <th>X3</th>\n",
              "    </tr>\n",
              "  </thead>\n",
              "  <tbody>\n",
              "    <tr>\n",
              "      <th>A1</th>\n",
              "      <td>1</td>\n",
              "      <td>2</td>\n",
              "      <td>3</td>\n",
              "    </tr>\n",
              "    <tr>\n",
              "      <th>A2</th>\n",
              "      <td>4</td>\n",
              "      <td>5</td>\n",
              "      <td>6</td>\n",
              "    </tr>\n",
              "    <tr>\n",
              "      <th>A3</th>\n",
              "      <td>7</td>\n",
              "      <td>8</td>\n",
              "      <td>9</td>\n",
              "    </tr>\n",
              "  </tbody>\n",
              "</table>\n",
              "</div>\n",
              "      <button class=\"colab-df-convert\" onclick=\"convertToInteractive('df-cc31283e-3a63-41bc-af3a-81d0e5899b05')\"\n",
              "              title=\"Convert this dataframe to an interactive table.\"\n",
              "              style=\"display:none;\">\n",
              "        \n",
              "  <svg xmlns=\"http://www.w3.org/2000/svg\" height=\"24px\"viewBox=\"0 0 24 24\"\n",
              "       width=\"24px\">\n",
              "    <path d=\"M0 0h24v24H0V0z\" fill=\"none\"/>\n",
              "    <path d=\"M18.56 5.44l.94 2.06.94-2.06 2.06-.94-2.06-.94-.94-2.06-.94 2.06-2.06.94zm-11 1L8.5 8.5l.94-2.06 2.06-.94-2.06-.94L8.5 2.5l-.94 2.06-2.06.94zm10 10l.94 2.06.94-2.06 2.06-.94-2.06-.94-.94-2.06-.94 2.06-2.06.94z\"/><path d=\"M17.41 7.96l-1.37-1.37c-.4-.4-.92-.59-1.43-.59-.52 0-1.04.2-1.43.59L10.3 9.45l-7.72 7.72c-.78.78-.78 2.05 0 2.83L4 21.41c.39.39.9.59 1.41.59.51 0 1.02-.2 1.41-.59l7.78-7.78 2.81-2.81c.8-.78.8-2.07 0-2.86zM5.41 20L4 18.59l7.72-7.72 1.47 1.35L5.41 20z\"/>\n",
              "  </svg>\n",
              "      </button>\n",
              "      \n",
              "  <style>\n",
              "    .colab-df-container {\n",
              "      display:flex;\n",
              "      flex-wrap:wrap;\n",
              "      gap: 12px;\n",
              "    }\n",
              "\n",
              "    .colab-df-convert {\n",
              "      background-color: #E8F0FE;\n",
              "      border: none;\n",
              "      border-radius: 50%;\n",
              "      cursor: pointer;\n",
              "      display: none;\n",
              "      fill: #1967D2;\n",
              "      height: 32px;\n",
              "      padding: 0 0 0 0;\n",
              "      width: 32px;\n",
              "    }\n",
              "\n",
              "    .colab-df-convert:hover {\n",
              "      background-color: #E2EBFA;\n",
              "      box-shadow: 0px 1px 2px rgba(60, 64, 67, 0.3), 0px 1px 3px 1px rgba(60, 64, 67, 0.15);\n",
              "      fill: #174EA6;\n",
              "    }\n",
              "\n",
              "    [theme=dark] .colab-df-convert {\n",
              "      background-color: #3B4455;\n",
              "      fill: #D2E3FC;\n",
              "    }\n",
              "\n",
              "    [theme=dark] .colab-df-convert:hover {\n",
              "      background-color: #434B5C;\n",
              "      box-shadow: 0px 1px 3px 1px rgba(0, 0, 0, 0.15);\n",
              "      filter: drop-shadow(0px 1px 2px rgba(0, 0, 0, 0.3));\n",
              "      fill: #FFFFFF;\n",
              "    }\n",
              "  </style>\n",
              "\n",
              "      <script>\n",
              "        const buttonEl =\n",
              "          document.querySelector('#df-cc31283e-3a63-41bc-af3a-81d0e5899b05 button.colab-df-convert');\n",
              "        buttonEl.style.display =\n",
              "          google.colab.kernel.accessAllowed ? 'block' : 'none';\n",
              "\n",
              "        async function convertToInteractive(key) {\n",
              "          const element = document.querySelector('#df-cc31283e-3a63-41bc-af3a-81d0e5899b05');\n",
              "          const dataTable =\n",
              "            await google.colab.kernel.invokeFunction('convertToInteractive',\n",
              "                                                     [key], {});\n",
              "          if (!dataTable) return;\n",
              "\n",
              "          const docLinkHtml = 'Like what you see? Visit the ' +\n",
              "            '<a target=\"_blank\" href=https://colab.research.google.com/notebooks/data_table.ipynb>data table notebook</a>'\n",
              "            + ' to learn more about interactive tables.';\n",
              "          element.innerHTML = '';\n",
              "          dataTable['output_type'] = 'display_data';\n",
              "          await google.colab.output.renderOutput(dataTable, element);\n",
              "          const docLink = document.createElement('div');\n",
              "          docLink.innerHTML = docLinkHtml;\n",
              "          element.appendChild(docLink);\n",
              "        }\n",
              "      </script>\n",
              "    </div>\n",
              "  </div>\n",
              "  "
            ]
          },
          "metadata": {},
          "execution_count": 132
        }
      ]
    },
    {
      "cell_type": "markdown",
      "source": [
        "## DataFrame의 Indexing & Slicing\n",
        "- 여러 개의 행을 가지고 오고 싶은 경우에는 조건 인덱싱을 이용\n",
        "- 여러 개의 열을 가지고 오고 싶은 경우에는 팬시 인덱싱을 이용\n",
        "\n",
        "1. 조건 인덱싱 : 아래와 같이 조건문을 삽입하는 방법\n",
        "2. 팬시 인덱싱 : [ ] 안에 배열 혹은 리스트가 들어가는 방법"
      ],
      "metadata": {
        "id": "oIHBOyG3ywsN"
      }
    },
    {
      "cell_type": "code",
      "source": [
        "df3 > 10"
      ],
      "metadata": {
        "colab": {
          "base_uri": "https://localhost:8080/",
          "height": 238
        },
        "id": "A04VzI2Qw_k6",
        "outputId": "8e6653fc-f6cc-46b6-dd5c-82dc4ef71b04"
      },
      "execution_count": 133,
      "outputs": [
        {
          "output_type": "execute_result",
          "data": {
            "text/plain": [
              "       X1     X2     X3\n",
              "A1  False  False  False\n",
              "A2  False  False  False\n",
              "A3  False  False  False\n",
              "A4  False  False   True\n",
              "A5   True   True   True\n",
              "A6   True   True   True"
            ],
            "text/html": [
              "\n",
              "  <div id=\"df-24cd19a7-d1ef-4917-b417-b9d68cee64ba\">\n",
              "    <div class=\"colab-df-container\">\n",
              "      <div>\n",
              "<style scoped>\n",
              "    .dataframe tbody tr th:only-of-type {\n",
              "        vertical-align: middle;\n",
              "    }\n",
              "\n",
              "    .dataframe tbody tr th {\n",
              "        vertical-align: top;\n",
              "    }\n",
              "\n",
              "    .dataframe thead th {\n",
              "        text-align: right;\n",
              "    }\n",
              "</style>\n",
              "<table border=\"1\" class=\"dataframe\">\n",
              "  <thead>\n",
              "    <tr style=\"text-align: right;\">\n",
              "      <th></th>\n",
              "      <th>X1</th>\n",
              "      <th>X2</th>\n",
              "      <th>X3</th>\n",
              "    </tr>\n",
              "  </thead>\n",
              "  <tbody>\n",
              "    <tr>\n",
              "      <th>A1</th>\n",
              "      <td>False</td>\n",
              "      <td>False</td>\n",
              "      <td>False</td>\n",
              "    </tr>\n",
              "    <tr>\n",
              "      <th>A2</th>\n",
              "      <td>False</td>\n",
              "      <td>False</td>\n",
              "      <td>False</td>\n",
              "    </tr>\n",
              "    <tr>\n",
              "      <th>A3</th>\n",
              "      <td>False</td>\n",
              "      <td>False</td>\n",
              "      <td>False</td>\n",
              "    </tr>\n",
              "    <tr>\n",
              "      <th>A4</th>\n",
              "      <td>False</td>\n",
              "      <td>False</td>\n",
              "      <td>True</td>\n",
              "    </tr>\n",
              "    <tr>\n",
              "      <th>A5</th>\n",
              "      <td>True</td>\n",
              "      <td>True</td>\n",
              "      <td>True</td>\n",
              "    </tr>\n",
              "    <tr>\n",
              "      <th>A6</th>\n",
              "      <td>True</td>\n",
              "      <td>True</td>\n",
              "      <td>True</td>\n",
              "    </tr>\n",
              "  </tbody>\n",
              "</table>\n",
              "</div>\n",
              "      <button class=\"colab-df-convert\" onclick=\"convertToInteractive('df-24cd19a7-d1ef-4917-b417-b9d68cee64ba')\"\n",
              "              title=\"Convert this dataframe to an interactive table.\"\n",
              "              style=\"display:none;\">\n",
              "        \n",
              "  <svg xmlns=\"http://www.w3.org/2000/svg\" height=\"24px\"viewBox=\"0 0 24 24\"\n",
              "       width=\"24px\">\n",
              "    <path d=\"M0 0h24v24H0V0z\" fill=\"none\"/>\n",
              "    <path d=\"M18.56 5.44l.94 2.06.94-2.06 2.06-.94-2.06-.94-.94-2.06-.94 2.06-2.06.94zm-11 1L8.5 8.5l.94-2.06 2.06-.94-2.06-.94L8.5 2.5l-.94 2.06-2.06.94zm10 10l.94 2.06.94-2.06 2.06-.94-2.06-.94-.94-2.06-.94 2.06-2.06.94z\"/><path d=\"M17.41 7.96l-1.37-1.37c-.4-.4-.92-.59-1.43-.59-.52 0-1.04.2-1.43.59L10.3 9.45l-7.72 7.72c-.78.78-.78 2.05 0 2.83L4 21.41c.39.39.9.59 1.41.59.51 0 1.02-.2 1.41-.59l7.78-7.78 2.81-2.81c.8-.78.8-2.07 0-2.86zM5.41 20L4 18.59l7.72-7.72 1.47 1.35L5.41 20z\"/>\n",
              "  </svg>\n",
              "      </button>\n",
              "      \n",
              "  <style>\n",
              "    .colab-df-container {\n",
              "      display:flex;\n",
              "      flex-wrap:wrap;\n",
              "      gap: 12px;\n",
              "    }\n",
              "\n",
              "    .colab-df-convert {\n",
              "      background-color: #E8F0FE;\n",
              "      border: none;\n",
              "      border-radius: 50%;\n",
              "      cursor: pointer;\n",
              "      display: none;\n",
              "      fill: #1967D2;\n",
              "      height: 32px;\n",
              "      padding: 0 0 0 0;\n",
              "      width: 32px;\n",
              "    }\n",
              "\n",
              "    .colab-df-convert:hover {\n",
              "      background-color: #E2EBFA;\n",
              "      box-shadow: 0px 1px 2px rgba(60, 64, 67, 0.3), 0px 1px 3px 1px rgba(60, 64, 67, 0.15);\n",
              "      fill: #174EA6;\n",
              "    }\n",
              "\n",
              "    [theme=dark] .colab-df-convert {\n",
              "      background-color: #3B4455;\n",
              "      fill: #D2E3FC;\n",
              "    }\n",
              "\n",
              "    [theme=dark] .colab-df-convert:hover {\n",
              "      background-color: #434B5C;\n",
              "      box-shadow: 0px 1px 3px 1px rgba(0, 0, 0, 0.15);\n",
              "      filter: drop-shadow(0px 1px 2px rgba(0, 0, 0, 0.3));\n",
              "      fill: #FFFFFF;\n",
              "    }\n",
              "  </style>\n",
              "\n",
              "      <script>\n",
              "        const buttonEl =\n",
              "          document.querySelector('#df-24cd19a7-d1ef-4917-b417-b9d68cee64ba button.colab-df-convert');\n",
              "        buttonEl.style.display =\n",
              "          google.colab.kernel.accessAllowed ? 'block' : 'none';\n",
              "\n",
              "        async function convertToInteractive(key) {\n",
              "          const element = document.querySelector('#df-24cd19a7-d1ef-4917-b417-b9d68cee64ba');\n",
              "          const dataTable =\n",
              "            await google.colab.kernel.invokeFunction('convertToInteractive',\n",
              "                                                     [key], {});\n",
              "          if (!dataTable) return;\n",
              "\n",
              "          const docLinkHtml = 'Like what you see? Visit the ' +\n",
              "            '<a target=\"_blank\" href=https://colab.research.google.com/notebooks/data_table.ipynb>data table notebook</a>'\n",
              "            + ' to learn more about interactive tables.';\n",
              "          element.innerHTML = '';\n",
              "          dataTable['output_type'] = 'display_data';\n",
              "          await google.colab.output.renderOutput(dataTable, element);\n",
              "          const docLink = document.createElement('div');\n",
              "          docLink.innerHTML = docLinkHtml;\n",
              "          element.appendChild(docLink);\n",
              "        }\n",
              "      </script>\n",
              "    </div>\n",
              "  </div>\n",
              "  "
            ]
          },
          "metadata": {},
          "execution_count": 133
        }
      ]
    },
    {
      "cell_type": "code",
      "source": [
        "df3[df3 > 10]"
      ],
      "metadata": {
        "colab": {
          "base_uri": "https://localhost:8080/",
          "height": 238
        },
        "id": "zIkUkIbWxB-j",
        "outputId": "b3e40f63-085e-4514-a910-5c3b40832efd"
      },
      "execution_count": 134,
      "outputs": [
        {
          "output_type": "execute_result",
          "data": {
            "text/plain": [
              "      X1    X2    X3\n",
              "A1   NaN   NaN   NaN\n",
              "A2   NaN   NaN   NaN\n",
              "A3   NaN   NaN   NaN\n",
              "A4   NaN   NaN  11.0\n",
              "A5  12.0  13.0  14.0\n",
              "A6  15.0  16.0  17.0"
            ],
            "text/html": [
              "\n",
              "  <div id=\"df-e7e967f5-50b4-421e-a29f-cd6aa6cb1e6a\">\n",
              "    <div class=\"colab-df-container\">\n",
              "      <div>\n",
              "<style scoped>\n",
              "    .dataframe tbody tr th:only-of-type {\n",
              "        vertical-align: middle;\n",
              "    }\n",
              "\n",
              "    .dataframe tbody tr th {\n",
              "        vertical-align: top;\n",
              "    }\n",
              "\n",
              "    .dataframe thead th {\n",
              "        text-align: right;\n",
              "    }\n",
              "</style>\n",
              "<table border=\"1\" class=\"dataframe\">\n",
              "  <thead>\n",
              "    <tr style=\"text-align: right;\">\n",
              "      <th></th>\n",
              "      <th>X1</th>\n",
              "      <th>X2</th>\n",
              "      <th>X3</th>\n",
              "    </tr>\n",
              "  </thead>\n",
              "  <tbody>\n",
              "    <tr>\n",
              "      <th>A1</th>\n",
              "      <td>NaN</td>\n",
              "      <td>NaN</td>\n",
              "      <td>NaN</td>\n",
              "    </tr>\n",
              "    <tr>\n",
              "      <th>A2</th>\n",
              "      <td>NaN</td>\n",
              "      <td>NaN</td>\n",
              "      <td>NaN</td>\n",
              "    </tr>\n",
              "    <tr>\n",
              "      <th>A3</th>\n",
              "      <td>NaN</td>\n",
              "      <td>NaN</td>\n",
              "      <td>NaN</td>\n",
              "    </tr>\n",
              "    <tr>\n",
              "      <th>A4</th>\n",
              "      <td>NaN</td>\n",
              "      <td>NaN</td>\n",
              "      <td>11.0</td>\n",
              "    </tr>\n",
              "    <tr>\n",
              "      <th>A5</th>\n",
              "      <td>12.0</td>\n",
              "      <td>13.0</td>\n",
              "      <td>14.0</td>\n",
              "    </tr>\n",
              "    <tr>\n",
              "      <th>A6</th>\n",
              "      <td>15.0</td>\n",
              "      <td>16.0</td>\n",
              "      <td>17.0</td>\n",
              "    </tr>\n",
              "  </tbody>\n",
              "</table>\n",
              "</div>\n",
              "      <button class=\"colab-df-convert\" onclick=\"convertToInteractive('df-e7e967f5-50b4-421e-a29f-cd6aa6cb1e6a')\"\n",
              "              title=\"Convert this dataframe to an interactive table.\"\n",
              "              style=\"display:none;\">\n",
              "        \n",
              "  <svg xmlns=\"http://www.w3.org/2000/svg\" height=\"24px\"viewBox=\"0 0 24 24\"\n",
              "       width=\"24px\">\n",
              "    <path d=\"M0 0h24v24H0V0z\" fill=\"none\"/>\n",
              "    <path d=\"M18.56 5.44l.94 2.06.94-2.06 2.06-.94-2.06-.94-.94-2.06-.94 2.06-2.06.94zm-11 1L8.5 8.5l.94-2.06 2.06-.94-2.06-.94L8.5 2.5l-.94 2.06-2.06.94zm10 10l.94 2.06.94-2.06 2.06-.94-2.06-.94-.94-2.06-.94 2.06-2.06.94z\"/><path d=\"M17.41 7.96l-1.37-1.37c-.4-.4-.92-.59-1.43-.59-.52 0-1.04.2-1.43.59L10.3 9.45l-7.72 7.72c-.78.78-.78 2.05 0 2.83L4 21.41c.39.39.9.59 1.41.59.51 0 1.02-.2 1.41-.59l7.78-7.78 2.81-2.81c.8-.78.8-2.07 0-2.86zM5.41 20L4 18.59l7.72-7.72 1.47 1.35L5.41 20z\"/>\n",
              "  </svg>\n",
              "      </button>\n",
              "      \n",
              "  <style>\n",
              "    .colab-df-container {\n",
              "      display:flex;\n",
              "      flex-wrap:wrap;\n",
              "      gap: 12px;\n",
              "    }\n",
              "\n",
              "    .colab-df-convert {\n",
              "      background-color: #E8F0FE;\n",
              "      border: none;\n",
              "      border-radius: 50%;\n",
              "      cursor: pointer;\n",
              "      display: none;\n",
              "      fill: #1967D2;\n",
              "      height: 32px;\n",
              "      padding: 0 0 0 0;\n",
              "      width: 32px;\n",
              "    }\n",
              "\n",
              "    .colab-df-convert:hover {\n",
              "      background-color: #E2EBFA;\n",
              "      box-shadow: 0px 1px 2px rgba(60, 64, 67, 0.3), 0px 1px 3px 1px rgba(60, 64, 67, 0.15);\n",
              "      fill: #174EA6;\n",
              "    }\n",
              "\n",
              "    [theme=dark] .colab-df-convert {\n",
              "      background-color: #3B4455;\n",
              "      fill: #D2E3FC;\n",
              "    }\n",
              "\n",
              "    [theme=dark] .colab-df-convert:hover {\n",
              "      background-color: #434B5C;\n",
              "      box-shadow: 0px 1px 3px 1px rgba(0, 0, 0, 0.15);\n",
              "      filter: drop-shadow(0px 1px 2px rgba(0, 0, 0, 0.3));\n",
              "      fill: #FFFFFF;\n",
              "    }\n",
              "  </style>\n",
              "\n",
              "      <script>\n",
              "        const buttonEl =\n",
              "          document.querySelector('#df-e7e967f5-50b4-421e-a29f-cd6aa6cb1e6a button.colab-df-convert');\n",
              "        buttonEl.style.display =\n",
              "          google.colab.kernel.accessAllowed ? 'block' : 'none';\n",
              "\n",
              "        async function convertToInteractive(key) {\n",
              "          const element = document.querySelector('#df-e7e967f5-50b4-421e-a29f-cd6aa6cb1e6a');\n",
              "          const dataTable =\n",
              "            await google.colab.kernel.invokeFunction('convertToInteractive',\n",
              "                                                     [key], {});\n",
              "          if (!dataTable) return;\n",
              "\n",
              "          const docLinkHtml = 'Like what you see? Visit the ' +\n",
              "            '<a target=\"_blank\" href=https://colab.research.google.com/notebooks/data_table.ipynb>data table notebook</a>'\n",
              "            + ' to learn more about interactive tables.';\n",
              "          element.innerHTML = '';\n",
              "          dataTable['output_type'] = 'display_data';\n",
              "          await google.colab.output.renderOutput(dataTable, element);\n",
              "          const docLink = document.createElement('div');\n",
              "          docLink.innerHTML = docLinkHtml;\n",
              "          element.appendChild(docLink);\n",
              "        }\n",
              "      </script>\n",
              "    </div>\n",
              "  </div>\n",
              "  "
            ]
          },
          "metadata": {},
          "execution_count": 134
        }
      ]
    },
    {
      "cell_type": "code",
      "source": [
        "df3[['X1', 'X3']] # 팬시 인덱싱"
      ],
      "metadata": {
        "colab": {
          "base_uri": "https://localhost:8080/",
          "height": 238
        },
        "id": "pS2a5u1bxL3P",
        "outputId": "12f517f1-7123-409f-fa5a-f2b92a91bb28"
      },
      "execution_count": 135,
      "outputs": [
        {
          "output_type": "execute_result",
          "data": {
            "text/plain": [
              "    X1  X3\n",
              "A1   1   3\n",
              "A2   4   6\n",
              "A3   7   9\n",
              "A4   9  11\n",
              "A5  12  14\n",
              "A6  15  17"
            ],
            "text/html": [
              "\n",
              "  <div id=\"df-797ca653-d700-4a64-829b-f0ecd8bcec87\">\n",
              "    <div class=\"colab-df-container\">\n",
              "      <div>\n",
              "<style scoped>\n",
              "    .dataframe tbody tr th:only-of-type {\n",
              "        vertical-align: middle;\n",
              "    }\n",
              "\n",
              "    .dataframe tbody tr th {\n",
              "        vertical-align: top;\n",
              "    }\n",
              "\n",
              "    .dataframe thead th {\n",
              "        text-align: right;\n",
              "    }\n",
              "</style>\n",
              "<table border=\"1\" class=\"dataframe\">\n",
              "  <thead>\n",
              "    <tr style=\"text-align: right;\">\n",
              "      <th></th>\n",
              "      <th>X1</th>\n",
              "      <th>X3</th>\n",
              "    </tr>\n",
              "  </thead>\n",
              "  <tbody>\n",
              "    <tr>\n",
              "      <th>A1</th>\n",
              "      <td>1</td>\n",
              "      <td>3</td>\n",
              "    </tr>\n",
              "    <tr>\n",
              "      <th>A2</th>\n",
              "      <td>4</td>\n",
              "      <td>6</td>\n",
              "    </tr>\n",
              "    <tr>\n",
              "      <th>A3</th>\n",
              "      <td>7</td>\n",
              "      <td>9</td>\n",
              "    </tr>\n",
              "    <tr>\n",
              "      <th>A4</th>\n",
              "      <td>9</td>\n",
              "      <td>11</td>\n",
              "    </tr>\n",
              "    <tr>\n",
              "      <th>A5</th>\n",
              "      <td>12</td>\n",
              "      <td>14</td>\n",
              "    </tr>\n",
              "    <tr>\n",
              "      <th>A6</th>\n",
              "      <td>15</td>\n",
              "      <td>17</td>\n",
              "    </tr>\n",
              "  </tbody>\n",
              "</table>\n",
              "</div>\n",
              "      <button class=\"colab-df-convert\" onclick=\"convertToInteractive('df-797ca653-d700-4a64-829b-f0ecd8bcec87')\"\n",
              "              title=\"Convert this dataframe to an interactive table.\"\n",
              "              style=\"display:none;\">\n",
              "        \n",
              "  <svg xmlns=\"http://www.w3.org/2000/svg\" height=\"24px\"viewBox=\"0 0 24 24\"\n",
              "       width=\"24px\">\n",
              "    <path d=\"M0 0h24v24H0V0z\" fill=\"none\"/>\n",
              "    <path d=\"M18.56 5.44l.94 2.06.94-2.06 2.06-.94-2.06-.94-.94-2.06-.94 2.06-2.06.94zm-11 1L8.5 8.5l.94-2.06 2.06-.94-2.06-.94L8.5 2.5l-.94 2.06-2.06.94zm10 10l.94 2.06.94-2.06 2.06-.94-2.06-.94-.94-2.06-.94 2.06-2.06.94z\"/><path d=\"M17.41 7.96l-1.37-1.37c-.4-.4-.92-.59-1.43-.59-.52 0-1.04.2-1.43.59L10.3 9.45l-7.72 7.72c-.78.78-.78 2.05 0 2.83L4 21.41c.39.39.9.59 1.41.59.51 0 1.02-.2 1.41-.59l7.78-7.78 2.81-2.81c.8-.78.8-2.07 0-2.86zM5.41 20L4 18.59l7.72-7.72 1.47 1.35L5.41 20z\"/>\n",
              "  </svg>\n",
              "      </button>\n",
              "      \n",
              "  <style>\n",
              "    .colab-df-container {\n",
              "      display:flex;\n",
              "      flex-wrap:wrap;\n",
              "      gap: 12px;\n",
              "    }\n",
              "\n",
              "    .colab-df-convert {\n",
              "      background-color: #E8F0FE;\n",
              "      border: none;\n",
              "      border-radius: 50%;\n",
              "      cursor: pointer;\n",
              "      display: none;\n",
              "      fill: #1967D2;\n",
              "      height: 32px;\n",
              "      padding: 0 0 0 0;\n",
              "      width: 32px;\n",
              "    }\n",
              "\n",
              "    .colab-df-convert:hover {\n",
              "      background-color: #E2EBFA;\n",
              "      box-shadow: 0px 1px 2px rgba(60, 64, 67, 0.3), 0px 1px 3px 1px rgba(60, 64, 67, 0.15);\n",
              "      fill: #174EA6;\n",
              "    }\n",
              "\n",
              "    [theme=dark] .colab-df-convert {\n",
              "      background-color: #3B4455;\n",
              "      fill: #D2E3FC;\n",
              "    }\n",
              "\n",
              "    [theme=dark] .colab-df-convert:hover {\n",
              "      background-color: #434B5C;\n",
              "      box-shadow: 0px 1px 3px 1px rgba(0, 0, 0, 0.15);\n",
              "      filter: drop-shadow(0px 1px 2px rgba(0, 0, 0, 0.3));\n",
              "      fill: #FFFFFF;\n",
              "    }\n",
              "  </style>\n",
              "\n",
              "      <script>\n",
              "        const buttonEl =\n",
              "          document.querySelector('#df-797ca653-d700-4a64-829b-f0ecd8bcec87 button.colab-df-convert');\n",
              "        buttonEl.style.display =\n",
              "          google.colab.kernel.accessAllowed ? 'block' : 'none';\n",
              "\n",
              "        async function convertToInteractive(key) {\n",
              "          const element = document.querySelector('#df-797ca653-d700-4a64-829b-f0ecd8bcec87');\n",
              "          const dataTable =\n",
              "            await google.colab.kernel.invokeFunction('convertToInteractive',\n",
              "                                                     [key], {});\n",
              "          if (!dataTable) return;\n",
              "\n",
              "          const docLinkHtml = 'Like what you see? Visit the ' +\n",
              "            '<a target=\"_blank\" href=https://colab.research.google.com/notebooks/data_table.ipynb>data table notebook</a>'\n",
              "            + ' to learn more about interactive tables.';\n",
              "          element.innerHTML = '';\n",
              "          dataTable['output_type'] = 'display_data';\n",
              "          await google.colab.output.renderOutput(dataTable, element);\n",
              "          const docLink = document.createElement('div');\n",
              "          docLink.innerHTML = docLinkHtml;\n",
              "          element.appendChild(docLink);\n",
              "        }\n",
              "      </script>\n",
              "    </div>\n",
              "  </div>\n",
              "  "
            ]
          },
          "metadata": {},
          "execution_count": 135
        }
      ]
    },
    {
      "cell_type": "markdown",
      "source": [
        "## 과제"
      ],
      "metadata": {
        "id": "mUeyllv9z8yl"
      }
    },
    {
      "cell_type": "markdown",
      "source": [
        "1. 1부터 100까지 2씩 증가하는 numpy ndarray 타입의 배열을 만들고 dst에 저장하라"
      ],
      "metadata": {
        "id": "YX2wWhao0DHu"
      }
    },
    {
      "cell_type": "code",
      "source": [
        "# dst = np.arange(start, stop, step)\n",
        "# dst "
      ],
      "metadata": {
        "id": "G2iQ1Ow9zL_9"
      },
      "execution_count": 139,
      "outputs": []
    },
    {
      "cell_type": "markdown",
      "source": [
        "2. dst 배열의 차원을 출력\n",
        "\n"
      ],
      "metadata": {
        "id": "Asyj0pPv0Vza"
      }
    },
    {
      "cell_type": "code",
      "source": [
        ""
      ],
      "metadata": {
        "colab": {
          "base_uri": "https://localhost:8080/"
        },
        "id": "6wJp6o_P0KXH",
        "outputId": "fac0fc2e-176d-4751-d64b-95398ed2cf87"
      },
      "execution_count": 141,
      "outputs": [
        {
          "output_type": "execute_result",
          "data": {
            "text/plain": [
              "(50,)"
            ]
          },
          "metadata": {},
          "execution_count": 141
        }
      ]
    },
    {
      "cell_type": "markdown",
      "source": [
        "3-1. dst의 모양을 5개의 행과 10개의 열을 가진 형태로 변경\n",
        "3-2. dst의 모양을 3차원 형태로 변경 (형태는 자유 3차원이기만 하면 됨) "
      ],
      "metadata": {
        "id": "DM0ky-Zu0oSC"
      }
    },
    {
      "cell_type": "code",
      "source": [
        ""
      ],
      "metadata": {
        "colab": {
          "base_uri": "https://localhost:8080/"
        },
        "id": "q9MiJODo0i7t",
        "outputId": "2482759f-a6dc-40d4-c1c6-eb3eda25857b"
      },
      "execution_count": 144,
      "outputs": [
        {
          "output_type": "execute_result",
          "data": {
            "text/plain": [
              "array([[ 1,  3,  5,  7,  9, 11, 13, 15, 17, 19],\n",
              "       [21, 23, 25, 27, 29, 31, 33, 35, 37, 39],\n",
              "       [41, 43, 45, 47, 49, 51, 53, 55, 57, 59],\n",
              "       [61, 63, 65, 67, 69, 71, 73, 75, 77, 79],\n",
              "       [81, 83, 85, 87, 89, 91, 93, 95, 97, 99]])"
            ]
          },
          "metadata": {},
          "execution_count": 144
        }
      ]
    },
    {
      "cell_type": "code",
      "source": [
        ""
      ],
      "metadata": {
        "colab": {
          "base_uri": "https://localhost:8080/"
        },
        "id": "jMy_6v6a0mDk",
        "outputId": "7af85bbb-0470-4d71-8f8c-6a1ceb47352f"
      },
      "execution_count": 146,
      "outputs": [
        {
          "output_type": "execute_result",
          "data": {
            "text/plain": [
              "array([[[ 1,  3,  5,  7,  9],\n",
              "        [11, 13, 15, 17, 19],\n",
              "        [21, 23, 25, 27, 29],\n",
              "        [31, 33, 35, 37, 39],\n",
              "        [41, 43, 45, 47, 49]],\n",
              "\n",
              "       [[51, 53, 55, 57, 59],\n",
              "        [61, 63, 65, 67, 69],\n",
              "        [71, 73, 75, 77, 79],\n",
              "        [81, 83, 85, 87, 89],\n",
              "        [91, 93, 95, 97, 99]]])"
            ]
          },
          "metadata": {},
          "execution_count": 146
        }
      ]
    },
    {
      "cell_type": "markdown",
      "source": [
        "4. 다음과 같은 연산이 어떻게 수행되는지 서술하기.\n",
        "\n",
        "`정답 : ` "
      ],
      "metadata": {
        "id": "HPbic3jC1UvC"
      }
    },
    {
      "cell_type": "code",
      "source": [
        "a1 = np.arange(10).reshape(10,1)\n",
        "a1"
      ],
      "metadata": {
        "colab": {
          "base_uri": "https://localhost:8080/"
        },
        "id": "WSZqcDuU1Bxc",
        "outputId": "e883a15d-d5fa-4353-abb6-e213a5aec90a"
      },
      "execution_count": 151,
      "outputs": [
        {
          "output_type": "execute_result",
          "data": {
            "text/plain": [
              "array([[0],\n",
              "       [1],\n",
              "       [2],\n",
              "       [3],\n",
              "       [4],\n",
              "       [5],\n",
              "       [6],\n",
              "       [7],\n",
              "       [8],\n",
              "       [9]])"
            ]
          },
          "metadata": {},
          "execution_count": 151
        }
      ]
    },
    {
      "cell_type": "code",
      "source": [
        "a2 = np.arange(10).reshape(1,10)\n",
        "a2"
      ],
      "metadata": {
        "colab": {
          "base_uri": "https://localhost:8080/"
        },
        "id": "o6qSNu6M1hgg",
        "outputId": "6640eae6-43b9-4904-ce7b-de8fc7a8df14"
      },
      "execution_count": 152,
      "outputs": [
        {
          "output_type": "execute_result",
          "data": {
            "text/plain": [
              "array([[0, 1, 2, 3, 4, 5, 6, 7, 8, 9]])"
            ]
          },
          "metadata": {},
          "execution_count": 152
        }
      ]
    },
    {
      "cell_type": "code",
      "source": [
        "a1 + a2"
      ],
      "metadata": {
        "colab": {
          "base_uri": "https://localhost:8080/"
        },
        "id": "gxp6UhJX1le-",
        "outputId": "499e7edf-2efc-4e3f-c442-b7a9d98da73e"
      },
      "execution_count": 153,
      "outputs": [
        {
          "output_type": "execute_result",
          "data": {
            "text/plain": [
              "array([[ 0,  1,  2,  3,  4,  5,  6,  7,  8,  9],\n",
              "       [ 1,  2,  3,  4,  5,  6,  7,  8,  9, 10],\n",
              "       [ 2,  3,  4,  5,  6,  7,  8,  9, 10, 11],\n",
              "       [ 3,  4,  5,  6,  7,  8,  9, 10, 11, 12],\n",
              "       [ 4,  5,  6,  7,  8,  9, 10, 11, 12, 13],\n",
              "       [ 5,  6,  7,  8,  9, 10, 11, 12, 13, 14],\n",
              "       [ 6,  7,  8,  9, 10, 11, 12, 13, 14, 15],\n",
              "       [ 7,  8,  9, 10, 11, 12, 13, 14, 15, 16],\n",
              "       [ 8,  9, 10, 11, 12, 13, 14, 15, 16, 17],\n",
              "       [ 9, 10, 11, 12, 13, 14, 15, 16, 17, 18]])"
            ]
          },
          "metadata": {},
          "execution_count": 153
        }
      ]
    },
    {
      "cell_type": "markdown",
      "source": [
        "5. 다음 Numpy ndarray의 dst DataFrame으로 변환하시오"
      ],
      "metadata": {
        "id": "0zKWVVC71xdy"
      }
    },
    {
      "cell_type": "code",
      "source": [
        "dst = np.arange(1, 60, 3).reshape(4, -1)\n",
        "dst "
      ],
      "metadata": {
        "colab": {
          "base_uri": "https://localhost:8080/"
        },
        "id": "ovIreKir2Lii",
        "outputId": "9a0d06d2-a40f-4ebb-cc6f-b1b6c07a94f3"
      },
      "execution_count": 172,
      "outputs": [
        {
          "output_type": "execute_result",
          "data": {
            "text/plain": [
              "array([[ 1,  4,  7, 10, 13],\n",
              "       [16, 19, 22, 25, 28],\n",
              "       [31, 34, 37, 40, 43],\n",
              "       [46, 49, 52, 55, 58]])"
            ]
          },
          "metadata": {},
          "execution_count": 172
        }
      ]
    },
    {
      "cell_type": "code",
      "source": [
        ""
      ],
      "metadata": {
        "colab": {
          "base_uri": "https://localhost:8080/",
          "height": 175
        },
        "id": "Rw6pn9OG1oeE",
        "outputId": "5ab6cd6b-9154-4b72-e159-238140ad1dc6"
      },
      "execution_count": 173,
      "outputs": [
        {
          "output_type": "execute_result",
          "data": {
            "text/plain": [
              "    0   1   2   3   4\n",
              "0   1   4   7  10  13\n",
              "1  16  19  22  25  28\n",
              "2  31  34  37  40  43\n",
              "3  46  49  52  55  58"
            ],
            "text/html": [
              "\n",
              "  <div id=\"df-10818f88-3868-435b-b3e7-ab08d5b0bc19\">\n",
              "    <div class=\"colab-df-container\">\n",
              "      <div>\n",
              "<style scoped>\n",
              "    .dataframe tbody tr th:only-of-type {\n",
              "        vertical-align: middle;\n",
              "    }\n",
              "\n",
              "    .dataframe tbody tr th {\n",
              "        vertical-align: top;\n",
              "    }\n",
              "\n",
              "    .dataframe thead th {\n",
              "        text-align: right;\n",
              "    }\n",
              "</style>\n",
              "<table border=\"1\" class=\"dataframe\">\n",
              "  <thead>\n",
              "    <tr style=\"text-align: right;\">\n",
              "      <th></th>\n",
              "      <th>0</th>\n",
              "      <th>1</th>\n",
              "      <th>2</th>\n",
              "      <th>3</th>\n",
              "      <th>4</th>\n",
              "    </tr>\n",
              "  </thead>\n",
              "  <tbody>\n",
              "    <tr>\n",
              "      <th>0</th>\n",
              "      <td>1</td>\n",
              "      <td>4</td>\n",
              "      <td>7</td>\n",
              "      <td>10</td>\n",
              "      <td>13</td>\n",
              "    </tr>\n",
              "    <tr>\n",
              "      <th>1</th>\n",
              "      <td>16</td>\n",
              "      <td>19</td>\n",
              "      <td>22</td>\n",
              "      <td>25</td>\n",
              "      <td>28</td>\n",
              "    </tr>\n",
              "    <tr>\n",
              "      <th>2</th>\n",
              "      <td>31</td>\n",
              "      <td>34</td>\n",
              "      <td>37</td>\n",
              "      <td>40</td>\n",
              "      <td>43</td>\n",
              "    </tr>\n",
              "    <tr>\n",
              "      <th>3</th>\n",
              "      <td>46</td>\n",
              "      <td>49</td>\n",
              "      <td>52</td>\n",
              "      <td>55</td>\n",
              "      <td>58</td>\n",
              "    </tr>\n",
              "  </tbody>\n",
              "</table>\n",
              "</div>\n",
              "      <button class=\"colab-df-convert\" onclick=\"convertToInteractive('df-10818f88-3868-435b-b3e7-ab08d5b0bc19')\"\n",
              "              title=\"Convert this dataframe to an interactive table.\"\n",
              "              style=\"display:none;\">\n",
              "        \n",
              "  <svg xmlns=\"http://www.w3.org/2000/svg\" height=\"24px\"viewBox=\"0 0 24 24\"\n",
              "       width=\"24px\">\n",
              "    <path d=\"M0 0h24v24H0V0z\" fill=\"none\"/>\n",
              "    <path d=\"M18.56 5.44l.94 2.06.94-2.06 2.06-.94-2.06-.94-.94-2.06-.94 2.06-2.06.94zm-11 1L8.5 8.5l.94-2.06 2.06-.94-2.06-.94L8.5 2.5l-.94 2.06-2.06.94zm10 10l.94 2.06.94-2.06 2.06-.94-2.06-.94-.94-2.06-.94 2.06-2.06.94z\"/><path d=\"M17.41 7.96l-1.37-1.37c-.4-.4-.92-.59-1.43-.59-.52 0-1.04.2-1.43.59L10.3 9.45l-7.72 7.72c-.78.78-.78 2.05 0 2.83L4 21.41c.39.39.9.59 1.41.59.51 0 1.02-.2 1.41-.59l7.78-7.78 2.81-2.81c.8-.78.8-2.07 0-2.86zM5.41 20L4 18.59l7.72-7.72 1.47 1.35L5.41 20z\"/>\n",
              "  </svg>\n",
              "      </button>\n",
              "      \n",
              "  <style>\n",
              "    .colab-df-container {\n",
              "      display:flex;\n",
              "      flex-wrap:wrap;\n",
              "      gap: 12px;\n",
              "    }\n",
              "\n",
              "    .colab-df-convert {\n",
              "      background-color: #E8F0FE;\n",
              "      border: none;\n",
              "      border-radius: 50%;\n",
              "      cursor: pointer;\n",
              "      display: none;\n",
              "      fill: #1967D2;\n",
              "      height: 32px;\n",
              "      padding: 0 0 0 0;\n",
              "      width: 32px;\n",
              "    }\n",
              "\n",
              "    .colab-df-convert:hover {\n",
              "      background-color: #E2EBFA;\n",
              "      box-shadow: 0px 1px 2px rgba(60, 64, 67, 0.3), 0px 1px 3px 1px rgba(60, 64, 67, 0.15);\n",
              "      fill: #174EA6;\n",
              "    }\n",
              "\n",
              "    [theme=dark] .colab-df-convert {\n",
              "      background-color: #3B4455;\n",
              "      fill: #D2E3FC;\n",
              "    }\n",
              "\n",
              "    [theme=dark] .colab-df-convert:hover {\n",
              "      background-color: #434B5C;\n",
              "      box-shadow: 0px 1px 3px 1px rgba(0, 0, 0, 0.15);\n",
              "      filter: drop-shadow(0px 1px 2px rgba(0, 0, 0, 0.3));\n",
              "      fill: #FFFFFF;\n",
              "    }\n",
              "  </style>\n",
              "\n",
              "      <script>\n",
              "        const buttonEl =\n",
              "          document.querySelector('#df-10818f88-3868-435b-b3e7-ab08d5b0bc19 button.colab-df-convert');\n",
              "        buttonEl.style.display =\n",
              "          google.colab.kernel.accessAllowed ? 'block' : 'none';\n",
              "\n",
              "        async function convertToInteractive(key) {\n",
              "          const element = document.querySelector('#df-10818f88-3868-435b-b3e7-ab08d5b0bc19');\n",
              "          const dataTable =\n",
              "            await google.colab.kernel.invokeFunction('convertToInteractive',\n",
              "                                                     [key], {});\n",
              "          if (!dataTable) return;\n",
              "\n",
              "          const docLinkHtml = 'Like what you see? Visit the ' +\n",
              "            '<a target=\"_blank\" href=https://colab.research.google.com/notebooks/data_table.ipynb>data table notebook</a>'\n",
              "            + ' to learn more about interactive tables.';\n",
              "          element.innerHTML = '';\n",
              "          dataTable['output_type'] = 'display_data';\n",
              "          await google.colab.output.renderOutput(dataTable, element);\n",
              "          const docLink = document.createElement('div');\n",
              "          docLink.innerHTML = docLinkHtml;\n",
              "          element.appendChild(docLink);\n",
              "        }\n",
              "      </script>\n",
              "    </div>\n",
              "  </div>\n",
              "  "
            ]
          },
          "metadata": {},
          "execution_count": 173
        }
      ]
    },
    {
      "cell_type": "code",
      "source": [
        ""
      ],
      "metadata": {
        "id": "6ElkXhFc2GOZ"
      },
      "execution_count": null,
      "outputs": []
    }
  ]
}